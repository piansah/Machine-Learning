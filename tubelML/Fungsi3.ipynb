{
  "nbformat": 4,
  "nbformat_minor": 0,
  "metadata": {
    "colab": {
      "provenance": []
    },
    "kernelspec": {
      "name": "python3",
      "display_name": "Python 3"
    },
    "language_info": {
      "name": "python"
    }
  },
  "cells": [
    {
      "cell_type": "code",
      "execution_count": null,
      "metadata": {
        "id": "_0-3Ob7OVTZW"
      },
      "outputs": [],
      "source": [
        "#pip install pydub"
      ]
    },
    {
      "cell_type": "code",
      "source": [
        "#pip install librosa"
      ],
      "metadata": {
        "id": "io79O6kKVm7f"
      },
      "execution_count": null,
      "outputs": []
    },
    {
      "cell_type": "code",
      "source": [
        "import librosa\n",
        "import librosa.feature\n",
        "import librosa.display\n",
        "import glob\n",
        "import numpy as np\n",
        "import matplotlib.pyplot as plt\n",
        "import pydub\n",
        "import glob\n",
        "import matplotlib.pyplot as plt\n",
        "from pydub import AudioSegment"
      ],
      "metadata": {
        "id": "AoEuoSgrVonZ"
      },
      "execution_count": null,
      "outputs": []
    },
    {
      "cell_type": "code",
      "source": [
        "#!unzip anjing.zip"
      ],
      "metadata": {
        "id": "WuymzxVdVop-"
      },
      "execution_count": null,
      "outputs": []
    },
    {
      "cell_type": "code",
      "source": [
        "def read(f, normalized=False):\n",
        "    a = pydub.AudioSegment.from_mp3(f)\n",
        "    y = np.array(a.get_array_of_samples())\n",
        "    if a.channels == 2:\n",
        "        y = y.reshape((-1, 2))\n",
        "    if normalized:\n",
        "        return a.frame_rate, np.float32(y) / 2**15\n",
        "    else:\n",
        "        return a.frame_rate, y"
      ],
      "metadata": {
        "id": "rp2Kt9UUoxCC"
      },
      "execution_count": null,
      "outputs": []
    },
    {
      "cell_type": "code",
      "source": [
        "import glob\n",
        "from pydub import AudioSegment\n",
        "\n",
        "x = []\n",
        "y = []\n",
        "\n",
        "w=2\n",
        "st=1\n",
        "\n",
        "panjang=2\n",
        "s = 44100\n",
        "\n",
        "for file_path in glob.glob('/content/anjing/kesakitan/*.mp3'):\n",
        "  sr, audio = read(file_path,normalized=True)\n",
        "  for i in range(0,panjang-w+1,st):\n",
        "    potong =audio[i*s:(i+w)*s,0]\n",
        "    potong =librosa.feature.mfcc(potong)\n",
        "  x.append(potong)\n",
        "  y.append(0)\n",
        "\n",
        "for file_path in glob.glob('/content/anjing/ketakutan/*.mp3'):\n",
        "  sr, audio = read(file_path,normalized=True)\n",
        "  for i in range(0,panjang-w+1,st):\n",
        "    potong =audio[i*s:(i+w)*s,0]\n",
        "    potong =librosa.feature.mfcc(potong)\n",
        "  x.append(potong)\n",
        "  y.append(1)\n",
        "\n",
        "for file_path in glob.glob('/content/anjing/marah/*.mp3'):\n",
        "  sr, audio = read(file_path,normalized=True)\n",
        "  for i in range(0,panjang-w+1,st):\n",
        "    potong =audio[i*s:(i+w)*s,0]\n",
        "    potong =librosa.feature.mfcc(potong)\n",
        "  x.append(potong)\n",
        "  y.append(2)\n",
        "\n",
        "for file_path in glob.glob('/content/anjing/menangis/*.mp3'):\n",
        "  sr, audio = read(file_path,normalized=True)\n",
        "  for i in range(0,panjang-w+1,st):\n",
        "    potong =audio[i*s:(i+w)*s,0]\n",
        "    potong =librosa.feature.mfcc(potong)\n",
        "  x.append(potong)\n",
        "  y.append(3)\n",
        "\n",
        "for file_path in glob.glob('/content/anjing/sedih/*.mp3'):\n",
        "  sr, audio = read(file_path,normalized=True)\n",
        "  for i in range(0,panjang-w+1,st):\n",
        "    potong =audio[i*s:(i+w)*s,0]\n",
        "    potong =librosa.feature.mfcc(potong)\n",
        "  x.append(potong)\n",
        "  y.append(4)\n",
        "\n",
        "for file_path in glob.glob('/content/anjing/senang/*.mp3'):\n",
        "  sr, audio = read(file_path,normalized=True)\n",
        "  for i in range(0,panjang-w+1,st):\n",
        "    potong =audio[i*s:(i+w)*s,0]\n",
        "    potong =librosa.feature.mfcc(potong)\n",
        "  x.append(potong)\n",
        "  y.append(5)\n"
      ],
      "metadata": {
        "id": "h2HHzntmyzFU"
      },
      "execution_count": null,
      "outputs": []
    },
    {
      "cell_type": "code",
      "source": [
        "import random\n",
        "import numpy as np\n",
        "z = list(zip(x,y))\n",
        "random.shuffle(z)\n",
        "x,y = zip(*z)\n",
        "x = np.asarray(x)\n",
        "y = np.asarray(y)"
      ],
      "metadata": {
        "id": "eHjtIpFsWrSO"
      },
      "execution_count": null,
      "outputs": []
    },
    {
      "cell_type": "code",
      "source": [
        "print(x.shape)\n",
        "print(y.shape)"
      ],
      "metadata": {
        "id": "dKVmnMVa-zka",
        "colab": {
          "base_uri": "https://localhost:8080/"
        },
        "outputId": "060c72ce-2355-4056-8844-f673aea33159"
      },
      "execution_count": null,
      "outputs": [
        {
          "output_type": "stream",
          "name": "stdout",
          "text": [
            "(32, 20, 173)\n",
            "(32,)\n"
          ]
        }
      ]
    },
    {
      "cell_type": "code",
      "source": [
        "[_.shape for _ in x]"
      ],
      "metadata": {
        "id": "mtJSbZwOsWkm",
        "colab": {
          "base_uri": "https://localhost:8080/"
        },
        "outputId": "18bbf429-376e-42ff-8eec-dd1d92e9b9d4"
      },
      "execution_count": null,
      "outputs": [
        {
          "output_type": "execute_result",
          "data": {
            "text/plain": [
              "[(20, 173),\n",
              " (20, 173),\n",
              " (20, 173),\n",
              " (20, 173),\n",
              " (20, 173),\n",
              " (20, 173),\n",
              " (20, 173),\n",
              " (20, 173),\n",
              " (20, 173),\n",
              " (20, 173),\n",
              " (20, 173),\n",
              " (20, 173),\n",
              " (20, 173),\n",
              " (20, 173),\n",
              " (20, 173),\n",
              " (20, 173),\n",
              " (20, 173),\n",
              " (20, 173),\n",
              " (20, 173),\n",
              " (20, 173),\n",
              " (20, 173),\n",
              " (20, 173),\n",
              " (20, 173),\n",
              " (20, 173),\n",
              " (20, 173),\n",
              " (20, 173),\n",
              " (20, 173),\n",
              " (20, 173),\n",
              " (20, 173),\n",
              " (20, 173),\n",
              " (20, 173),\n",
              " (20, 173)]"
            ]
          },
          "metadata": {},
          "execution_count": 98
        }
      ]
    },
    {
      "cell_type": "code",
      "source": [
        "from keras.models import Sequential\n",
        "from keras.layers import Flatten,Dense,Conv1D,MaxPooling1D\n",
        "\n",
        "model=Sequential()\n",
        "model.add(Conv1D(12,3,input_shape=x.shape[1:],activation='relu'))\n",
        "model.add(MaxPooling1D(2))\n",
        "model.add(Conv1D(6,3,activation='relu'))\n",
        "model.add(MaxPooling1D(2))\n",
        "\n",
        "model.add(Flatten())\n",
        "model.add(Dense(8,activation='relu'))\n",
        "model.add(Dense(6,activation='softmax'))\n",
        "model.compile(optimizer=\"adam\",loss=\"sparse_categorical_crossentropy\",metrics=['accuracy'])\n",
        "model.summary()"
      ],
      "metadata": {
        "id": "sENcTCmr-s2r",
        "colab": {
          "base_uri": "https://localhost:8080/"
        },
        "outputId": "197fdac2-6dcf-417c-9041-88872226a903"
      },
      "execution_count": null,
      "outputs": [
        {
          "output_type": "stream",
          "name": "stdout",
          "text": [
            "Model: \"sequential_4\"\n",
            "_________________________________________________________________\n",
            " Layer (type)                Output Shape              Param #   \n",
            "=================================================================\n",
            " conv1d_8 (Conv1D)           (None, 18, 12)            6240      \n",
            "                                                                 \n",
            " max_pooling1d_8 (MaxPooling  (None, 9, 12)            0         \n",
            " 1D)                                                             \n",
            "                                                                 \n",
            " conv1d_9 (Conv1D)           (None, 7, 6)              222       \n",
            "                                                                 \n",
            " max_pooling1d_9 (MaxPooling  (None, 3, 6)             0         \n",
            " 1D)                                                             \n",
            "                                                                 \n",
            " flatten_4 (Flatten)         (None, 18)                0         \n",
            "                                                                 \n",
            " dense_8 (Dense)             (None, 8)                 152       \n",
            "                                                                 \n",
            " dense_9 (Dense)             (None, 6)                 54        \n",
            "                                                                 \n",
            "=================================================================\n",
            "Total params: 6,668\n",
            "Trainable params: 6,668\n",
            "Non-trainable params: 0\n",
            "_________________________________________________________________\n"
          ]
        }
      ]
    },
    {
      "cell_type": "code",
      "source": [
        "history = model.fit(x,y,batch_size=2,epochs=100,validation_split=0.2)"
      ],
      "metadata": {
        "id": "gQWJI5EgbFU2",
        "colab": {
          "base_uri": "https://localhost:8080/"
        },
        "outputId": "8e667762-acd7-4642-f9a5-39fe2cb35c40"
      },
      "execution_count": null,
      "outputs": [
        {
          "output_type": "stream",
          "name": "stdout",
          "text": [
            "Epoch 1/100\n",
            "13/13 [==============================] - 1s 14ms/step - loss: 16.0120 - accuracy: 0.1600 - val_loss: 10.0639 - val_accuracy: 0.1429\n",
            "Epoch 2/100\n",
            "13/13 [==============================] - 0s 3ms/step - loss: 4.4333 - accuracy: 0.4400 - val_loss: 8.9867 - val_accuracy: 0.0000e+00\n",
            "Epoch 3/100\n",
            "13/13 [==============================] - 0s 5ms/step - loss: 1.8742 - accuracy: 0.6000 - val_loss: 2.2128 - val_accuracy: 0.4286\n",
            "Epoch 4/100\n",
            "13/13 [==============================] - 0s 3ms/step - loss: 0.8968 - accuracy: 0.6400 - val_loss: 2.6861 - val_accuracy: 0.1429\n",
            "Epoch 5/100\n",
            "13/13 [==============================] - 0s 3ms/step - loss: 0.8399 - accuracy: 0.6800 - val_loss: 1.4596 - val_accuracy: 0.7143\n",
            "Epoch 6/100\n",
            "13/13 [==============================] - 0s 3ms/step - loss: 0.5011 - accuracy: 0.7200 - val_loss: 1.7114 - val_accuracy: 0.7143\n",
            "Epoch 7/100\n",
            "13/13 [==============================] - 0s 3ms/step - loss: 0.4025 - accuracy: 0.8000 - val_loss: 1.6730 - val_accuracy: 0.7143\n",
            "Epoch 8/100\n",
            "13/13 [==============================] - 0s 5ms/step - loss: 0.3706 - accuracy: 0.7600 - val_loss: 1.5271 - val_accuracy: 0.7143\n",
            "Epoch 9/100\n",
            "13/13 [==============================] - 0s 4ms/step - loss: 0.3493 - accuracy: 0.8400 - val_loss: 1.3280 - val_accuracy: 0.7143\n",
            "Epoch 10/100\n",
            "13/13 [==============================] - 0s 4ms/step - loss: 0.3069 - accuracy: 0.8400 - val_loss: 1.2394 - val_accuracy: 0.7143\n",
            "Epoch 11/100\n",
            "13/13 [==============================] - 0s 3ms/step - loss: 0.2992 - accuracy: 0.8400 - val_loss: 1.1496 - val_accuracy: 0.7143\n",
            "Epoch 12/100\n",
            "13/13 [==============================] - 0s 3ms/step - loss: 0.2866 - accuracy: 0.8400 - val_loss: 1.1238 - val_accuracy: 0.7143\n",
            "Epoch 13/100\n",
            "13/13 [==============================] - 0s 3ms/step - loss: 0.2773 - accuracy: 0.8400 - val_loss: 1.0752 - val_accuracy: 0.7143\n",
            "Epoch 14/100\n",
            "13/13 [==============================] - 0s 3ms/step - loss: 0.2692 - accuracy: 0.8400 - val_loss: 1.0865 - val_accuracy: 0.7143\n",
            "Epoch 15/100\n",
            "13/13 [==============================] - 0s 3ms/step - loss: 0.2629 - accuracy: 0.8400 - val_loss: 1.0906 - val_accuracy: 0.5714\n",
            "Epoch 16/100\n",
            "13/13 [==============================] - 0s 3ms/step - loss: 0.2556 - accuracy: 0.8400 - val_loss: 1.0955 - val_accuracy: 0.5714\n",
            "Epoch 17/100\n",
            "13/13 [==============================] - 0s 3ms/step - loss: 0.2471 - accuracy: 0.8400 - val_loss: 1.0993 - val_accuracy: 0.7143\n",
            "Epoch 18/100\n",
            "13/13 [==============================] - 0s 3ms/step - loss: 0.2442 - accuracy: 0.8000 - val_loss: 1.0796 - val_accuracy: 0.7143\n",
            "Epoch 19/100\n",
            "13/13 [==============================] - 0s 3ms/step - loss: 0.2322 - accuracy: 0.8400 - val_loss: 1.0996 - val_accuracy: 0.5714\n",
            "Epoch 20/100\n",
            "13/13 [==============================] - 0s 3ms/step - loss: 0.2299 - accuracy: 0.8000 - val_loss: 1.0995 - val_accuracy: 0.5714\n",
            "Epoch 21/100\n",
            "13/13 [==============================] - 0s 3ms/step - loss: 0.2262 - accuracy: 0.8000 - val_loss: 1.1003 - val_accuracy: 0.5714\n",
            "Epoch 22/100\n",
            "13/13 [==============================] - 0s 3ms/step - loss: 0.2050 - accuracy: 0.8800 - val_loss: 1.0732 - val_accuracy: 0.5714\n",
            "Epoch 23/100\n",
            "13/13 [==============================] - 0s 3ms/step - loss: 0.1933 - accuracy: 0.8800 - val_loss: 1.0091 - val_accuracy: 0.5714\n",
            "Epoch 24/100\n",
            "13/13 [==============================] - 0s 3ms/step - loss: 0.1849 - accuracy: 0.8800 - val_loss: 0.9577 - val_accuracy: 0.5714\n",
            "Epoch 25/100\n",
            "13/13 [==============================] - 0s 3ms/step - loss: 0.1806 - accuracy: 0.8800 - val_loss: 0.9360 - val_accuracy: 0.5714\n",
            "Epoch 26/100\n",
            "13/13 [==============================] - 0s 3ms/step - loss: 0.1773 - accuracy: 0.8400 - val_loss: 0.9012 - val_accuracy: 0.5714\n",
            "Epoch 27/100\n",
            "13/13 [==============================] - 0s 5ms/step - loss: 0.1735 - accuracy: 0.8800 - val_loss: 0.9037 - val_accuracy: 0.5714\n",
            "Epoch 28/100\n",
            "13/13 [==============================] - 0s 3ms/step - loss: 0.1693 - accuracy: 0.8400 - val_loss: 0.8005 - val_accuracy: 0.7143\n",
            "Epoch 29/100\n",
            "13/13 [==============================] - 0s 5ms/step - loss: 0.1686 - accuracy: 0.8800 - val_loss: 0.8048 - val_accuracy: 0.5714\n",
            "Epoch 30/100\n",
            "13/13 [==============================] - 0s 3ms/step - loss: 0.1729 - accuracy: 0.8400 - val_loss: 0.8312 - val_accuracy: 0.5714\n",
            "Epoch 31/100\n",
            "13/13 [==============================] - 0s 4ms/step - loss: 0.1642 - accuracy: 0.8800 - val_loss: 0.8528 - val_accuracy: 0.5714\n",
            "Epoch 32/100\n",
            "13/13 [==============================] - 0s 3ms/step - loss: 0.1683 - accuracy: 0.8800 - val_loss: 0.8649 - val_accuracy: 0.5714\n",
            "Epoch 33/100\n",
            "13/13 [==============================] - 0s 3ms/step - loss: 0.1664 - accuracy: 0.8400 - val_loss: 0.8231 - val_accuracy: 0.5714\n",
            "Epoch 34/100\n",
            "13/13 [==============================] - 0s 3ms/step - loss: 0.1652 - accuracy: 0.8800 - val_loss: 0.8273 - val_accuracy: 0.5714\n",
            "Epoch 35/100\n",
            "13/13 [==============================] - 0s 3ms/step - loss: 0.1560 - accuracy: 0.8800 - val_loss: 0.8011 - val_accuracy: 0.5714\n",
            "Epoch 36/100\n",
            "13/13 [==============================] - 0s 3ms/step - loss: 0.1602 - accuracy: 0.9200 - val_loss: 0.7799 - val_accuracy: 0.5714\n",
            "Epoch 37/100\n",
            "13/13 [==============================] - 0s 4ms/step - loss: 0.1539 - accuracy: 0.9200 - val_loss: 0.7983 - val_accuracy: 0.5714\n",
            "Epoch 38/100\n",
            "13/13 [==============================] - 0s 3ms/step - loss: 0.1635 - accuracy: 0.9200 - val_loss: 0.8264 - val_accuracy: 0.5714\n",
            "Epoch 39/100\n",
            "13/13 [==============================] - 0s 4ms/step - loss: 0.1507 - accuracy: 0.9200 - val_loss: 0.7905 - val_accuracy: 0.5714\n",
            "Epoch 40/100\n",
            "13/13 [==============================] - 0s 3ms/step - loss: 0.1471 - accuracy: 0.9200 - val_loss: 0.8286 - val_accuracy: 0.5714\n",
            "Epoch 41/100\n",
            "13/13 [==============================] - 0s 3ms/step - loss: 0.1504 - accuracy: 0.9200 - val_loss: 0.8185 - val_accuracy: 0.5714\n",
            "Epoch 42/100\n",
            "13/13 [==============================] - 0s 4ms/step - loss: 0.1472 - accuracy: 0.9200 - val_loss: 0.7609 - val_accuracy: 0.5714\n",
            "Epoch 43/100\n",
            "13/13 [==============================] - 0s 4ms/step - loss: 0.1430 - accuracy: 0.9200 - val_loss: 0.6557 - val_accuracy: 0.7143\n",
            "Epoch 44/100\n",
            "13/13 [==============================] - 0s 4ms/step - loss: 0.1446 - accuracy: 0.9200 - val_loss: 0.6007 - val_accuracy: 0.7143\n",
            "Epoch 45/100\n",
            "13/13 [==============================] - 0s 3ms/step - loss: 0.1440 - accuracy: 0.9200 - val_loss: 0.5879 - val_accuracy: 0.7143\n",
            "Epoch 46/100\n",
            "13/13 [==============================] - 0s 3ms/step - loss: 0.1421 - accuracy: 0.8800 - val_loss: 0.5826 - val_accuracy: 0.7143\n",
            "Epoch 47/100\n",
            "13/13 [==============================] - 0s 4ms/step - loss: 0.1450 - accuracy: 0.9200 - val_loss: 0.5933 - val_accuracy: 0.7143\n",
            "Epoch 48/100\n",
            "13/13 [==============================] - 0s 3ms/step - loss: 0.1398 - accuracy: 0.9200 - val_loss: 0.5747 - val_accuracy: 0.7143\n",
            "Epoch 49/100\n",
            "13/13 [==============================] - 0s 5ms/step - loss: 0.1392 - accuracy: 0.9200 - val_loss: 0.5597 - val_accuracy: 0.8571\n",
            "Epoch 50/100\n",
            "13/13 [==============================] - 0s 3ms/step - loss: 0.1483 - accuracy: 0.8800 - val_loss: 0.5792 - val_accuracy: 0.7143\n",
            "Epoch 51/100\n",
            "13/13 [==============================] - 0s 3ms/step - loss: 0.1429 - accuracy: 0.8800 - val_loss: 0.5594 - val_accuracy: 0.8571\n",
            "Epoch 52/100\n",
            "13/13 [==============================] - 0s 3ms/step - loss: 0.1366 - accuracy: 0.9200 - val_loss: 0.5581 - val_accuracy: 0.8571\n",
            "Epoch 53/100\n",
            "13/13 [==============================] - 0s 5ms/step - loss: 0.1324 - accuracy: 0.8800 - val_loss: 0.5424 - val_accuracy: 0.8571\n",
            "Epoch 54/100\n",
            "13/13 [==============================] - 0s 3ms/step - loss: 0.1353 - accuracy: 0.8800 - val_loss: 0.5311 - val_accuracy: 0.8571\n",
            "Epoch 55/100\n",
            "13/13 [==============================] - 0s 5ms/step - loss: 0.1336 - accuracy: 0.9200 - val_loss: 0.5275 - val_accuracy: 0.8571\n",
            "Epoch 56/100\n",
            "13/13 [==============================] - 0s 3ms/step - loss: 0.1347 - accuracy: 0.8800 - val_loss: 0.5156 - val_accuracy: 0.8571\n",
            "Epoch 57/100\n",
            "13/13 [==============================] - 0s 3ms/step - loss: 0.1259 - accuracy: 0.9200 - val_loss: 0.5124 - val_accuracy: 0.8571\n",
            "Epoch 58/100\n",
            "13/13 [==============================] - 0s 5ms/step - loss: 0.1378 - accuracy: 0.8800 - val_loss: 0.5152 - val_accuracy: 0.8571\n",
            "Epoch 59/100\n",
            "13/13 [==============================] - 0s 3ms/step - loss: 0.1500 - accuracy: 0.9200 - val_loss: 0.4918 - val_accuracy: 0.8571\n",
            "Epoch 60/100\n",
            "13/13 [==============================] - 0s 5ms/step - loss: 0.1355 - accuracy: 0.9600 - val_loss: 0.4885 - val_accuracy: 0.8571\n",
            "Epoch 61/100\n",
            "13/13 [==============================] - 0s 4ms/step - loss: 0.1261 - accuracy: 0.9600 - val_loss: 0.5156 - val_accuracy: 0.8571\n",
            "Epoch 62/100\n",
            "13/13 [==============================] - 0s 3ms/step - loss: 0.1260 - accuracy: 0.8800 - val_loss: 0.6031 - val_accuracy: 0.8571\n",
            "Epoch 63/100\n",
            "13/13 [==============================] - 0s 3ms/step - loss: 0.1424 - accuracy: 0.9600 - val_loss: 0.5903 - val_accuracy: 0.8571\n",
            "Epoch 64/100\n",
            "13/13 [==============================] - 0s 3ms/step - loss: 0.1259 - accuracy: 0.9600 - val_loss: 0.5601 - val_accuracy: 0.8571\n",
            "Epoch 65/100\n",
            "13/13 [==============================] - 0s 4ms/step - loss: 0.1203 - accuracy: 0.9200 - val_loss: 0.5261 - val_accuracy: 0.8571\n",
            "Epoch 66/100\n",
            "13/13 [==============================] - 0s 3ms/step - loss: 0.1315 - accuracy: 0.9600 - val_loss: 0.4839 - val_accuracy: 0.8571\n",
            "Epoch 67/100\n",
            "13/13 [==============================] - 0s 4ms/step - loss: 0.1171 - accuracy: 0.9600 - val_loss: 0.4634 - val_accuracy: 0.8571\n",
            "Epoch 68/100\n",
            "13/13 [==============================] - 0s 4ms/step - loss: 0.1174 - accuracy: 0.9200 - val_loss: 0.4579 - val_accuracy: 0.8571\n",
            "Epoch 69/100\n",
            "13/13 [==============================] - 0s 3ms/step - loss: 0.1268 - accuracy: 0.9200 - val_loss: 0.4359 - val_accuracy: 0.8571\n",
            "Epoch 70/100\n",
            "13/13 [==============================] - 0s 3ms/step - loss: 0.1329 - accuracy: 0.9600 - val_loss: 0.5004 - val_accuracy: 0.8571\n",
            "Epoch 71/100\n",
            "13/13 [==============================] - 0s 3ms/step - loss: 0.1175 - accuracy: 0.9600 - val_loss: 0.4512 - val_accuracy: 0.8571\n",
            "Epoch 72/100\n",
            "13/13 [==============================] - 0s 3ms/step - loss: 0.1154 - accuracy: 0.9600 - val_loss: 0.4082 - val_accuracy: 0.8571\n",
            "Epoch 73/100\n",
            "13/13 [==============================] - 0s 3ms/step - loss: 0.1157 - accuracy: 0.9200 - val_loss: 0.3552 - val_accuracy: 0.8571\n",
            "Epoch 74/100\n",
            "13/13 [==============================] - 0s 3ms/step - loss: 0.1040 - accuracy: 0.9200 - val_loss: 0.3459 - val_accuracy: 0.8571\n",
            "Epoch 75/100\n",
            "13/13 [==============================] - 0s 3ms/step - loss: 0.0987 - accuracy: 0.9600 - val_loss: 0.2989 - val_accuracy: 0.8571\n",
            "Epoch 76/100\n",
            "13/13 [==============================] - 0s 3ms/step - loss: 0.1024 - accuracy: 0.9200 - val_loss: 0.2649 - val_accuracy: 0.8571\n",
            "Epoch 77/100\n",
            "13/13 [==============================] - 0s 4ms/step - loss: 0.1007 - accuracy: 0.9200 - val_loss: 0.2386 - val_accuracy: 0.8571\n",
            "Epoch 78/100\n",
            "13/13 [==============================] - 0s 4ms/step - loss: 0.0966 - accuracy: 0.9200 - val_loss: 0.2150 - val_accuracy: 0.8571\n",
            "Epoch 79/100\n",
            "13/13 [==============================] - 0s 3ms/step - loss: 0.1042 - accuracy: 0.9200 - val_loss: 0.1941 - val_accuracy: 0.8571\n",
            "Epoch 80/100\n",
            "13/13 [==============================] - 0s 4ms/step - loss: 0.0932 - accuracy: 0.9600 - val_loss: 0.1741 - val_accuracy: 0.8571\n",
            "Epoch 81/100\n",
            "13/13 [==============================] - 0s 3ms/step - loss: 0.0879 - accuracy: 0.9600 - val_loss: 0.3420 - val_accuracy: 0.8571\n",
            "Epoch 82/100\n",
            "13/13 [==============================] - 0s 6ms/step - loss: 0.0955 - accuracy: 0.9600 - val_loss: 0.5302 - val_accuracy: 0.8571\n",
            "Epoch 83/100\n",
            "13/13 [==============================] - 0s 3ms/step - loss: 0.4389 - accuracy: 0.9200 - val_loss: 0.8351 - val_accuracy: 0.7143\n",
            "Epoch 84/100\n",
            "13/13 [==============================] - 0s 3ms/step - loss: 1.9992 - accuracy: 0.7200 - val_loss: 2.7950 - val_accuracy: 0.7143\n",
            "Epoch 85/100\n",
            "13/13 [==============================] - 0s 3ms/step - loss: 1.9952 - accuracy: 0.5200 - val_loss: 8.1131 - val_accuracy: 0.0000e+00\n",
            "Epoch 86/100\n",
            "13/13 [==============================] - 0s 3ms/step - loss: 2.5469 - accuracy: 0.5600 - val_loss: 1.2011 - val_accuracy: 0.7143\n",
            "Epoch 87/100\n",
            "13/13 [==============================] - 0s 4ms/step - loss: 3.1491 - accuracy: 0.5200 - val_loss: 0.5038 - val_accuracy: 0.7143\n",
            "Epoch 88/100\n",
            "13/13 [==============================] - 0s 5ms/step - loss: 0.9161 - accuracy: 0.8800 - val_loss: 0.2099 - val_accuracy: 1.0000\n",
            "Epoch 89/100\n",
            "13/13 [==============================] - 0s 5ms/step - loss: 0.3436 - accuracy: 0.9200 - val_loss: 0.1457 - val_accuracy: 1.0000\n",
            "Epoch 90/100\n",
            "13/13 [==============================] - 0s 3ms/step - loss: 0.9003 - accuracy: 0.9600 - val_loss: 0.1281 - val_accuracy: 1.0000\n",
            "Epoch 91/100\n",
            "13/13 [==============================] - 0s 5ms/step - loss: 0.5761 - accuracy: 0.9600 - val_loss: 0.0982 - val_accuracy: 1.0000\n",
            "Epoch 92/100\n",
            "13/13 [==============================] - 0s 3ms/step - loss: 0.2795 - accuracy: 0.9600 - val_loss: 0.1101 - val_accuracy: 1.0000\n",
            "Epoch 93/100\n",
            "13/13 [==============================] - 0s 3ms/step - loss: 0.2052 - accuracy: 0.9200 - val_loss: 0.0976 - val_accuracy: 1.0000\n",
            "Epoch 94/100\n",
            "13/13 [==============================] - 0s 3ms/step - loss: 0.4811 - accuracy: 0.9600 - val_loss: 0.0944 - val_accuracy: 1.0000\n",
            "Epoch 95/100\n",
            "13/13 [==============================] - 0s 3ms/step - loss: 0.1893 - accuracy: 0.9200 - val_loss: 0.0880 - val_accuracy: 1.0000\n",
            "Epoch 96/100\n",
            "13/13 [==============================] - 0s 3ms/step - loss: 0.4087 - accuracy: 0.9200 - val_loss: 0.2152 - val_accuracy: 0.8571\n",
            "Epoch 97/100\n",
            "13/13 [==============================] - 0s 3ms/step - loss: 0.2838 - accuracy: 0.9200 - val_loss: 0.1182 - val_accuracy: 1.0000\n",
            "Epoch 98/100\n",
            "13/13 [==============================] - 0s 5ms/step - loss: 0.1561 - accuracy: 0.9200 - val_loss: 0.0982 - val_accuracy: 1.0000\n",
            "Epoch 99/100\n",
            "13/13 [==============================] - 0s 3ms/step - loss: 0.3154 - accuracy: 0.9600 - val_loss: 0.0929 - val_accuracy: 1.0000\n",
            "Epoch 100/100\n",
            "13/13 [==============================] - 0s 3ms/step - loss: 0.3561 - accuracy: 0.9200 - val_loss: 0.0929 - val_accuracy: 1.0000\n"
          ]
        }
      ]
    },
    {
      "cell_type": "code",
      "source": [
        "# Grafik Model Akurasi\n",
        "plt.figure(figsize=(10,5))\n",
        "plt.plot(history.history['accuracy'])\n",
        "plt.plot(history.history['val_accuracy'])\n",
        "plt.title('Train dan validasi accuracy')\n",
        "plt.ylabel('Accuracy')\n",
        "plt.xlabel('Epoch')\n",
        "plt.legend(['train', 'validasi'], loc='upper left')\n",
        "plt.show()"
      ],
      "metadata": {
        "colab": {
          "base_uri": "https://localhost:8080/",
          "height": 350
        },
        "id": "mzTErKr_MSjW",
        "outputId": "b647c8eb-abcd-40d5-e50b-ae0912de7e14"
      },
      "execution_count": null,
      "outputs": [
        {
          "output_type": "display_data",
          "data": {
            "text/plain": [
              "<Figure size 720x360 with 1 Axes>"
            ],
            "image/png": "[encoded data removed]"
          },
          "metadata": {
            "needs_background": "light"
          }
        }
      ]
    },
    {
      "cell_type": "code",
      "source": [
        "# Grafik Model Loss\n",
        "plt.figure(figsize=(10,5))\n",
        "plt.plot(history.history['loss'])\n",
        "plt.plot(history.history['val_loss'])\n",
        "plt.title('Train dan validasi loss')\n",
        "plt.ylabel('Loss')\n",
        "plt.xlabel('Epoch')\n",
        "plt.legend(['train', 'validasi'], loc='upper left')\n",
        "plt.show()"
      ],
      "metadata": {
        "colab": {
          "base_uri": "https://localhost:8080/",
          "height": 350
        },
        "id": "0idD9uhkMS6z",
        "outputId": "875253e1-9631-435e-d22b-f5a97de18c3d"
      },
      "execution_count": null,
      "outputs": [
        {
          "output_type": "display_data",
          "data": {
            "text/plain": [
              "<Figure size 720x360 with 1 Axes>"
            ],
            "image/png": "[encoded data removed]"
          },
          "metadata": {
            "needs_background": "light"
          }
        }
      ]
    },
    {
      "cell_type": "code",
      "source": [
        "#model.save_weights('suara12_4.h5')"
      ],
      "metadata": {
        "id": "Ffex5qZMyVEp"
      },
      "execution_count": null,
      "outputs": []
    },
    {
      "cell_type": "code",
      "source": [
        "#model.load_weights('/content/suara.h5')"
      ],
      "metadata": {
        "id": "A-JTdipthGnj"
      },
      "execution_count": null,
      "outputs": []
    },
    {
      "cell_type": "code",
      "source": [
        "sa,xa=read('Suara Anak Anjing Ketakutan.mp3',normalized=True)"
      ],
      "metadata": {
        "id": "dcuoHc0q_O89"
      },
      "execution_count": null,
      "outputs": []
    },
    {
      "cell_type": "code",
      "source": [
        "xa.shape[0]//sa"
      ],
      "metadata": {
        "colab": {
          "base_uri": "https://localhost:8080/"
        },
        "id": "610HcOLX_V__",
        "outputId": "232b748f-996a-4c99-aa9f-5b5f20919ba1"
      },
      "execution_count": null,
      "outputs": [
        {
          "output_type": "execute_result",
          "data": {
            "text/plain": [
              "44"
            ]
          },
          "metadata": {},
          "execution_count": 106
        }
      ]
    },
    {
      "cell_type": "code",
      "source": [
        "x_test=[]\n",
        "\n",
        "for i in range(0,xa.shape[0]//sr-w+1,s):\n",
        "  pot=xa[i*sa:(i+w)*sa,0]\n",
        "  pot=librosa.feature.mfcc(pot)\n",
        "  x_test.append(pot)\n",
        "  \n",
        "x_test=np.asarray(x_test)\n",
        "x_test.shape\n",
        "y_pred=model.predict(x_test)"
      ],
      "metadata": {
        "colab": {
          "base_uri": "https://localhost:8080/"
        },
        "id": "GcMn_T0N_LGI",
        "outputId": "faf521fb-dc48-4126-e74b-0f97c35bd1af"
      },
      "execution_count": null,
      "outputs": [
        {
          "output_type": "stream",
          "name": "stdout",
          "text": [
            "1/1 [==============================] - 0s 81ms/step\n"
          ]
        }
      ]
    },
    {
      "cell_type": "code",
      "source": [
        "plt.plot(y_pred)"
      ],
      "metadata": {
        "colab": {
          "base_uri": "https://localhost:8080/",
          "height": 370
        },
        "id": "2g1vMKAB_q1u",
        "outputId": "97f47ffa-c0bb-4c3b-f4e0-a06d3bc2a896"
      },
      "execution_count": null,
      "outputs": [
        {
          "output_type": "execute_result",
          "data": {
            "text/plain": [
              "[<matplotlib.lines.Line2D at 0x7fa44bee2940>,\n",
              " <matplotlib.lines.Line2D at 0x7fa44bee2a90>,\n",
              " <matplotlib.lines.Line2D at 0x7fa44bee2b50>,\n",
              " <matplotlib.lines.Line2D at 0x7fa44bee2c10>,\n",
              " <matplotlib.lines.Line2D at 0x7fa44bee2cd0>,\n",
              " <matplotlib.lines.Line2D at 0x7fa44bee2d90>]"
            ]
          },
          "metadata": {},
          "execution_count": 108
        },
        {
          "output_type": "display_data",
          "data": {
            "text/plain": [
              "<Figure size 432x288 with 1 Axes>"
            ],
            "image/png": "[encoded data removed]"
          },
          "metadata": {
            "needs_background": "light"
          }
        }
      ]
    },
    {
      "cell_type": "code",
      "source": [
        "#from google.colab import files\n",
        "#import numpy as np\n",
        "\n",
        "#uploaded = files.upload()\n",
        "\n",
        "#for fn in uploaded.key():\n",
        " # path = '/content/' + fn\n",
        "  #sj,suara=read(path,normalized=True)\n",
        "  #x_test=[]\n",
        "  #for i in range(0,panjang-w+1,st):\n",
        "   # pot =audio[i*s:(i+w)*s,0]\n",
        "   # pot =librosa.feature.mfcc(pot)\n",
        "  #x_test.append(pot)"
      ],
      "metadata": {
        "id": "gJB0vSEV6DNS"
      },
      "execution_count": null,
      "outputs": []
    },
    {
      "cell_type": "code",
      "source": [
        "#import numpy as np\n",
        "#from google.colab import files\n",
        "\n",
        "#uploaded = files.upload()\n",
        "\n",
        "#for fn in uploaded.keys():\n",
        "  #predicting audio\n",
        " # path=fn\n",
        "  #sr,xkeke=read('Kekeyi   Keke Bukan Boneka.mp3',normalized=True)\n",
        "  \n",
        "  \n",
        "  \n",
        "  #class_list = os.listdir('/content/anjing/')\n",
        "  \n",
        "  \n",
        " # for j in range(42):\n",
        "   # if classes[0].any() :\n",
        "    #  print('This audio berada di', class_list[0])\n",
        "    #  break"
      ],
      "metadata": {
        "id": "Vv1oLwABhHVi"
      },
      "execution_count": null,
      "outputs": []
    }
  ]
}
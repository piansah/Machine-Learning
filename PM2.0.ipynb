{
  "cells": [
    {
      "cell_type": "code",
      "execution_count": null,
      "metadata": {
        "colab": {
          "base_uri": "https://localhost:8080/"
        },
        "id": "4gz9E8P-lgN1",
        "outputId": "23b2968e-c392-49bf-a120-17ce98de6697"
      },
      "outputs": [
        {
          "name": "stdout",
          "output_type": "stream",
          "text": [
            "/content\n"
          ]
        }
      ],
      "source": [
        "!pwd"
      ]
    },
    {
      "cell_type": "code",
      "execution_count": null,
      "metadata": {
        "id": "xWeacK0yk0Qb"
      },
      "outputs": [],
      "source": [
        "import pandas as pd\n",
        "import numpy as np"
      ]
    },
    {
      "cell_type": "code",
      "execution_count": null,
      "metadata": {
        "id": "NSXTt-jjkSuk"
      },
      "outputs": [],
      "source": [
        "tata = pd.read_csv('train5.csv', decimal=',')"
      ]
    },
    {
      "cell_type": "code",
      "execution_count": null,
      "metadata": {
        "id": "UXcdskFakjNo"
      },
      "outputs": [],
      "source": [
        "lala = pd.read_csv('Latihan01.csv', decimal=',')"
      ]
    },
    {
      "cell_type": "code",
      "execution_count": null,
      "metadata": {
        "colab": {
          "base_uri": "https://localhost:8080/",
          "height": 424
        },
        "id": "El3kXQr1kqna",
        "outputId": "e7e34e1b-133f-4da3-f982-cc81df81510c"
      },
      "outputs": [
        {
          "data": {
            "text/html": [
              "\n",
              "  <div id=\"df-d4397327-fad7-434e-b5be-a78ea954876c\">\n",
              "    <div class=\"colab-df-container\">\n",
              "      <div>\n",
              "<style scoped>\n",
              "    .dataframe tbody tr th:only-of-type {\n",
              "        vertical-align: middle;\n",
              "    }\n",
              "\n",
              "    .dataframe tbody tr th {\n",
              "        vertical-align: top;\n",
              "    }\n",
              "\n",
              "    .dataframe thead th {\n",
              "        text-align: right;\n",
              "    }\n",
              "</style>\n",
              "<table border=\"1\" class=\"dataframe\">\n",
              "  <thead>\n",
              "    <tr style=\"text-align: right;\">\n",
              "      <th></th>\n",
              "      <th></th>\n",
              "      <th></th>\n",
              "      <th></th>\n",
              "      <th></th>\n",
              "      <th>h_0;h_1;h_2;h_3;h_4;status</th>\n",
              "    </tr>\n",
              "  </thead>\n",
              "  <tbody>\n",
              "    <tr>\n",
              "      <th rowspan=\"11\" valign=\"top\">0</th>\n",
              "      <th>34404;0</th>\n",
              "      <th>68715;0</th>\n",
              "      <th>69912;0</th>\n",
              "      <th>2066;0</th>\n",
              "      <td>78758;0</td>\n",
              "    </tr>\n",
              "    <tr>\n",
              "      <th>05118;0</th>\n",
              "      <th>02168;-0</th>\n",
              "      <th>35874;0</th>\n",
              "      <th>67828;0</th>\n",
              "      <td>28521;2</td>\n",
              "    </tr>\n",
              "    <tr>\n",
              "      <th>55498;0</th>\n",
              "      <th>33792;-0</th>\n",
              "      <th>92178;0</th>\n",
              "      <th>91241;0</th>\n",
              "      <td>7848;2</td>\n",
              "    </tr>\n",
              "    <tr>\n",
              "      <th>01134;0</th>\n",
              "      <th>92072;-0</th>\n",
              "      <th>67982;0</th>\n",
              "      <th>03124;0</th>\n",
              "      <td>58931;2</td>\n",
              "    </tr>\n",
              "    <tr>\n",
              "      <th>84702;0</th>\n",
              "      <th>60159;-0</th>\n",
              "      <th>66398;0</th>\n",
              "      <th>70997;0</th>\n",
              "      <td>38701;2</td>\n",
              "    </tr>\n",
              "    <tr>\n",
              "      <th>...</th>\n",
              "      <th>...</th>\n",
              "      <th>...</th>\n",
              "      <th>...</th>\n",
              "      <td>...</td>\n",
              "    </tr>\n",
              "    <tr>\n",
              "      <th>80158;0</th>\n",
              "      <th>04474;0</th>\n",
              "      <th>24985;0</th>\n",
              "      <th>39159;0</th>\n",
              "      <td>85916;0</td>\n",
              "    </tr>\n",
              "    <tr>\n",
              "      <th>00569;0</th>\n",
              "      <th>67953;0</th>\n",
              "      <th>77433;0</th>\n",
              "      <th>96257;0</th>\n",
              "      <td>30321;0</td>\n",
              "    </tr>\n",
              "    <tr>\n",
              "      <th>99412;-0</th>\n",
              "      <th>53149;-0</th>\n",
              "      <th>11107;-0</th>\n",
              "      <th>39314;0</th>\n",
              "      <td>79514;3</td>\n",
              "    </tr>\n",
              "    <tr>\n",
              "      <th>45205;0</th>\n",
              "      <th>02001;-0</th>\n",
              "      <th>6733;0</th>\n",
              "      <th>85855;0</th>\n",
              "      <td>14457;2</td>\n",
              "    </tr>\n",
              "    <tr>\n",
              "      <th>37498;0</th>\n",
              "      <th>9651;-0</th>\n",
              "      <th>97453;0</th>\n",
              "      <th>45129;0</th>\n",
              "      <td>33865;2</td>\n",
              "    </tr>\n",
              "  </tbody>\n",
              "</table>\n",
              "<p>1045 rows × 1 columns</p>\n",
              "</div>\n",
              "      <button class=\"colab-df-convert\" onclick=\"convertToInteractive('df-d4397327-fad7-434e-b5be-a78ea954876c')\"\n",
              "              title=\"Convert this dataframe to an interactive table.\"\n",
              "              style=\"display:none;\">\n",
              "        \n",
              "  <svg xmlns=\"http://www.w3.org/2000/svg\" height=\"24px\"viewBox=\"0 0 24 24\"\n",
              "       width=\"24px\">\n",
              "    <path d=\"M0 0h24v24H0V0z\" fill=\"none\"/>\n",
              "    <path d=\"M18.56 5.44l.94 2.06.94-2.06 2.06-.94-2.06-.94-.94-2.06-.94 2.06-2.06.94zm-11 1L8.5 8.5l.94-2.06 2.06-.94-2.06-.94L8.5 2.5l-.94 2.06-2.06.94zm10 10l.94 2.06.94-2.06 2.06-.94-2.06-.94-.94-2.06-.94 2.06-2.06.94z\"/><path d=\"M17.41 7.96l-1.37-1.37c-.4-.4-.92-.59-1.43-.59-.52 0-1.04.2-1.43.59L10.3 9.45l-7.72 7.72c-.78.78-.78 2.05 0 2.83L4 21.41c.39.39.9.59 1.41.59.51 0 1.02-.2 1.41-.59l7.78-7.78 2.81-2.81c.8-.78.8-2.07 0-2.86zM5.41 20L4 18.59l7.72-7.72 1.47 1.35L5.41 20z\"/>\n",
              "  </svg>\n",
              "      </button>\n",
              "      \n",
              "  <style>\n",
              "    .colab-df-container {\n",
              "      display:flex;\n",
              "      flex-wrap:wrap;\n",
              "      gap: 12px;\n",
              "    }\n",
              "\n",
              "    .colab-df-convert {\n",
              "      background-color: #E8F0FE;\n",
              "      border: none;\n",
              "      border-radius: 50%;\n",
              "      cursor: pointer;\n",
              "      display: none;\n",
              "      fill: #1967D2;\n",
              "      height: 32px;\n",
              "      padding: 0 0 0 0;\n",
              "      width: 32px;\n",
              "    }\n",
              "\n",
              "    .colab-df-convert:hover {\n",
              "      background-color: #E2EBFA;\n",
              "      box-shadow: 0px 1px 2px rgba(60, 64, 67, 0.3), 0px 1px 3px 1px rgba(60, 64, 67, 0.15);\n",
              "      fill: #174EA6;\n",
              "    }\n",
              "\n",
              "    [theme=dark] .colab-df-convert {\n",
              "      background-color: #3B4455;\n",
              "      fill: #D2E3FC;\n",
              "    }\n",
              "\n",
              "    [theme=dark] .colab-df-convert:hover {\n",
              "      background-color: #434B5C;\n",
              "      box-shadow: 0px 1px 3px 1px rgba(0, 0, 0, 0.15);\n",
              "      filter: drop-shadow(0px 1px 2px rgba(0, 0, 0, 0.3));\n",
              "      fill: #FFFFFF;\n",
              "    }\n",
              "  </style>\n",
              "\n",
              "      <script>\n",
              "        const buttonEl =\n",
              "          document.querySelector('#df-d4397327-fad7-434e-b5be-a78ea954876c button.colab-df-convert');\n",
              "        buttonEl.style.display =\n",
              "          google.colab.kernel.accessAllowed ? 'block' : 'none';\n",
              "\n",
              "        async function convertToInteractive(key) {\n",
              "          const element = document.querySelector('#df-d4397327-fad7-434e-b5be-a78ea954876c');\n",
              "          const dataTable =\n",
              "            await google.colab.kernel.invokeFunction('convertToInteractive',\n",
              "                                                     [key], {});\n",
              "          if (!dataTable) return;\n",
              "\n",
              "          const docLinkHtml = 'Like what you see? Visit the ' +\n",
              "            '<a target=\"_blank\" href=https://colab.research.google.com/notebooks/data_table.ipynb>data table notebook</a>'\n",
              "            + ' to learn more about interactive tables.';\n",
              "          element.innerHTML = '';\n",
              "          dataTable['output_type'] = 'display_data';\n",
              "          await google.colab.output.renderOutput(dataTable, element);\n",
              "          const docLink = document.createElement('div');\n",
              "          docLink.innerHTML = docLinkHtml;\n",
              "          element.appendChild(docLink);\n",
              "        }\n",
              "      </script>\n",
              "    </div>\n",
              "  </div>\n",
              "  "
            ],
            "text/plain": [
              "                                     h_0;h_1;h_2;h_3;h_4;status\n",
              "0 34404;0  68715;0  69912;0  2066;0                     78758;0\n",
              "  05118;0  02168;-0 35874;0  67828;0                    28521;2\n",
              "  55498;0  33792;-0 92178;0  91241;0                     7848;2\n",
              "  01134;0  92072;-0 67982;0  03124;0                    58931;2\n",
              "  84702;0  60159;-0 66398;0  70997;0                    38701;2\n",
              "...                                                         ...\n",
              "  80158;0  04474;0  24985;0  39159;0                    85916;0\n",
              "  00569;0  67953;0  77433;0  96257;0                    30321;0\n",
              "  99412;-0 53149;-0 11107;-0 39314;0                    79514;3\n",
              "  45205;0  02001;-0 6733;0   85855;0                    14457;2\n",
              "  37498;0  9651;-0  97453;0  45129;0                    33865;2\n",
              "\n",
              "[1045 rows x 1 columns]"
            ]
          },
          "execution_count": 203,
          "metadata": {},
          "output_type": "execute_result"
        }
      ],
      "source": [
        "tata"
      ]
    },
    {
      "cell_type": "code",
      "execution_count": null,
      "metadata": {
        "colab": {
          "base_uri": "https://localhost:8080/",
          "height": 424
        },
        "id": "uVwDLJVpkr-t",
        "outputId": "3a34f79c-363e-493b-e748-e71090352208"
      },
      "outputs": [
        {
          "data": {
            "text/html": [
              "\n",
              "  <div id=\"df-7e055d48-00c9-480a-8f71-aac5ede3d260\">\n",
              "    <div class=\"colab-df-container\">\n",
              "      <div>\n",
              "<style scoped>\n",
              "    .dataframe tbody tr th:only-of-type {\n",
              "        vertical-align: middle;\n",
              "    }\n",
              "\n",
              "    .dataframe tbody tr th {\n",
              "        vertical-align: top;\n",
              "    }\n",
              "\n",
              "    .dataframe thead th {\n",
              "        text-align: right;\n",
              "    }\n",
              "</style>\n",
              "<table border=\"1\" class=\"dataframe\">\n",
              "  <thead>\n",
              "    <tr style=\"text-align: right;\">\n",
              "      <th></th>\n",
              "      <th>x1</th>\n",
              "      <th>x2</th>\n",
              "      <th>y</th>\n",
              "    </tr>\n",
              "  </thead>\n",
              "  <tbody>\n",
              "    <tr>\n",
              "      <th>0</th>\n",
              "      <td>-0.365057</td>\n",
              "      <td>-0.319084</td>\n",
              "      <td>0.273112</td>\n",
              "    </tr>\n",
              "    <tr>\n",
              "      <th>1</th>\n",
              "      <td>1.915594</td>\n",
              "      <td>0.129009</td>\n",
              "      <td>1.657577</td>\n",
              "    </tr>\n",
              "    <tr>\n",
              "      <th>2</th>\n",
              "      <td>-1.416086</td>\n",
              "      <td>-0.431537</td>\n",
              "      <td>-0.553012</td>\n",
              "    </tr>\n",
              "    <tr>\n",
              "      <th>3</th>\n",
              "      <td>-1.453220</td>\n",
              "      <td>-1.454493</td>\n",
              "      <td>1.455766</td>\n",
              "    </tr>\n",
              "    <tr>\n",
              "      <th>4</th>\n",
              "      <td>1.301988</td>\n",
              "      <td>-0.301599</td>\n",
              "      <td>1.905186</td>\n",
              "    </tr>\n",
              "    <tr>\n",
              "      <th>...</th>\n",
              "      <td>...</td>\n",
              "      <td>...</td>\n",
              "      <td>...</td>\n",
              "    </tr>\n",
              "    <tr>\n",
              "      <th>145</th>\n",
              "      <td>0.454394</td>\n",
              "      <td>1.117911</td>\n",
              "      <td>-1.781428</td>\n",
              "    </tr>\n",
              "    <tr>\n",
              "      <th>146</th>\n",
              "      <td>-0.934667</td>\n",
              "      <td>-0.190650</td>\n",
              "      <td>-0.553367</td>\n",
              "    </tr>\n",
              "    <tr>\n",
              "      <th>147</th>\n",
              "      <td>1.929511</td>\n",
              "      <td>0.927888</td>\n",
              "      <td>0.073735</td>\n",
              "    </tr>\n",
              "    <tr>\n",
              "      <th>148</th>\n",
              "      <td>-0.872532</td>\n",
              "      <td>-1.033666</td>\n",
              "      <td>1.194801</td>\n",
              "    </tr>\n",
              "    <tr>\n",
              "      <th>149</th>\n",
              "      <td>0.881319</td>\n",
              "      <td>0.226273</td>\n",
              "      <td>0.428773</td>\n",
              "    </tr>\n",
              "  </tbody>\n",
              "</table>\n",
              "<p>150 rows × 3 columns</p>\n",
              "</div>\n",
              "      <button class=\"colab-df-convert\" onclick=\"convertToInteractive('df-7e055d48-00c9-480a-8f71-aac5ede3d260')\"\n",
              "              title=\"Convert this dataframe to an interactive table.\"\n",
              "              style=\"display:none;\">\n",
              "        \n",
              "  <svg xmlns=\"http://www.w3.org/2000/svg\" height=\"24px\"viewBox=\"0 0 24 24\"\n",
              "       width=\"24px\">\n",
              "    <path d=\"M0 0h24v24H0V0z\" fill=\"none\"/>\n",
              "    <path d=\"M18.56 5.44l.94 2.06.94-2.06 2.06-.94-2.06-.94-.94-2.06-.94 2.06-2.06.94zm-11 1L8.5 8.5l.94-2.06 2.06-.94-2.06-.94L8.5 2.5l-.94 2.06-2.06.94zm10 10l.94 2.06.94-2.06 2.06-.94-2.06-.94-.94-2.06-.94 2.06-2.06.94z\"/><path d=\"M17.41 7.96l-1.37-1.37c-.4-.4-.92-.59-1.43-.59-.52 0-1.04.2-1.43.59L10.3 9.45l-7.72 7.72c-.78.78-.78 2.05 0 2.83L4 21.41c.39.39.9.59 1.41.59.51 0 1.02-.2 1.41-.59l7.78-7.78 2.81-2.81c.8-.78.8-2.07 0-2.86zM5.41 20L4 18.59l7.72-7.72 1.47 1.35L5.41 20z\"/>\n",
              "  </svg>\n",
              "      </button>\n",
              "      \n",
              "  <style>\n",
              "    .colab-df-container {\n",
              "      display:flex;\n",
              "      flex-wrap:wrap;\n",
              "      gap: 12px;\n",
              "    }\n",
              "\n",
              "    .colab-df-convert {\n",
              "      background-color: #E8F0FE;\n",
              "      border: none;\n",
              "      border-radius: 50%;\n",
              "      cursor: pointer;\n",
              "      display: none;\n",
              "      fill: #1967D2;\n",
              "      height: 32px;\n",
              "      padding: 0 0 0 0;\n",
              "      width: 32px;\n",
              "    }\n",
              "\n",
              "    .colab-df-convert:hover {\n",
              "      background-color: #E2EBFA;\n",
              "      box-shadow: 0px 1px 2px rgba(60, 64, 67, 0.3), 0px 1px 3px 1px rgba(60, 64, 67, 0.15);\n",
              "      fill: #174EA6;\n",
              "    }\n",
              "\n",
              "    [theme=dark] .colab-df-convert {\n",
              "      background-color: #3B4455;\n",
              "      fill: #D2E3FC;\n",
              "    }\n",
              "\n",
              "    [theme=dark] .colab-df-convert:hover {\n",
              "      background-color: #434B5C;\n",
              "      box-shadow: 0px 1px 3px 1px rgba(0, 0, 0, 0.15);\n",
              "      filter: drop-shadow(0px 1px 2px rgba(0, 0, 0, 0.3));\n",
              "      fill: #FFFFFF;\n",
              "    }\n",
              "  </style>\n",
              "\n",
              "      <script>\n",
              "        const buttonEl =\n",
              "          document.querySelector('#df-7e055d48-00c9-480a-8f71-aac5ede3d260 button.colab-df-convert');\n",
              "        buttonEl.style.display =\n",
              "          google.colab.kernel.accessAllowed ? 'block' : 'none';\n",
              "\n",
              "        async function convertToInteractive(key) {\n",
              "          const element = document.querySelector('#df-7e055d48-00c9-480a-8f71-aac5ede3d260');\n",
              "          const dataTable =\n",
              "            await google.colab.kernel.invokeFunction('convertToInteractive',\n",
              "                                                     [key], {});\n",
              "          if (!dataTable) return;\n",
              "\n",
              "          const docLinkHtml = 'Like what you see? Visit the ' +\n",
              "            '<a target=\"_blank\" href=https://colab.research.google.com/notebooks/data_table.ipynb>data table notebook</a>'\n",
              "            + ' to learn more about interactive tables.';\n",
              "          element.innerHTML = '';\n",
              "          dataTable['output_type'] = 'display_data';\n",
              "          await google.colab.output.renderOutput(dataTable, element);\n",
              "          const docLink = document.createElement('div');\n",
              "          docLink.innerHTML = docLinkHtml;\n",
              "          element.appendChild(docLink);\n",
              "        }\n",
              "      </script>\n",
              "    </div>\n",
              "  </div>\n",
              "  "
            ],
            "text/plain": [
              "           x1        x2         y\n",
              "0   -0.365057 -0.319084  0.273112\n",
              "1    1.915594  0.129009  1.657577\n",
              "2   -1.416086 -0.431537 -0.553012\n",
              "3   -1.453220 -1.454493  1.455766\n",
              "4    1.301988 -0.301599  1.905186\n",
              "..        ...       ...       ...\n",
              "145  0.454394  1.117911 -1.781428\n",
              "146 -0.934667 -0.190650 -0.553367\n",
              "147  1.929511  0.927888  0.073735\n",
              "148 -0.872532 -1.033666  1.194801\n",
              "149  0.881319  0.226273  0.428773\n",
              "\n",
              "[150 rows x 3 columns]"
            ]
          },
          "execution_count": 204,
          "metadata": {},
          "output_type": "execute_result"
        }
      ],
      "source": [
        "lala\n"
      ]
    },
    {
      "cell_type": "code",
      "execution_count": null,
      "metadata": {
        "colab": {
          "base_uri": "https://localhost:8080/",
          "height": 206
        },
        "id": "7mfGuE-Cl01X",
        "outputId": "a3166400-a04e-4320-f553-348bf1161541"
      },
      "outputs": [
        {
          "data": {
            "text/html": [
              "\n",
              "  <div id=\"df-84f88066-b558-41e2-853e-5eaa2f476b49\">\n",
              "    <div class=\"colab-df-container\">\n",
              "      <div>\n",
              "<style scoped>\n",
              "    .dataframe tbody tr th:only-of-type {\n",
              "        vertical-align: middle;\n",
              "    }\n",
              "\n",
              "    .dataframe tbody tr th {\n",
              "        vertical-align: top;\n",
              "    }\n",
              "\n",
              "    .dataframe thead th {\n",
              "        text-align: right;\n",
              "    }\n",
              "</style>\n",
              "<table border=\"1\" class=\"dataframe\">\n",
              "  <thead>\n",
              "    <tr style=\"text-align: right;\">\n",
              "      <th></th>\n",
              "      <th></th>\n",
              "      <th></th>\n",
              "      <th></th>\n",
              "      <th></th>\n",
              "      <th>h_0;h_1;h_2;h_3;h_4;status</th>\n",
              "    </tr>\n",
              "  </thead>\n",
              "  <tbody>\n",
              "    <tr>\n",
              "      <th rowspan=\"5\" valign=\"top\">0</th>\n",
              "      <th>34404;0</th>\n",
              "      <th>68715;0</th>\n",
              "      <th>69912;0</th>\n",
              "      <th>2066;0</th>\n",
              "      <td>78758;0</td>\n",
              "    </tr>\n",
              "    <tr>\n",
              "      <th>05118;0</th>\n",
              "      <th>02168;-0</th>\n",
              "      <th>35874;0</th>\n",
              "      <th>67828;0</th>\n",
              "      <td>28521;2</td>\n",
              "    </tr>\n",
              "    <tr>\n",
              "      <th>55498;0</th>\n",
              "      <th>33792;-0</th>\n",
              "      <th>92178;0</th>\n",
              "      <th>91241;0</th>\n",
              "      <td>7848;2</td>\n",
              "    </tr>\n",
              "    <tr>\n",
              "      <th>01134;0</th>\n",
              "      <th>92072;-0</th>\n",
              "      <th>67982;0</th>\n",
              "      <th>03124;0</th>\n",
              "      <td>58931;2</td>\n",
              "    </tr>\n",
              "    <tr>\n",
              "      <th>84702;0</th>\n",
              "      <th>60159;-0</th>\n",
              "      <th>66398;0</th>\n",
              "      <th>70997;0</th>\n",
              "      <td>38701;2</td>\n",
              "    </tr>\n",
              "  </tbody>\n",
              "</table>\n",
              "</div>\n",
              "      <button class=\"colab-df-convert\" onclick=\"convertToInteractive('df-84f88066-b558-41e2-853e-5eaa2f476b49')\"\n",
              "              title=\"Convert this dataframe to an interactive table.\"\n",
              "              style=\"display:none;\">\n",
              "        \n",
              "  <svg xmlns=\"http://www.w3.org/2000/svg\" height=\"24px\"viewBox=\"0 0 24 24\"\n",
              "       width=\"24px\">\n",
              "    <path d=\"M0 0h24v24H0V0z\" fill=\"none\"/>\n",
              "    <path d=\"M18.56 5.44l.94 2.06.94-2.06 2.06-.94-2.06-.94-.94-2.06-.94 2.06-2.06.94zm-11 1L8.5 8.5l.94-2.06 2.06-.94-2.06-.94L8.5 2.5l-.94 2.06-2.06.94zm10 10l.94 2.06.94-2.06 2.06-.94-2.06-.94-.94-2.06-.94 2.06-2.06.94z\"/><path d=\"M17.41 7.96l-1.37-1.37c-.4-.4-.92-.59-1.43-.59-.52 0-1.04.2-1.43.59L10.3 9.45l-7.72 7.72c-.78.78-.78 2.05 0 2.83L4 21.41c.39.39.9.59 1.41.59.51 0 1.02-.2 1.41-.59l7.78-7.78 2.81-2.81c.8-.78.8-2.07 0-2.86zM5.41 20L4 18.59l7.72-7.72 1.47 1.35L5.41 20z\"/>\n",
              "  </svg>\n",
              "      </button>\n",
              "      \n",
              "  <style>\n",
              "    .colab-df-container {\n",
              "      display:flex;\n",
              "      flex-wrap:wrap;\n",
              "      gap: 12px;\n",
              "    }\n",
              "\n",
              "    .colab-df-convert {\n",
              "      background-color: #E8F0FE;\n",
              "      border: none;\n",
              "      border-radius: 50%;\n",
              "      cursor: pointer;\n",
              "      display: none;\n",
              "      fill: #1967D2;\n",
              "      height: 32px;\n",
              "      padding: 0 0 0 0;\n",
              "      width: 32px;\n",
              "    }\n",
              "\n",
              "    .colab-df-convert:hover {\n",
              "      background-color: #E2EBFA;\n",
              "      box-shadow: 0px 1px 2px rgba(60, 64, 67, 0.3), 0px 1px 3px 1px rgba(60, 64, 67, 0.15);\n",
              "      fill: #174EA6;\n",
              "    }\n",
              "\n",
              "    [theme=dark] .colab-df-convert {\n",
              "      background-color: #3B4455;\n",
              "      fill: #D2E3FC;\n",
              "    }\n",
              "\n",
              "    [theme=dark] .colab-df-convert:hover {\n",
              "      background-color: #434B5C;\n",
              "      box-shadow: 0px 1px 3px 1px rgba(0, 0, 0, 0.15);\n",
              "      filter: drop-shadow(0px 1px 2px rgba(0, 0, 0, 0.3));\n",
              "      fill: #FFFFFF;\n",
              "    }\n",
              "  </style>\n",
              "\n",
              "      <script>\n",
              "        const buttonEl =\n",
              "          document.querySelector('#df-84f88066-b558-41e2-853e-5eaa2f476b49 button.colab-df-convert');\n",
              "        buttonEl.style.display =\n",
              "          google.colab.kernel.accessAllowed ? 'block' : 'none';\n",
              "\n",
              "        async function convertToInteractive(key) {\n",
              "          const element = document.querySelector('#df-84f88066-b558-41e2-853e-5eaa2f476b49');\n",
              "          const dataTable =\n",
              "            await google.colab.kernel.invokeFunction('convertToInteractive',\n",
              "                                                     [key], {});\n",
              "          if (!dataTable) return;\n",
              "\n",
              "          const docLinkHtml = 'Like what you see? Visit the ' +\n",
              "            '<a target=\"_blank\" href=https://colab.research.google.com/notebooks/data_table.ipynb>data table notebook</a>'\n",
              "            + ' to learn more about interactive tables.';\n",
              "          element.innerHTML = '';\n",
              "          dataTable['output_type'] = 'display_data';\n",
              "          await google.colab.output.renderOutput(dataTable, element);\n",
              "          const docLink = document.createElement('div');\n",
              "          docLink.innerHTML = docLinkHtml;\n",
              "          element.appendChild(docLink);\n",
              "        }\n",
              "      </script>\n",
              "    </div>\n",
              "  </div>\n",
              "  "
            ],
            "text/plain": [
              "                                   h_0;h_1;h_2;h_3;h_4;status\n",
              "0 34404;0 68715;0  69912;0 2066;0                     78758;0\n",
              "  05118;0 02168;-0 35874;0 67828;0                    28521;2\n",
              "  55498;0 33792;-0 92178;0 91241;0                     7848;2\n",
              "  01134;0 92072;-0 67982;0 03124;0                    58931;2\n",
              "  84702;0 60159;-0 66398;0 70997;0                    38701;2"
            ]
          },
          "execution_count": 205,
          "metadata": {},
          "output_type": "execute_result"
        }
      ],
      "source": [
        "tata.head()"
      ]
    },
    {
      "cell_type": "code",
      "execution_count": null,
      "metadata": {
        "id": "ZRTw8-ucmJUG"
      },
      "outputs": [],
      "source": [
        "batas = lala.values.shape[0] * 8//10\n",
        "x_train = lala.values[ : batas, : -1]\n",
        "y_train = lala.values[ : batas, -1]\n",
        "x_test = lala.values[batas: , : -1]\n",
        "y_test = lala.values[batas: , -1]\n"
      ]
    },
    {
      "cell_type": "code",
      "execution_count": null,
      "metadata": {
        "colab": {
          "base_uri": "https://localhost:8080/"
        },
        "id": "iL9wvu7JnAlD",
        "outputId": "6f670565-ed99-48ea-ad9a-4b92603c54f2"
      },
      "outputs": [
        {
          "name": "stdout",
          "output_type": "stream",
          "text": [
            "(120, 2)\n",
            "(120,)\n",
            "(30, 2)\n",
            "(30,)\n"
          ]
        }
      ],
      "source": [
        "print(x_train.shape)\n",
        "print(y_train.shape)\n",
        "print(x_test.shape)\n",
        "print(y_test.shape)"
      ]
    },
    {
      "cell_type": "code",
      "execution_count": null,
      "metadata": {
        "colab": {
          "base_uri": "https://localhost:8080/"
        },
        "id": "hzvbHbh2nzv2",
        "outputId": "5d03b515-d192-4883-d0a4-7aa61d2d279a"
      },
      "outputs": [
        {
          "name": "stdout",
          "output_type": "stream",
          "text": [
            "[[-0.36505662 -0.31908426]\n",
            " [ 1.9155943   0.12900877]\n",
            " [-1.41608572 -0.43153678]\n",
            " [-1.45322024 -1.45449333]\n",
            " [ 1.30198777 -0.3015992 ]\n",
            " [-0.08313747 -1.50049908]\n",
            " [-0.88694404  1.91205143]\n",
            " [ 0.26009796 -0.11946306]\n",
            " [ 0.13833812 -0.39696617]\n",
            " [ 1.00414687 -0.63592421]\n",
            " [-1.15434179 -1.28486888]\n",
            " [-0.22624757  1.53564625]\n",
            " [ 1.71623288 -0.89942644]\n",
            " [ 1.43521119  1.39417657]\n",
            " [-0.49828524 -0.73384722]\n",
            " [-0.95309256  0.30129821]\n",
            " [ 1.01513807 -1.49085155]\n",
            " [-0.466351    0.6554036 ]\n",
            " [-0.27104356 -1.60065222]\n",
            " [-0.86251622 -1.22145347]\n",
            " [ 0.56733187  1.3607563 ]\n",
            " [ 1.42211536 -0.64457672]\n",
            " [-0.08349435 -0.57728527]\n",
            " [ 0.3415129   0.21369939]\n",
            " [-0.4127574  -1.46666808]\n",
            " [-1.54215134  1.55338359]\n",
            " [ 1.61026504  1.45920351]\n",
            " [-0.04596876  0.50182677]\n",
            " [ 0.50507174 -0.65241458]\n",
            " [-0.91113437  1.98476537]\n",
            " [-1.97716183 -0.5736858 ]\n",
            " [ 0.95778926  1.56968193]\n",
            " [-1.87398331 -1.19890217]\n",
            " [ 1.93124509  0.67513243]\n",
            " [-1.25593873 -0.56988569]\n",
            " [ 1.3405805   0.18063742]\n",
            " [ 0.06218616  0.47543915]\n",
            " [-1.42505425 -1.83922653]\n",
            " [ 0.99650685 -0.47454501]\n",
            " [ 1.76152771  1.6612728 ]\n",
            " [-0.86491407 -0.35964188]\n",
            " [ 1.95763736 -0.09624012]\n",
            " [-0.35640032  1.59495049]\n",
            " [ 0.93119404  1.13127628]\n",
            " [-0.87766888 -1.30762831]\n",
            " [ 1.10305109 -0.11652509]\n",
            " [-1.35373073  0.52506498]\n",
            " [-0.66008091  1.52535795]\n",
            " [ 0.52302386  1.30336564]\n",
            " [ 1.6023931  -1.63379787]\n",
            " [-0.22265757  1.90843339]\n",
            " [-1.13668954 -1.97209842]\n",
            " [-1.05798415  0.51809631]\n",
            " [-0.57561105  1.49889011]\n",
            " [ 0.14116028  1.17732298]\n",
            " [ 0.29335163  0.49811434]\n",
            " [-0.75594281 -0.47223155]\n",
            " [ 1.47156322 -1.35725618]\n",
            " [ 0.40918852 -0.62607555]\n",
            " [-1.01187848  1.04546401]\n",
            " [-0.1953867   1.96014155]\n",
            " [ 1.75738838  1.25682195]\n",
            " [-1.32933325  1.68894155]\n",
            " [ 0.6026477  -0.87777507]\n",
            " [ 0.98491354  1.26490058]\n",
            " [-0.83903333 -1.33864545]\n",
            " [ 0.41062653  0.45073179]\n",
            " [ 0.25795072 -0.66801424]\n",
            " [ 0.38457629 -1.86369225]\n",
            " [ 1.42294241  1.15502113]\n",
            " [ 1.36588958  0.42302857]\n",
            " [ 1.52486558  1.61000216]\n",
            " [-1.52406337  0.90343359]\n",
            " [ 0.37837178 -0.27003443]\n",
            " [ 0.87293599  1.07005956]\n",
            " [ 0.24375885  1.51330973]\n",
            " [-0.10001673  0.43154551]\n",
            " [ 1.37930886 -1.97714608]\n",
            " [-1.19018329 -0.12634464]\n",
            " [-1.52920955 -1.93445578]\n",
            " [-1.99540592 -1.683485  ]\n",
            " [ 1.44189786 -1.84019019]\n",
            " [-0.65243656 -1.16227526]\n",
            " [ 1.73590173 -0.06655544]\n",
            " [ 1.13153921  1.01738464]\n",
            " [-0.14020619 -0.20240246]\n",
            " [ 1.46483222 -1.00874636]\n",
            " [ 0.31723998 -0.33094986]\n",
            " [-1.29049707  1.06051789]\n",
            " [-0.14223768  0.93295213]\n",
            " [-0.4572036  -0.99823352]\n",
            " [-1.61873524 -1.66636991]\n",
            " [ 1.38615696  1.5620359 ]\n",
            " [ 0.3163443   1.94648585]\n",
            " [-0.65441274  1.93696866]\n",
            " [ 1.60730876  1.02641741]\n",
            " [-1.76690236 -1.94647354]\n",
            " [-1.31950098 -1.13286585]\n",
            " [-0.69513827 -1.23692683]\n",
            " [ 0.3098994  -0.3267508 ]\n",
            " [-0.5167568  -0.04070811]\n",
            " [ 1.87217303 -0.01236631]\n",
            " [-1.73464325 -1.65590874]\n",
            " [-0.90832177  0.88724825]\n",
            " [-0.68893444  1.06168362]\n",
            " [-0.64122831 -0.26894244]\n",
            " [ 0.71157256 -0.49284788]\n",
            " [ 1.70428647 -0.20429044]\n",
            " [-0.15818512  1.90435223]\n",
            " [-0.51345774 -0.93703793]\n",
            " [-1.01599239 -0.83530404]\n",
            " [ 1.06411514  1.43438903]\n",
            " [ 0.87667524 -0.67847574]\n",
            " [-1.23009121  0.76323335]\n",
            " [-0.89335093  1.53516625]\n",
            " [ 1.26435173  1.64242162]\n",
            " [-0.25342964  1.1446963 ]\n",
            " [ 0.03483017 -1.48374904]\n",
            " [-1.41429611  1.17960856]\n",
            " [-1.05571529 -0.65187241]]\n",
            "[ 0.2731119   1.65757676 -0.55301217  1.45576643  1.90518617  2.91786068\n",
            " -4.7110469   0.49902408  0.93227047  2.27599529  1.41539597 -3.29754006\n",
            "  3.51508575 -1.35314194  0.9694092  -1.55568897  3.99684116 -1.7771582\n",
            "  2.93026089  1.58039073 -2.15418073  2.71126881  1.07107619 -0.08588588\n",
            "  2.52057877 -4.64891852 -1.30814197 -1.0496223   1.8099009  -4.88066512\n",
            " -0.82979024 -2.1815746   0.52382103  0.58098022 -0.11616735  0.97930567\n",
            " -0.88869215  2.25339881  1.94559688 -1.5610179  -0.1456303   2.1501176\n",
            " -3.54630129 -1.33135851  1.73758773  1.33610127 -2.40386069 -3.71079681\n",
            " -2.08370743  4.86998884 -4.03952435  2.80750729 -2.09417676 -3.57339127\n",
            " -2.21348569 -0.70287704  0.18852028  4.18607558  1.66133961 -3.10280649\n",
            " -4.1156698  -0.75625552 -4.70721634  2.35819784 -1.54488762  1.83825758\n",
            " -0.49083704  1.5939792   4.1119608  -0.88709984  0.51983244 -1.69513873\n",
            " -3.33093055  0.91844063 -1.26718313 -2.7828606  -0.96310776  5.33360102\n",
            " -0.93749401  2.33970201  1.37156408  5.12227824  1.67211396  1.86901262\n",
            " -0.90323007  0.26459873  3.48232494  0.97913971 -3.41153285 -2.00814194\n",
            "  1.53926344  1.71400458 -1.73791485 -3.57662741 -4.52835005 -0.44552606\n",
            "  2.12604472  0.94623073  1.7787154   0.963401   -0.43534059  1.89690565\n",
            "  1.57717423 -2.68281826 -2.81230168 -0.10334343  1.69726832  2.11286734\n",
            " -3.96688959  1.36061813  0.6546157  -1.80466291  2.23362673 -2.75655791\n",
            " -3.96368342 -2.02049151 -2.54282225  3.00232826 -3.77351323  0.24802953]\n"
          ]
        }
      ],
      "source": [
        "print(x_train)\n",
        "print(y_train)"
      ]
    },
    {
      "cell_type": "code",
      "execution_count": null,
      "metadata": {
        "id": "pE_LkntoqIyl"
      },
      "outputs": [],
      "source": [
        "#Algoritma Hubber"
      ]
    },
    {
      "cell_type": "code",
      "execution_count": null,
      "metadata": {
        "colab": {
          "base_uri": "https://localhost:8080/"
        },
        "id": "U_82gmwOoGAr",
        "outputId": "d6d1983d-b067-4f24-f585-4d285efe0b4b"
      },
      "outputs": [
        {
          "data": {
            "text/plain": [
              "array([-4.99471814, -2.9487546 , -0.8418904 , -3.91463568, -3.59722225,\n",
              "        4.64811894,  1.91481331,  1.86465564, -4.36350585,  2.19972186,\n",
              "       -0.48209872, -1.06578493, -2.10033136, -0.61301735,  3.12068224,\n",
              "       -2.24404237, -1.22685565,  1.30638706,  1.0938627 , -1.27142699,\n",
              "        0.22359678, -4.00887911,  1.12248833,  0.78368611,  1.62325382,\n",
              "       -1.7814281 , -0.55336706,  0.07373504,  1.19480067,  0.42877312])"
            ]
          },
          "execution_count": 210,
          "metadata": {},
          "output_type": "execute_result"
        }
      ],
      "source": [
        "from sklearn.linear_model import HuberRegressor\n",
        "huber = HuberRegressor()\n",
        "huber.fit(x_train, y_train)\n",
        "y_pred = huber.predict(x_test)\n",
        "y_pred"
      ]
    },
    {
      "cell_type": "code",
      "execution_count": null,
      "metadata": {
        "colab": {
          "base_uri": "https://localhost:8080/"
        },
        "id": "1GM2owTioil_",
        "outputId": "65f476f4-57eb-4fb9-b216-e3c6c1607f70"
      },
      "outputs": [
        {
          "name": "stdout",
          "output_type": "stream",
          "text": [
            "3.585021182694881e-10\n"
          ]
        }
      ],
      "source": [
        "from sklearn.metrics import mean_absolute_error\n",
        "\n",
        "mae = mean_absolute_error(y_pred, y_test)\n",
        "print(mae)"
      ]
    },
    {
      "cell_type": "code",
      "execution_count": null,
      "metadata": {
        "id": "yGxKcbyhsbJr"
      },
      "outputs": [],
      "source": [
        "#Algorima Lasso"
      ]
    },
    {
      "cell_type": "code",
      "execution_count": null,
      "metadata": {
        "colab": {
          "base_uri": "https://localhost:8080/"
        },
        "id": "fmXxwUu_qOcn",
        "outputId": "9d20014f-3476-40a9-c57b-8efa01812042"
      },
      "outputs": [
        {
          "data": {
            "text/plain": [
              "array([-1.86072511, -1.20919219, -1.0066799 , -1.95871411, -1.41917809,\n",
              "        1.73136993,  1.92133606,  1.25538788, -1.38982631,  0.86683139,\n",
              "       -0.84922894, -1.71674439, -0.72836047, -0.11344116,  1.77247493,\n",
              "       -2.17359735,  0.27247484,  1.29624817,  0.8465963 , -1.77883489,\n",
              "        0.10286784, -1.38794065,  1.38999032,  0.07611248,  0.28370578,\n",
              "       -1.28329374,  0.17715916, -1.06514769,  1.12149073, -0.28318996])"
            ]
          },
          "execution_count": 213,
          "metadata": {},
          "output_type": "execute_result"
        }
      ],
      "source": [
        "from sklearn.linear_model import Lasso\n",
        "Lasso = Lasso()\n",
        "Lasso.fit(x_train, y_train)\n",
        "y_pred = Lasso.predict(x_test)\n",
        "y_pred"
      ]
    },
    {
      "cell_type": "code",
      "execution_count": null,
      "metadata": {
        "colab": {
          "base_uri": "https://localhost:8080/"
        },
        "id": "H5-GaFodqgaI",
        "outputId": "d01e0a1f-759c-4fa7-ca77-d8a507c8d473"
      },
      "outputs": [
        {
          "name": "stdout",
          "output_type": "stream",
          "text": [
            "Mae =  1.059765346685561\n"
          ]
        }
      ],
      "source": [
        "from sklearn.metrics import mean_absolute_error\n",
        "\n",
        "mae = mean_absolute_error(y_pred,y_test)\n",
        "print(\"Mae = \", mae)"
      ]
    },
    {
      "cell_type": "code",
      "execution_count": null,
      "metadata": {
        "id": "Uc2djT1bsXWE"
      },
      "outputs": [],
      "source": [
        "#algoritma Ridge"
      ]
    },
    {
      "cell_type": "code",
      "execution_count": null,
      "metadata": {
        "colab": {
          "base_uri": "https://localhost:8080/"
        },
        "id": "WaEiAWDAqvRC",
        "outputId": "a279ad00-0e92-47bd-e98f-dc5d70c14d7b"
      },
      "outputs": [
        {
          "data": {
            "text/plain": [
              "array([-4.9571673 , -2.92729228, -0.83921133, -3.88766872, -3.57067715,\n",
              "        4.61230924,  1.90551323,  1.85267525, -4.32964186,  2.18276383,\n",
              "       -0.48204606, -1.06436696, -2.08454414, -0.60825732,  3.09937901,\n",
              "       -2.23374532, -1.21451839,  1.29983092,  1.08717081, -1.26837588,\n",
              "        0.22154102, -3.97832903,  1.11809876,  0.77625577,  1.60893878,\n",
              "       -1.77125413, -0.54779126,  0.06755815,  1.18846339,  0.42296861])"
            ]
          },
          "execution_count": 216,
          "metadata": {},
          "output_type": "execute_result"
        }
      ],
      "source": [
        "from sklearn.linear_model import Ridge\n",
        "Ridge = Ridge()\n",
        "Ridge.fit(x_train, y_train)\n",
        "y_pred = Ridge.predict(x_test)\n",
        "y_pred"
      ]
    },
    {
      "cell_type": "code",
      "execution_count": null,
      "metadata": {
        "colab": {
          "base_uri": "https://localhost:8080/"
        },
        "id": "9FbECDIXq9HN",
        "outputId": "cc2e0645-1ea2-45db-85a3-72c9d1096b91"
      },
      "outputs": [
        {
          "name": "stdout",
          "output_type": "stream",
          "text": [
            "0.01327267673346396\n"
          ]
        }
      ],
      "source": [
        "from sklearn.metrics import mean_absolute_error\n",
        "\n",
        "mae = mean_absolute_error(y_pred,y_test)\n",
        "print(mae)"
      ]
    },
    {
      "cell_type": "code",
      "execution_count": null,
      "metadata": {
        "id": "h1TlSPJnru1R"
      },
      "outputs": [],
      "source": [
        "#classification"
      ]
    },
    {
      "cell_type": "code",
      "execution_count": null,
      "metadata": {
        "colab": {
          "base_uri": "https://localhost:8080/",
          "height": 424
        },
        "id": "8NvXqIpFryS6",
        "outputId": "04a86e9b-daf1-41da-90ed-e61e8637f510"
      },
      "outputs": [
        {
          "data": {
            "text/html": [
              "\n",
              "  <div id=\"df-cdefeb02-3439-4f95-99e6-2f5588ba9bed\">\n",
              "    <div class=\"colab-df-container\">\n",
              "      <div>\n",
              "<style scoped>\n",
              "    .dataframe tbody tr th:only-of-type {\n",
              "        vertical-align: middle;\n",
              "    }\n",
              "\n",
              "    .dataframe tbody tr th {\n",
              "        vertical-align: top;\n",
              "    }\n",
              "\n",
              "    .dataframe thead th {\n",
              "        text-align: right;\n",
              "    }\n",
              "</style>\n",
              "<table border=\"1\" class=\"dataframe\">\n",
              "  <thead>\n",
              "    <tr style=\"text-align: right;\">\n",
              "      <th></th>\n",
              "      <th>h_0</th>\n",
              "      <th>h_1</th>\n",
              "      <th>h_2</th>\n",
              "      <th>h_3</th>\n",
              "      <th>h_4</th>\n",
              "      <th>status</th>\n",
              "    </tr>\n",
              "  </thead>\n",
              "  <tbody>\n",
              "    <tr>\n",
              "      <th>0</th>\n",
              "      <td>0.34404</td>\n",
              "      <td>0.68715</td>\n",
              "      <td>0.69912</td>\n",
              "      <td>0.20660</td>\n",
              "      <td>0.78758</td>\n",
              "      <td>0</td>\n",
              "    </tr>\n",
              "    <tr>\n",
              "      <th>1</th>\n",
              "      <td>-0.05118</td>\n",
              "      <td>0.02168</td>\n",
              "      <td>-0.35874</td>\n",
              "      <td>0.67828</td>\n",
              "      <td>0.28521</td>\n",
              "      <td>2</td>\n",
              "    </tr>\n",
              "    <tr>\n",
              "      <th>2</th>\n",
              "      <td>-0.55498</td>\n",
              "      <td>0.33792</td>\n",
              "      <td>-0.92178</td>\n",
              "      <td>0.91241</td>\n",
              "      <td>0.78480</td>\n",
              "      <td>2</td>\n",
              "    </tr>\n",
              "    <tr>\n",
              "      <th>3</th>\n",
              "      <td>-0.01134</td>\n",
              "      <td>0.92072</td>\n",
              "      <td>-0.67982</td>\n",
              "      <td>0.03124</td>\n",
              "      <td>0.58931</td>\n",
              "      <td>2</td>\n",
              "    </tr>\n",
              "    <tr>\n",
              "      <th>4</th>\n",
              "      <td>-0.84702</td>\n",
              "      <td>0.60159</td>\n",
              "      <td>-0.66398</td>\n",
              "      <td>0.70997</td>\n",
              "      <td>0.38701</td>\n",
              "      <td>2</td>\n",
              "    </tr>\n",
              "    <tr>\n",
              "      <th>...</th>\n",
              "      <td>...</td>\n",
              "      <td>...</td>\n",
              "      <td>...</td>\n",
              "      <td>...</td>\n",
              "      <td>...</td>\n",
              "      <td>...</td>\n",
              "    </tr>\n",
              "    <tr>\n",
              "      <th>1040</th>\n",
              "      <td>0.80158</td>\n",
              "      <td>0.04474</td>\n",
              "      <td>0.24985</td>\n",
              "      <td>0.39159</td>\n",
              "      <td>0.85916</td>\n",
              "      <td>0</td>\n",
              "    </tr>\n",
              "    <tr>\n",
              "      <th>1041</th>\n",
              "      <td>0.00569</td>\n",
              "      <td>0.67953</td>\n",
              "      <td>0.77433</td>\n",
              "      <td>0.96257</td>\n",
              "      <td>0.30321</td>\n",
              "      <td>0</td>\n",
              "    </tr>\n",
              "    <tr>\n",
              "      <th>1042</th>\n",
              "      <td>-0.99412</td>\n",
              "      <td>-0.53149</td>\n",
              "      <td>-0.11107</td>\n",
              "      <td>-0.39314</td>\n",
              "      <td>0.79514</td>\n",
              "      <td>3</td>\n",
              "    </tr>\n",
              "    <tr>\n",
              "      <th>1043</th>\n",
              "      <td>-0.45205</td>\n",
              "      <td>0.02001</td>\n",
              "      <td>-0.67330</td>\n",
              "      <td>0.85855</td>\n",
              "      <td>0.14457</td>\n",
              "      <td>2</td>\n",
              "    </tr>\n",
              "    <tr>\n",
              "      <th>1044</th>\n",
              "      <td>-0.37498</td>\n",
              "      <td>0.96510</td>\n",
              "      <td>-0.97453</td>\n",
              "      <td>0.45129</td>\n",
              "      <td>0.33865</td>\n",
              "      <td>2</td>\n",
              "    </tr>\n",
              "  </tbody>\n",
              "</table>\n",
              "<p>1045 rows × 6 columns</p>\n",
              "</div>\n",
              "      <button class=\"colab-df-convert\" onclick=\"convertToInteractive('df-cdefeb02-3439-4f95-99e6-2f5588ba9bed')\"\n",
              "              title=\"Convert this dataframe to an interactive table.\"\n",
              "              style=\"display:none;\">\n",
              "        \n",
              "  <svg xmlns=\"http://www.w3.org/2000/svg\" height=\"24px\"viewBox=\"0 0 24 24\"\n",
              "       width=\"24px\">\n",
              "    <path d=\"M0 0h24v24H0V0z\" fill=\"none\"/>\n",
              "    <path d=\"M18.56 5.44l.94 2.06.94-2.06 2.06-.94-2.06-.94-.94-2.06-.94 2.06-2.06.94zm-11 1L8.5 8.5l.94-2.06 2.06-.94-2.06-.94L8.5 2.5l-.94 2.06-2.06.94zm10 10l.94 2.06.94-2.06 2.06-.94-2.06-.94-.94-2.06-.94 2.06-2.06.94z\"/><path d=\"M17.41 7.96l-1.37-1.37c-.4-.4-.92-.59-1.43-.59-.52 0-1.04.2-1.43.59L10.3 9.45l-7.72 7.72c-.78.78-.78 2.05 0 2.83L4 21.41c.39.39.9.59 1.41.59.51 0 1.02-.2 1.41-.59l7.78-7.78 2.81-2.81c.8-.78.8-2.07 0-2.86zM5.41 20L4 18.59l7.72-7.72 1.47 1.35L5.41 20z\"/>\n",
              "  </svg>\n",
              "      </button>\n",
              "      \n",
              "  <style>\n",
              "    .colab-df-container {\n",
              "      display:flex;\n",
              "      flex-wrap:wrap;\n",
              "      gap: 12px;\n",
              "    }\n",
              "\n",
              "    .colab-df-convert {\n",
              "      background-color: #E8F0FE;\n",
              "      border: none;\n",
              "      border-radius: 50%;\n",
              "      cursor: pointer;\n",
              "      display: none;\n",
              "      fill: #1967D2;\n",
              "      height: 32px;\n",
              "      padding: 0 0 0 0;\n",
              "      width: 32px;\n",
              "    }\n",
              "\n",
              "    .colab-df-convert:hover {\n",
              "      background-color: #E2EBFA;\n",
              "      box-shadow: 0px 1px 2px rgba(60, 64, 67, 0.3), 0px 1px 3px 1px rgba(60, 64, 67, 0.15);\n",
              "      fill: #174EA6;\n",
              "    }\n",
              "\n",
              "    [theme=dark] .colab-df-convert {\n",
              "      background-color: #3B4455;\n",
              "      fill: #D2E3FC;\n",
              "    }\n",
              "\n",
              "    [theme=dark] .colab-df-convert:hover {\n",
              "      background-color: #434B5C;\n",
              "      box-shadow: 0px 1px 3px 1px rgba(0, 0, 0, 0.15);\n",
              "      filter: drop-shadow(0px 1px 2px rgba(0, 0, 0, 0.3));\n",
              "      fill: #FFFFFF;\n",
              "    }\n",
              "  </style>\n",
              "\n",
              "      <script>\n",
              "        const buttonEl =\n",
              "          document.querySelector('#df-cdefeb02-3439-4f95-99e6-2f5588ba9bed button.colab-df-convert');\n",
              "        buttonEl.style.display =\n",
              "          google.colab.kernel.accessAllowed ? 'block' : 'none';\n",
              "\n",
              "        async function convertToInteractive(key) {\n",
              "          const element = document.querySelector('#df-cdefeb02-3439-4f95-99e6-2f5588ba9bed');\n",
              "          const dataTable =\n",
              "            await google.colab.kernel.invokeFunction('convertToInteractive',\n",
              "                                                     [key], {});\n",
              "          if (!dataTable) return;\n",
              "\n",
              "          const docLinkHtml = 'Like what you see? Visit the ' +\n",
              "            '<a target=\"_blank\" href=https://colab.research.google.com/notebooks/data_table.ipynb>data table notebook</a>'\n",
              "            + ' to learn more about interactive tables.';\n",
              "          element.innerHTML = '';\n",
              "          dataTable['output_type'] = 'display_data';\n",
              "          await google.colab.output.renderOutput(dataTable, element);\n",
              "          const docLink = document.createElement('div');\n",
              "          docLink.innerHTML = docLinkHtml;\n",
              "          element.appendChild(docLink);\n",
              "        }\n",
              "      </script>\n",
              "    </div>\n",
              "  </div>\n",
              "  "
            ],
            "text/plain": [
              "          h_0      h_1      h_2      h_3      h_4  status\n",
              "0     0.34404  0.68715  0.69912  0.20660  0.78758       0\n",
              "1    -0.05118  0.02168 -0.35874  0.67828  0.28521       2\n",
              "2    -0.55498  0.33792 -0.92178  0.91241  0.78480       2\n",
              "3    -0.01134  0.92072 -0.67982  0.03124  0.58931       2\n",
              "4    -0.84702  0.60159 -0.66398  0.70997  0.38701       2\n",
              "...       ...      ...      ...      ...      ...     ...\n",
              "1040  0.80158  0.04474  0.24985  0.39159  0.85916       0\n",
              "1041  0.00569  0.67953  0.77433  0.96257  0.30321       0\n",
              "1042 -0.99412 -0.53149 -0.11107 -0.39314  0.79514       3\n",
              "1043 -0.45205  0.02001 -0.67330  0.85855  0.14457       2\n",
              "1044 -0.37498  0.96510 -0.97453  0.45129  0.33865       2\n",
              "\n",
              "[1045 rows x 6 columns]"
            ]
          },
          "execution_count": 229,
          "metadata": {},
          "output_type": "execute_result"
        }
      ],
      "source": [
        "tata = pd.read_csv('train5.csv', delimiter=';', decimal=',')\n",
        "tata"
      ]
    },
    {
      "cell_type": "code",
      "execution_count": null,
      "metadata": {
        "id": "qb5BKMuWsgr_"
      },
      "outputs": [],
      "source": [
        "batas = tata.values.shape[0] * 8//10\n",
        "x_train = tata.values[ : batas, : -1]\n",
        "y_train = tata.values[ : batas, -1]\n",
        "x_test = tata.values[batas: , : -1]\n",
        "y_test = tata.values[batas: , -1]"
      ]
    },
    {
      "cell_type": "code",
      "execution_count": null,
      "metadata": {
        "colab": {
          "base_uri": "https://localhost:8080/"
        },
        "id": "o_PhXikHsv5w",
        "outputId": "2df0c41e-e902-4360-f5f7-c08cdccc3509"
      },
      "outputs": [
        {
          "name": "stdout",
          "output_type": "stream",
          "text": [
            "(836, 5)\n",
            "(836,)\n",
            "(209, 5)\n",
            "(209,)\n"
          ]
        }
      ],
      "source": [
        "print(x_train.shape)\n",
        "print(y_train.shape)\n",
        "print(x_test.shape)\n",
        "print(y_test.shape)"
      ]
    },
    {
      "cell_type": "code",
      "execution_count": null,
      "metadata": {
        "colab": {
          "base_uri": "https://localhost:8080/"
        },
        "id": "qPJS8RTjszen",
        "outputId": "c4568bd2-296c-4678-bccb-83d6b03533f2"
      },
      "outputs": [
        {
          "data": {
            "text/plain": [
              "array([0., 2., 2., 2., 2., 2., 2., 0., 1., 2., 1., 0., 2., 0., 1., 3., 0.,\n",
              "       1., 3., 3., 3., 2., 3., 1., 2., 0., 0., 2., 0., 0., 0., 2., 3., 3.,\n",
              "       3., 0., 0., 3., 3., 3., 0., 0., 3., 1., 2., 3., 0., 0., 1., 2., 0.,\n",
              "       3., 0., 1., 2., 3., 3., 1., 2., 1., 3., 3., 0., 0., 1., 2., 0., 1.,\n",
              "       2., 3., 3., 0., 2., 1., 1., 3., 3., 3., 2., 2., 0., 0., 2., 0., 0.,\n",
              "       2., 2., 3., 1., 1., 3., 3., 2., 3., 1., 2., 0., 3., 3., 0., 3., 1.,\n",
              "       0., 3., 0., 3., 0., 1., 1., 0., 3., 2., 0., 1., 0., 0., 0., 0., 0.,\n",
              "       1., 3., 0., 3., 3., 2., 1., 0., 2., 2., 0., 2., 0., 2., 1., 2., 1.,\n",
              "       1., 3., 1., 2., 2., 3., 3., 1., 2., 1., 3., 2., 1., 1., 2., 2., 2.,\n",
              "       2., 3., 0., 1., 0., 3., 3., 2., 2., 2., 3., 3., 1., 0., 1., 1., 0.,\n",
              "       2., 0., 1., 2., 3., 3., 0., 2., 0., 0., 0., 3., 3., 1., 2., 2., 2.,\n",
              "       1., 2., 3., 0., 1., 3., 2., 0., 2., 0., 2., 1., 1., 2., 0., 0., 0.,\n",
              "       3., 3., 1., 0., 1., 2., 1., 3., 1., 1., 1., 3., 2., 2., 1., 1., 0.,\n",
              "       2., 0., 1., 0., 2., 3., 0., 0., 1., 0., 0., 0., 0., 2., 0., 2., 2.,\n",
              "       0., 1., 2., 1., 1., 1., 1., 2., 2., 3., 3., 0., 0., 1., 2., 3., 0.,\n",
              "       1., 0., 0., 2., 3., 2., 1., 0., 3., 1., 2., 2., 1., 0., 3., 3., 2.,\n",
              "       2., 3., 1., 3., 0., 3., 0., 0., 1., 1., 0., 2., 1., 3., 0., 3., 2.,\n",
              "       2., 3., 2., 1., 3., 0., 1., 3., 2., 2., 1., 0., 3., 0., 3., 3., 2.,\n",
              "       3., 1., 3., 3., 1., 2., 1., 1., 3., 3., 0., 0., 1., 0., 2., 0., 3.,\n",
              "       3., 3., 2., 3., 2., 2., 1., 0., 3., 3., 2., 1., 1., 0., 3., 1., 0.,\n",
              "       1., 0., 3., 3., 0., 0., 0., 0., 3., 0., 0., 0., 1., 3., 2., 0., 0.,\n",
              "       2., 0., 0., 0., 2., 2., 0., 1., 1., 1., 0., 3., 1., 1., 1., 1., 3.,\n",
              "       3., 1., 3., 1., 3., 1., 3., 2., 3., 1., 0., 0., 1., 0., 2., 3., 0.,\n",
              "       3., 3., 3., 0., 0., 3., 0., 0., 0., 0., 0., 2., 0., 1., 1., 0., 1.,\n",
              "       3., 2., 3., 0., 1., 3., 1., 3., 0., 3., 0., 3., 3., 3., 1., 2., 3.,\n",
              "       0., 1., 3., 1., 1., 0., 1., 3., 0., 3., 1., 3., 2., 2., 2., 0., 2.,\n",
              "       3., 3., 0., 1., 0., 2., 1., 0., 0., 3., 2., 3., 0., 0., 3., 2., 3.,\n",
              "       2., 0., 1., 2., 2., 3., 1., 2., 0., 2., 2., 1., 2., 3., 3., 3., 2.,\n",
              "       2., 2., 3., 3., 0., 0., 1., 0., 1., 0., 2., 1., 2., 2., 2., 0., 1.,\n",
              "       0., 3., 3., 0., 1., 3., 3., 1., 3., 1., 1., 2., 0., 1., 1., 1., 3.,\n",
              "       1., 2., 2., 0., 3., 3., 2., 1., 2., 2., 3., 2., 0., 1., 2., 3., 1.,\n",
              "       1., 3., 1., 0., 2., 2., 1., 2., 3., 0., 1., 1., 3., 3., 0., 1., 3.,\n",
              "       3., 0., 3., 3., 1., 1., 0., 2., 3., 0., 3., 0., 3., 0., 2., 0., 1.,\n",
              "       1., 3., 3., 2., 2., 1., 1., 3., 0., 0., 2., 2., 1., 1., 3., 2., 3.,\n",
              "       2., 1., 2., 2., 0., 2., 2., 0., 1., 2., 3., 1., 1., 2., 2., 0., 3.,\n",
              "       3., 0., 2., 3., 1., 2., 2., 1., 1., 3., 2., 1., 2., 2., 3., 3., 2.,\n",
              "       3., 0., 0., 3., 0., 1., 2., 3., 3., 1., 2., 2., 1., 0., 3., 1., 1.,\n",
              "       1., 1., 0., 1., 3., 1., 3., 3., 3., 1., 0., 2., 3., 3., 0., 1., 0.,\n",
              "       1., 0., 3., 2., 2., 2., 1., 1., 2., 1., 2., 2., 1., 2., 3., 3., 2.,\n",
              "       2., 0., 2., 1., 0., 2., 1., 1., 0., 3., 2., 1., 0., 0., 0., 2., 1.,\n",
              "       0., 1., 3., 1., 3., 0., 0., 0., 2., 2., 1., 3., 1., 0., 0., 1., 3.,\n",
              "       2., 1., 1., 1., 3., 0., 2., 1., 3., 1., 0., 0., 2., 0., 2., 1., 2.,\n",
              "       0., 0., 0., 3., 2., 0., 0., 3., 1., 1., 2., 2., 0., 2., 2., 2., 3.,\n",
              "       1., 1., 0., 2., 0., 0., 3., 2., 1., 2., 2., 0., 2., 3., 0., 0., 1.,\n",
              "       3., 3., 3., 3., 0., 2., 2., 3., 0., 1., 3., 1., 0., 0., 3., 0., 2.,\n",
              "       0., 3., 3., 2., 1., 0., 0., 0., 1., 2., 2., 0., 2., 1., 2., 0., 2.,\n",
              "       2., 2., 1., 1., 3., 3., 3., 2., 3., 1., 3., 3., 1., 1., 3., 3., 2.,\n",
              "       2., 1., 3., 0., 1., 3., 2., 2., 2., 1., 2., 2., 1., 1., 0., 1., 1.,\n",
              "       2., 1., 0., 1., 3., 3., 2., 2., 3., 2., 2., 3., 3., 0., 3., 3., 0.,\n",
              "       1., 2., 3.])"
            ]
          },
          "execution_count": 233,
          "metadata": {},
          "output_type": "execute_result"
        }
      ],
      "source": [
        "y_train"
      ]
    },
    {
      "cell_type": "code",
      "execution_count": null,
      "metadata": {
        "colab": {
          "base_uri": "https://localhost:8080/"
        },
        "id": "3xcwHWTwtT9M",
        "outputId": "1a61a377-4725-470d-c501-a282bc12253b"
      },
      "outputs": [
        {
          "data": {
            "text/plain": [
              "GaussianNB()"
            ]
          },
          "execution_count": 236,
          "metadata": {},
          "output_type": "execute_result"
        }
      ],
      "source": [
        "from sklearn.naive_bayes import GaussianNB\n",
        "otak = GaussianNB()\n",
        "otak.fit(x_train, y_train)\n"
      ]
    },
    {
      "cell_type": "code",
      "execution_count": null,
      "metadata": {
        "colab": {
          "base_uri": "https://localhost:8080/"
        },
        "id": "z_cwnyJeud5-",
        "outputId": "df016923-9b26-4f4a-dfd5-dbf0f998bd1b"
      },
      "outputs": [
        {
          "data": {
            "text/plain": [
              "array([2., 1., 3., 1., 3., 3., 0., 2., 0., 1., 1., 3., 0., 2., 1., 1., 3.,\n",
              "       3., 0., 2., 3., 1., 3., 1., 1., 0., 3., 2., 3., 3., 2., 2., 0., 2.,\n",
              "       0., 3., 2., 0., 0., 3., 2., 1., 1., 2., 1., 1., 1., 2., 0., 0., 2.,\n",
              "       2., 3., 2., 3., 1., 1., 2., 2., 0., 2., 1., 1., 3., 0., 2., 3., 0.,\n",
              "       0., 2., 2., 0., 3., 2., 1., 2., 2., 1., 3., 2., 0., 1., 3., 1., 2.,\n",
              "       1., 1., 0., 3., 0., 1., 0., 2., 3., 2., 1., 0., 1., 2., 1., 0., 2.,\n",
              "       3., 1., 1., 3., 2., 2., 1., 2., 1., 3., 2., 2., 1., 3., 2., 1., 0.,\n",
              "       3., 0., 2., 2., 1., 1., 3., 1., 0., 2., 1., 1., 2., 0., 3., 0., 1.,\n",
              "       3., 1., 1., 1., 1., 1., 0., 2., 1., 0., 0., 1., 3., 0., 0., 3., 3.,\n",
              "       0., 3., 0., 3., 1., 2., 0., 3., 3., 2., 3., 1., 0., 1., 0., 3., 3.,\n",
              "       1., 3., 0., 1., 2., 1., 2., 1., 2., 1., 3., 3., 0., 2., 3., 0., 3.,\n",
              "       2., 0., 0., 3., 1., 0., 1., 0., 1., 2., 0., 0., 0., 1., 0., 3., 2.,\n",
              "       0., 0., 3., 2., 2.])"
            ]
          },
          "execution_count": 237,
          "metadata": {},
          "output_type": "execute_result"
        }
      ],
      "source": [
        "y_pred = otak.predict(x_test)\n",
        "y_pred"
      ]
    },
    {
      "cell_type": "code",
      "execution_count": null,
      "metadata": {
        "colab": {
          "base_uri": "https://localhost:8080/"
        },
        "id": "Sqp5URxgulAV",
        "outputId": "414c1d5f-0874-4ea0-8d16-a522b964a056"
      },
      "outputs": [
        {
          "data": {
            "text/plain": [
              "array([2., 1., 3., 1., 3., 3., 0., 2., 0., 1., 1., 3., 0., 2., 1., 1., 3.,\n",
              "       3., 0., 2., 3., 1., 3., 1., 1., 0., 3., 2., 3., 3., 2., 2., 0., 2.,\n",
              "       0., 3., 2., 0., 0., 3., 2., 1., 1., 2., 1., 1., 1., 2., 0., 0., 2.,\n",
              "       2., 3., 2., 3., 1., 1., 2., 2., 0., 2., 1., 1., 3., 0., 2., 3., 0.,\n",
              "       0., 2., 2., 0., 3., 2., 1., 2., 2., 1., 3., 2., 0., 1., 3., 1., 2.,\n",
              "       1., 1., 0., 3., 0., 1., 0., 2., 3., 2., 1., 0., 1., 2., 1., 0., 2.,\n",
              "       3., 1., 1., 3., 2., 2., 1., 2., 1., 3., 2., 2., 1., 3., 2., 1., 0.,\n",
              "       3., 0., 2., 2., 1., 1., 3., 1., 0., 2., 1., 1., 2., 0., 3., 0., 1.,\n",
              "       3., 1., 1., 1., 1., 1., 0., 2., 1., 0., 0., 1., 3., 0., 0., 3., 3.,\n",
              "       0., 3., 0., 3., 1., 2., 0., 3., 3., 2., 3., 1., 0., 1., 0., 3., 3.,\n",
              "       1., 3., 0., 1., 2., 1., 2., 1., 2., 1., 3., 3., 0., 2., 3., 0., 3.,\n",
              "       2., 0., 0., 3., 1., 0., 1., 0., 1., 2., 0., 0., 0., 1., 0., 3., 2.,\n",
              "       0., 0., 3., 2., 2.])"
            ]
          },
          "execution_count": 238,
          "metadata": {},
          "output_type": "execute_result"
        }
      ],
      "source": [
        "y_test"
      ]
    },
    {
      "cell_type": "code",
      "execution_count": null,
      "metadata": {
        "colab": {
          "base_uri": "https://localhost:8080/"
        },
        "id": "eW7YDqMtwBQF",
        "outputId": "2b160338-061c-45a4-bb4c-e29315ef22bc"
      },
      "outputs": [
        {
          "data": {
            "text/plain": [
              "1.0"
            ]
          },
          "execution_count": 239,
          "metadata": {},
          "output_type": "execute_result"
        }
      ],
      "source": [
        "from sklearn.metrics import accuracy_score\n",
        "accuracy_score(y_pred, y_test)"
      ]
    },
    {
      "cell_type": "code",
      "execution_count": 240,
      "metadata": {
        "colab": {
          "base_uri": "https://localhost:8080/"
        },
        "id": "6UCU2MCJ3S7n",
        "outputId": "015729b2-00d6-495f-8684-679c793fa30a"
      },
      "outputs": [
        {
          "data": {
            "text/plain": [
              "array([[50,  0,  0,  0],\n",
              "       [ 0, 59,  0,  0],\n",
              "       [ 0,  0, 52,  0],\n",
              "       [ 0,  0,  0, 48]])"
            ]
          },
          "execution_count": 240,
          "metadata": {},
          "output_type": "execute_result"
        }
      ],
      "source": [
        "from sklearn.metrics import confusion_matrix\n",
        "confusion_matrix(y_pred, y_test)"
      ]
    },
    {
      "cell_type": "code",
      "execution_count": 242,
      "metadata": {
        "colab": {
          "base_uri": "https://localhost:8080/"
        },
        "id": "0qfI9CRg3i0g",
        "outputId": "d3ec2920-e015-410e-f634-349e843746b4"
      },
      "outputs": [
        {
          "name": "stdout",
          "output_type": "stream",
          "text": [
            "              precision    recall  f1-score   support\n",
            "\n",
            "         0.0       1.00      1.00      1.00        50\n",
            "         1.0       1.00      1.00      1.00        59\n",
            "         2.0       1.00      1.00      1.00        52\n",
            "         3.0       1.00      1.00      1.00        48\n",
            "\n",
            "    accuracy                           1.00       209\n",
            "   macro avg       1.00      1.00      1.00       209\n",
            "weighted avg       1.00      1.00      1.00       209\n",
            "\n"
          ]
        }
      ],
      "source": [
        "from sklearn.metrics import classification_report\n",
        "print(classification_report(y_test, y_pred))"
      ]
    },
    {
      "cell_type": "markdown",
      "metadata": {
        "id": "BeVwsBS7sm3c"
      },
      "source": []
    }
  ],
  "metadata": {
    "colab": {
      "collapsed_sections": [],
      "provenance": []
    },
    "kernelspec": {
      "display_name": "Python 3.10.6 ('python')",
      "language": "python",
      "name": "python3"
    },
    "language_info": {
      "name": "python",
      "version": "3.10.6"
    },
    "vscode": {
      "interpreter": {
        "hash": "45bf7f17dadebdc581538a04e72eec4af353140a24cf5b2bc98c1d568cfdbf7d"
      }
    }
  },
  "nbformat": 4,
  "nbformat_minor": 0
}

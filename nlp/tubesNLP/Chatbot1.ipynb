{
  "cells": [
    {
      "cell_type": "markdown",
      "source": [
        "# **LOAD GOOGLE DRIVE**"
      ],
      "metadata": {
        "id": "tA9JYWR6eqb4"
      }
    },
    {
      "cell_type": "code",
      "execution_count": null,
      "metadata": {
        "colab": {
          "base_uri": "https://localhost:8080/"
        },
        "id": "yFulg030ooSL",
        "outputId": "e7cfcac3-929a-4b06-e3f6-febdb6b203db"
      },
      "outputs": [
        {
          "output_type": "stream",
          "name": "stdout",
          "text": [
            "Drive already mounted at /content/drive; to attempt to forcibly remount, call drive.mount(\"/content/drive\", force_remount=True).\n"
          ]
        }
      ],
      "source": [
        "from google.colab import drive\n",
        "drive.mount('/content/drive')"
      ]
    },
    {
      "cell_type": "code",
      "source": [
        "!pip -q install speechrecognition"
      ],
      "metadata": {
        "colab": {
          "base_uri": "https://localhost:8080/"
        },
        "id": "txafG4gChqNK",
        "outputId": "b7c59079-601c-453b-a2e6-8dd46024d905"
      },
      "execution_count": null,
      "outputs": [
        {
          "output_type": "stream",
          "name": "stdout",
          "text": [
            "\u001b[2K     \u001b[90m━━━━━━━━━━━━━━━━━━━━━━━━━━━━━━━━━━━━━━━━\u001b[0m \u001b[32m32.8/32.8 MB\u001b[0m \u001b[31m25.1 MB/s\u001b[0m eta \u001b[36m0:00:00\u001b[0m\n",
            "\u001b[2K     \u001b[90m━━━━━━━━━━━━━━━━━━━━━━━━━━━━━━━━━━━━━━━━\u001b[0m \u001b[32m62.8/62.8 KB\u001b[0m \u001b[31m5.7 MB/s\u001b[0m eta \u001b[36m0:00:00\u001b[0m\n",
            "\u001b[?25h"
          ]
        }
      ]
    },
    {
      "cell_type": "code",
      "source": [
        "!pip -q install gtts"
      ],
      "metadata": {
        "id": "_xAZsAUbhsgZ"
      },
      "execution_count": null,
      "outputs": []
    },
    {
      "cell_type": "code",
      "execution_count": null,
      "metadata": {
        "id": "GGdzAjHTo-07"
      },
      "outputs": [],
      "source": [
        "# Import Libraries\n",
        "import json\n",
        "import nltk\n",
        "import time\n",
        "import random\n",
        "import string\n",
        "import pickle #untuk menyimpan dan membaca data ke dalam atau dari suatu file berformat\n",
        "import numpy as np\n",
        "import pandas as pd\n",
        "from gtts import gTTS \n",
        "from io import BytesIO #dapat disimpan sebagai byte dalam buffer dalam memori saat kita menggunakan operasi Byte IO modul io.\n",
        "import tensorflow as tf\n",
        "import IPython.display as ipd\n",
        "import speech_recognition as sr \n",
        "import matplotlib.pyplot as plt\n",
        "from nltk.stem import WordNetLemmatizer\n",
        "from tensorflow.keras.models import Model\n",
        "from keras.utils.vis_utils import plot_model\n",
        "from sklearn.preprocessing import LabelEncoder\n",
        "from tensorflow.keras.preprocessing.text import Tokenizer\n",
        "from tensorflow.keras.layers import Input, Embedding, LSTM\n",
        "from tensorflow.keras.preprocessing.sequence import pad_sequences\n",
        "from tensorflow.keras.layers import Flatten, Dense, GlobalMaxPool1D"
      ]
    },
    {
      "cell_type": "markdown",
      "source": [
        "# **Download NLTK Package**"
      ],
      "metadata": {
        "id": "AEihcDH6e_Wx"
      }
    },
    {
      "cell_type": "code",
      "execution_count": null,
      "metadata": {
        "colab": {
          "base_uri": "https://localhost:8080/"
        },
        "id": "_2cryIvCpEKF",
        "outputId": "563fcb49-93d9-42b2-80ea-660279b950fa"
      },
      "outputs": [
        {
          "output_type": "stream",
          "name": "stderr",
          "text": [
            "[nltk_data] Downloading package punkt to /root/nltk_data...\n",
            "[nltk_data]   Unzipping tokenizers/punkt.zip.\n",
            "[nltk_data] Downloading package wordnet to /root/nltk_data...\n",
            "[nltk_data] Downloading package omw-1.4 to /root/nltk_data...\n"
          ]
        },
        {
          "output_type": "execute_result",
          "data": {
            "text/plain": [
              "True"
            ]
          },
          "metadata": {},
          "execution_count": 5
        }
      ],
      "source": [
        "nltk.download('punkt')\n",
        "nltk.download('wordnet')\n",
        "nltk.download('omw-1.4')"
      ]
    },
    {
      "cell_type": "code",
      "execution_count": null,
      "metadata": {
        "id": "B1NdmjvvpGfN"
      },
      "outputs": [],
      "source": [
        "# Importing the dataset\n",
        "with open('/content/drive/MyDrive/Chatbot/Dataset/dataset.json') as content:\n",
        "  data1 = json.load(content)\n",
        "\n",
        "# Mendapatkan semua data ke dalam list\n",
        "tags = [] # data tag\n",
        "inputs = [] # data input atau pattern\n",
        "responses = {} # data respon\n",
        "words = [] # Data kata \n",
        "classes = [] # Data Kelas atau Tag\n",
        "documents = [] # Data Kalimat Dokumen\n",
        "ignore_words = ['?', '!'] # Mengabaikan tanda spesial karakter\n",
        "\n",
        "for intent in data1['intents']:\n",
        "  responses[intent['tag']]=intent['responses']\n",
        "  for lines in intent['patterns']:\n",
        "    inputs.append(lines)\n",
        "    tags.append(intent['tag'])\n",
        "    for pattern in intent['patterns']:\n",
        "      w = nltk.word_tokenize(pattern)\n",
        "      words.extend(w)\n",
        "      documents.append((w, intent['tag']))\n",
        "      # add to our classes list\n",
        "      if intent['tag'] not in classes:\n",
        "        classes.append(intent['tag'])\n",
        "\n",
        "# Konversi data json ke dalam dataframe\n",
        "data = pd.DataFrame({\"patterns\":inputs, \"tags\":tags})"
      ]
    },
    {
      "cell_type": "markdown",
      "source": [
        "# **Menghapus Punktuasi**\n",
        "\n",
        "Tahapan praproses pada data teks yang pertama adalah menghapus punktuasi atau tanda baca seperti special character yaitu '!' (tanda seru) ',' (tanda koma) '.' (tanda titik sebagai berhenti) '?' (tanda tanya) dan tanda baca yang lain. Tahapan ini gunanya untuk mempermudah pemrosesan data teks yang akan kita olah."
      ],
      "metadata": {
        "id": "ASxJVgRbpOcm"
      }
    },
    {
      "cell_type": "code",
      "source": [
        "# Removing Punctuations (Menghilangkan Punktuasi)\n",
        "data['patterns'] = data['patterns'].apply(lambda wrd:[ltrs.lower() for ltrs in wrd if ltrs not in string.punctuation])\n",
        "data['patterns'] = data['patterns'].apply(lambda wrd: ''.join(wrd))\n",
        "data"
      ],
      "metadata": {
        "colab": {
          "base_uri": "https://localhost:8080/",
          "height": 423
        },
        "id": "2pU9caNDo4kX",
        "outputId": "73f0f375-9915-412c-f746-1744c2bacc21"
      },
      "execution_count": null,
      "outputs": [
        {
          "output_type": "execute_result",
          "data": {
            "text/plain": [
              "                              patterns      tags\n",
              "0                                hallo  greeting\n",
              "1                                  hai  greeting\n",
              "2                                 halo  greeting\n",
              "3                                  hei  greeting\n",
              "4                                   hi  greeting\n",
              "..                                 ...       ...\n",
              "70                         apa itu ukm       ukm\n",
              "71                         ukm apa sih       ukm\n",
              "72                                 ukm       ukm\n",
              "73                          ukm adalah       ukm\n",
              "74  ada apa aja sih ukm di kampus ittp       ukm\n",
              "\n",
              "[75 rows x 2 columns]"
            ],
            "text/html": [
              "\n",
              "  <div id=\"df-e35f39ad-9697-47fe-8dc3-4e4c728232c0\">\n",
              "    <div class=\"colab-df-container\">\n",
              "      <div>\n",
              "<style scoped>\n",
              "    .dataframe tbody tr th:only-of-type {\n",
              "        vertical-align: middle;\n",
              "    }\n",
              "\n",
              "    .dataframe tbody tr th {\n",
              "        vertical-align: top;\n",
              "    }\n",
              "\n",
              "    .dataframe thead th {\n",
              "        text-align: right;\n",
              "    }\n",
              "</style>\n",
              "<table border=\"1\" class=\"dataframe\">\n",
              "  <thead>\n",
              "    <tr style=\"text-align: right;\">\n",
              "      <th></th>\n",
              "      <th>patterns</th>\n",
              "      <th>tags</th>\n",
              "    </tr>\n",
              "  </thead>\n",
              "  <tbody>\n",
              "    <tr>\n",
              "      <th>0</th>\n",
              "      <td>hallo</td>\n",
              "      <td>greeting</td>\n",
              "    </tr>\n",
              "    <tr>\n",
              "      <th>1</th>\n",
              "      <td>hai</td>\n",
              "      <td>greeting</td>\n",
              "    </tr>\n",
              "    <tr>\n",
              "      <th>2</th>\n",
              "      <td>halo</td>\n",
              "      <td>greeting</td>\n",
              "    </tr>\n",
              "    <tr>\n",
              "      <th>3</th>\n",
              "      <td>hei</td>\n",
              "      <td>greeting</td>\n",
              "    </tr>\n",
              "    <tr>\n",
              "      <th>4</th>\n",
              "      <td>hi</td>\n",
              "      <td>greeting</td>\n",
              "    </tr>\n",
              "    <tr>\n",
              "      <th>...</th>\n",
              "      <td>...</td>\n",
              "      <td>...</td>\n",
              "    </tr>\n",
              "    <tr>\n",
              "      <th>70</th>\n",
              "      <td>apa itu ukm</td>\n",
              "      <td>ukm</td>\n",
              "    </tr>\n",
              "    <tr>\n",
              "      <th>71</th>\n",
              "      <td>ukm apa sih</td>\n",
              "      <td>ukm</td>\n",
              "    </tr>\n",
              "    <tr>\n",
              "      <th>72</th>\n",
              "      <td>ukm</td>\n",
              "      <td>ukm</td>\n",
              "    </tr>\n",
              "    <tr>\n",
              "      <th>73</th>\n",
              "      <td>ukm adalah</td>\n",
              "      <td>ukm</td>\n",
              "    </tr>\n",
              "    <tr>\n",
              "      <th>74</th>\n",
              "      <td>ada apa aja sih ukm di kampus ittp</td>\n",
              "      <td>ukm</td>\n",
              "    </tr>\n",
              "  </tbody>\n",
              "</table>\n",
              "<p>75 rows × 2 columns</p>\n",
              "</div>\n",
              "      <button class=\"colab-df-convert\" onclick=\"convertToInteractive('df-e35f39ad-9697-47fe-8dc3-4e4c728232c0')\"\n",
              "              title=\"Convert this dataframe to an interactive table.\"\n",
              "              style=\"display:none;\">\n",
              "        \n",
              "  <svg xmlns=\"http://www.w3.org/2000/svg\" height=\"24px\"viewBox=\"0 0 24 24\"\n",
              "       width=\"24px\">\n",
              "    <path d=\"M0 0h24v24H0V0z\" fill=\"none\"/>\n",
              "    <path d=\"M18.56 5.44l.94 2.06.94-2.06 2.06-.94-2.06-.94-.94-2.06-.94 2.06-2.06.94zm-11 1L8.5 8.5l.94-2.06 2.06-.94-2.06-.94L8.5 2.5l-.94 2.06-2.06.94zm10 10l.94 2.06.94-2.06 2.06-.94-2.06-.94-.94-2.06-.94 2.06-2.06.94z\"/><path d=\"M17.41 7.96l-1.37-1.37c-.4-.4-.92-.59-1.43-.59-.52 0-1.04.2-1.43.59L10.3 9.45l-7.72 7.72c-.78.78-.78 2.05 0 2.83L4 21.41c.39.39.9.59 1.41.59.51 0 1.02-.2 1.41-.59l7.78-7.78 2.81-2.81c.8-.78.8-2.07 0-2.86zM5.41 20L4 18.59l7.72-7.72 1.47 1.35L5.41 20z\"/>\n",
              "  </svg>\n",
              "      </button>\n",
              "      \n",
              "  <style>\n",
              "    .colab-df-container {\n",
              "      display:flex;\n",
              "      flex-wrap:wrap;\n",
              "      gap: 12px;\n",
              "    }\n",
              "\n",
              "    .colab-df-convert {\n",
              "      background-color: #E8F0FE;\n",
              "      border: none;\n",
              "      border-radius: 50%;\n",
              "      cursor: pointer;\n",
              "      display: none;\n",
              "      fill: #1967D2;\n",
              "      height: 32px;\n",
              "      padding: 0 0 0 0;\n",
              "      width: 32px;\n",
              "    }\n",
              "\n",
              "    .colab-df-convert:hover {\n",
              "      background-color: #E2EBFA;\n",
              "      box-shadow: 0px 1px 2px rgba(60, 64, 67, 0.3), 0px 1px 3px 1px rgba(60, 64, 67, 0.15);\n",
              "      fill: #174EA6;\n",
              "    }\n",
              "\n",
              "    [theme=dark] .colab-df-convert {\n",
              "      background-color: #3B4455;\n",
              "      fill: #D2E3FC;\n",
              "    }\n",
              "\n",
              "    [theme=dark] .colab-df-convert:hover {\n",
              "      background-color: #434B5C;\n",
              "      box-shadow: 0px 1px 3px 1px rgba(0, 0, 0, 0.15);\n",
              "      filter: drop-shadow(0px 1px 2px rgba(0, 0, 0, 0.3));\n",
              "      fill: #FFFFFF;\n",
              "    }\n",
              "  </style>\n",
              "\n",
              "      <script>\n",
              "        const buttonEl =\n",
              "          document.querySelector('#df-e35f39ad-9697-47fe-8dc3-4e4c728232c0 button.colab-df-convert');\n",
              "        buttonEl.style.display =\n",
              "          google.colab.kernel.accessAllowed ? 'block' : 'none';\n",
              "\n",
              "        async function convertToInteractive(key) {\n",
              "          const element = document.querySelector('#df-e35f39ad-9697-47fe-8dc3-4e4c728232c0');\n",
              "          const dataTable =\n",
              "            await google.colab.kernel.invokeFunction('convertToInteractive',\n",
              "                                                     [key], {});\n",
              "          if (!dataTable) return;\n",
              "\n",
              "          const docLinkHtml = 'Like what you see? Visit the ' +\n",
              "            '<a target=\"_blank\" href=https://colab.research.google.com/notebooks/data_table.ipynb>data table notebook</a>'\n",
              "            + ' to learn more about interactive tables.';\n",
              "          element.innerHTML = '';\n",
              "          dataTable['output_type'] = 'display_data';\n",
              "          await google.colab.output.renderOutput(dataTable, element);\n",
              "          const docLink = document.createElement('div');\n",
              "          docLink.innerHTML = docLinkHtml;\n",
              "          element.appendChild(docLink);\n",
              "        }\n",
              "      </script>\n",
              "    </div>\n",
              "  </div>\n",
              "  "
            ]
          },
          "metadata": {},
          "execution_count": 7
        }
      ]
    },
    {
      "cell_type": "markdown",
      "source": [
        "# **Lematisasi**\n",
        "\n",
        "Lematisasi atau Lemmatization adalah proses dimana merujuk pada melakukan sesuatu menggunakan vocabulary atau kosakata dan analisis morfologi kata-kata untuk menghilangkan inflectional endings only dan untuk mengembalikan bentuk dictionary (kata dalam kamus) dari sebuah kata yang dikenal sebagai *lemma*."
      ],
      "metadata": {
        "id": "2R84K0pQpaQ2"
      }
    },
    {
      "cell_type": "code",
      "execution_count": null,
      "metadata": {
        "colab": {
          "base_uri": "https://localhost:8080/"
        },
        "id": "aRoW2ekXpZdc",
        "outputId": "8a6218f5-fc5b-4653-8167-65c51203515c"
      },
      "outputs": [
        {
          "output_type": "stream",
          "name": "stdout",
          "text": [
            "83 unique lemmatized words [',', 'ada', 'adalah', 'afternoon', 'aja', 'apa', 'apakah', 'apasih', 'aplikasi', 'bai', 'banyak', 'berlangsung', 'besok', 'bimbingan', 'bot-ol', 'botol', 'bro', 'buat', 'bulan', 'bye', 'byee', 'chatbot', 'dadah', 'dah', 'di', 'diciptakan', 'good', 'hai', 'hallo', 'halo', 'hari', 'hei', 'hi', 'hy', 'ini', 'ittp', 'itu', 'jadwal', 'jumpa', 'kampus', 'kamu', 'kapan', 'kasih', 'kawan', 'kelasku', 'keluar', 'kita', 'kok', 'ku', 'kuliah', 'makasih', 'malam', 'mata', 'mesin', 'morning', 'nlp', 'pagi', 'pembuatmu', 'pemrograman', 'penciptamu', 'saja', 'sampai', 'saya', 'see', 'sekarang', 'selamat', 'si', 'siang', 'siapa', 'sih', 'sore', 'tentang', 'terima', 'thank', 'thanks', 'tinggal', 'uas', 'ukm', 'untuk', 'ut', 'ya', 'yang', 'you']\n"
          ]
        }
      ],
      "source": [
        "lemmatizer = WordNetLemmatizer()\n",
        "words = [lemmatizer.lemmatize(w.lower()) for w in words if w not in ignore_words]\n",
        "words = sorted(list(set(words)))\n",
        "\n",
        "print (len(words), \"unique lemmatized words\", words)"
      ]
    },
    {
      "cell_type": "markdown",
      "source": [
        "# **Menyortir Data Kelas Tags**"
      ],
      "metadata": {
        "id": "Hgr_7cAOpnM_"
      }
    },
    {
      "cell_type": "code",
      "execution_count": null,
      "metadata": {
        "colab": {
          "base_uri": "https://localhost:8080/"
        },
        "id": "NnqfooyDpZkC",
        "outputId": "7b571606-4397-411c-fe39-67a0c03b4d5c"
      },
      "outputs": [
        {
          "output_type": "stream",
          "name": "stdout",
          "text": [
            "11 classes ['bimbingan', 'bot-ol', 'goodbye', 'greeting', 'jadwal_uas', 'jadwal_uts', 'pencipta_bot-ol', 'penjelasan_jadwal_kuliah', 'tentang_kampus', 'terimakasih', 'ukm']\n"
          ]
        }
      ],
      "source": [
        "# sort classes\n",
        "classes = sorted(list(set(classes)))\n",
        "print (len(classes), \"classes\", classes)"
      ]
    },
    {
      "cell_type": "markdown",
      "source": [
        "# **Mencari Jumlah Keseluruhan Data Teks**"
      ],
      "metadata": {
        "id": "IrJz477Xpr9v"
      }
    },
    {
      "cell_type": "code",
      "source": [
        "# documents = combination between patterns and intents\n",
        "print (len(documents), \"documents\")"
      ],
      "metadata": {
        "colab": {
          "base_uri": "https://localhost:8080/"
        },
        "id": "5lC-t2yxo-Ux",
        "outputId": "4433f80b-d731-4cf0-c727-da6e61b47101"
      },
      "execution_count": null,
      "outputs": [
        {
          "output_type": "stream",
          "name": "stdout",
          "text": [
            "629 documents\n"
          ]
        }
      ]
    },
    {
      "cell_type": "markdown",
      "source": [
        "# **Tokenisasi**\n",
        "\n",
        "Setelah proses lematisasi dan mencari tahu data classes dan jumlah keseluruhan data patterns dengan intents-nya. Maka, tahapan selanjutnya proses tokenisasi. Apa itu Tokenisasi?\n",
        "\n",
        "Tokenisasi adalah suatu proses memberikan urutan karakter dan sebuah unit dokumen terdefinisi. Tokenisasi juga merupakan tugas untuk memecah kalimat menjadi bagian-bagian yang disebut dengan 'Token' dan menghilangkan bagian tertentu seperti tanda baca."
      ],
      "metadata": {
        "id": "TlyCLytfpwSz"
      }
    },
    {
      "cell_type": "code",
      "execution_count": null,
      "metadata": {
        "colab": {
          "base_uri": "https://localhost:8080/"
        },
        "id": "qRBRDqsvpgTk",
        "outputId": "75f564c4-9fd0-4a7c-82ef-ed445535b325"
      },
      "outputs": [
        {
          "output_type": "execute_result",
          "data": {
            "text/plain": [
              "[[32],\n",
              " [33],\n",
              " [34],\n",
              " [35],\n",
              " [36],\n",
              " [37],\n",
              " [38],\n",
              " [39],\n",
              " [40],\n",
              " [41],\n",
              " [42],\n",
              " [43],\n",
              " [44],\n",
              " [45],\n",
              " [46],\n",
              " [2, 6, 4],\n",
              " [9, 4],\n",
              " [4, 6, 2],\n",
              " [9, 5, 4],\n",
              " [4, 14],\n",
              " [47, 15, 4],\n",
              " [48, 49, 15, 4, 6],\n",
              " [20, 50, 4],\n",
              " [9, 51],\n",
              " [4, 52, 20, 16, 9, 5],\n",
              " [9, 21, 4],\n",
              " [16, 53, 22, 5, 4],\n",
              " [9, 21],\n",
              " [16, 54, 55, 2],\n",
              " [56],\n",
              " [57],\n",
              " [23],\n",
              " [58],\n",
              " [59, 23],\n",
              " [60, 61],\n",
              " [62, 63],\n",
              " [64],\n",
              " [65, 24],\n",
              " [66],\n",
              " [67, 24],\n",
              " [25, 26],\n",
              " [68],\n",
              " [25, 26, 69],\n",
              " [3, 1, 7, 8, 27, 28],\n",
              " [1, 27, 28],\n",
              " [1, 17, 2],\n",
              " [3, 1, 7, 8, 18],\n",
              " [1, 7, 8, 70, 71],\n",
              " [17, 72, 2, 73, 19],\n",
              " [1, 7, 8, 18, 6, 3, 5],\n",
              " [74, 1, 7, 8, 29, 2],\n",
              " [1, 7, 8, 18],\n",
              " [17, 1, 7, 8, 29, 2, 19],\n",
              " [3, 1, 12, 30],\n",
              " [1, 12, 3],\n",
              " [12],\n",
              " [3, 12],\n",
              " [12, 31, 3, 5],\n",
              " [3, 1, 10, 30],\n",
              " [1, 10, 3],\n",
              " [10],\n",
              " [3, 10],\n",
              " [10, 31, 3, 5],\n",
              " [1, 10, 3, 75, 76, 2],\n",
              " [15, 11, 6],\n",
              " [11, 6, 2],\n",
              " [11],\n",
              " [2, 5, 11, 6],\n",
              " [11, 14],\n",
              " [1, 11, 77, 3, 19],\n",
              " [2, 6, 13],\n",
              " [13, 2, 5],\n",
              " [13],\n",
              " [13, 14],\n",
              " [22, 2, 78, 5, 13, 79, 80, 81]]"
            ]
          },
          "metadata": {},
          "execution_count": 11
        }
      ],
      "source": [
        "# Tokenize the data (Tokenisasi Data)\n",
        "tokenizer = Tokenizer(num_words=2000)\n",
        "tokenizer.fit_on_texts(data['patterns'])\n",
        "train = tokenizer.texts_to_sequences(data['patterns'])\n",
        "train"
      ]
    },
    {
      "cell_type": "markdown",
      "source": [
        "# **Padding**\n",
        "\n",
        "Padding adalah Suatu proses untuk mengubah setiap sequence agar memiliki panjang yang sama. Pada padding, setiap sequence dibuat sama panjang dengan menambahkan nilai 0 secara suffiks atau prefiks hingga mencapai panjang maksimum sequence. Selain itu padding juga dapat memotong sequence hingga panjangnya sesuai dengan panjang maksimum sequence.\n",
        "\n",
        "Padding juga adalah proses untuk membuat setiap kalimat pada teks memiliki panjang yang seragam. Sama seperti melakukan resize gambar, agar resolusi setiap gambar sama besar. Untuk menggunakan padding bisa impor library pad_sequence. Kemudian buat panggil fungsi pad_sequence() dan masukkan sequence hasil tokenisasi sebagai parameternya.\n",
        "\n"
      ],
      "metadata": {
        "id": "M7uIo9whp-C5"
      }
    },
    {
      "cell_type": "code",
      "source": [
        "# Apply padding \n",
        "x_train = pad_sequences(train)\n",
        "print(x_train) # Padding Sequences"
      ],
      "metadata": {
        "id": "8iAYVHMFiFEy",
        "colab": {
          "base_uri": "https://localhost:8080/"
        },
        "outputId": "a4af7866-c4a8-4796-9a5f-66c06cf49992"
      },
      "execution_count": null,
      "outputs": [
        {
          "output_type": "stream",
          "name": "stdout",
          "text": [
            "[[ 0  0  0  0  0  0  0 32]\n",
            " [ 0  0  0  0  0  0  0 33]\n",
            " [ 0  0  0  0  0  0  0 34]\n",
            " [ 0  0  0  0  0  0  0 35]\n",
            " [ 0  0  0  0  0  0  0 36]\n",
            " [ 0  0  0  0  0  0  0 37]\n",
            " [ 0  0  0  0  0  0  0 38]\n",
            " [ 0  0  0  0  0  0  0 39]\n",
            " [ 0  0  0  0  0  0  0 40]\n",
            " [ 0  0  0  0  0  0  0 41]\n",
            " [ 0  0  0  0  0  0  0 42]\n",
            " [ 0  0  0  0  0  0  0 43]\n",
            " [ 0  0  0  0  0  0  0 44]\n",
            " [ 0  0  0  0  0  0  0 45]\n",
            " [ 0  0  0  0  0  0  0 46]\n",
            " [ 0  0  0  0  0  2  6  4]\n",
            " [ 0  0  0  0  0  0  9  4]\n",
            " [ 0  0  0  0  0  4  6  2]\n",
            " [ 0  0  0  0  0  9  5  4]\n",
            " [ 0  0  0  0  0  0  4 14]\n",
            " [ 0  0  0  0  0 47 15  4]\n",
            " [ 0  0  0 48 49 15  4  6]\n",
            " [ 0  0  0  0  0 20 50  4]\n",
            " [ 0  0  0  0  0  0  9 51]\n",
            " [ 0  0  4 52 20 16  9  5]\n",
            " [ 0  0  0  0  0  9 21  4]\n",
            " [ 0  0  0 16 53 22  5  4]\n",
            " [ 0  0  0  0  0  0  9 21]\n",
            " [ 0  0  0  0 16 54 55  2]\n",
            " [ 0  0  0  0  0  0  0 56]\n",
            " [ 0  0  0  0  0  0  0 57]\n",
            " [ 0  0  0  0  0  0  0 23]\n",
            " [ 0  0  0  0  0  0  0 58]\n",
            " [ 0  0  0  0  0  0 59 23]\n",
            " [ 0  0  0  0  0  0 60 61]\n",
            " [ 0  0  0  0  0  0 62 63]\n",
            " [ 0  0  0  0  0  0  0 64]\n",
            " [ 0  0  0  0  0  0 65 24]\n",
            " [ 0  0  0  0  0  0  0 66]\n",
            " [ 0  0  0  0  0  0 67 24]\n",
            " [ 0  0  0  0  0  0 25 26]\n",
            " [ 0  0  0  0  0  0  0 68]\n",
            " [ 0  0  0  0  0 25 26 69]\n",
            " [ 0  0  3  1  7  8 27 28]\n",
            " [ 0  0  0  0  0  1 27 28]\n",
            " [ 0  0  0  0  0  1 17  2]\n",
            " [ 0  0  0  3  1  7  8 18]\n",
            " [ 0  0  0  1  7  8 70 71]\n",
            " [ 0  0  0 17 72  2 73 19]\n",
            " [ 0  1  7  8 18  6  3  5]\n",
            " [ 0  0 74  1  7  8 29  2]\n",
            " [ 0  0  0  0  1  7  8 18]\n",
            " [ 0 17  1  7  8 29  2 19]\n",
            " [ 0  0  0  0  3  1 12 30]\n",
            " [ 0  0  0  0  0  1 12  3]\n",
            " [ 0  0  0  0  0  0  0 12]\n",
            " [ 0  0  0  0  0  0  3 12]\n",
            " [ 0  0  0  0 12 31  3  5]\n",
            " [ 0  0  0  0  3  1 10 30]\n",
            " [ 0  0  0  0  0  1 10  3]\n",
            " [ 0  0  0  0  0  0  0 10]\n",
            " [ 0  0  0  0  0  0  3 10]\n",
            " [ 0  0  0  0 10 31  3  5]\n",
            " [ 0  0  1 10  3 75 76  2]\n",
            " [ 0  0  0  0  0 15 11  6]\n",
            " [ 0  0  0  0  0 11  6  2]\n",
            " [ 0  0  0  0  0  0  0 11]\n",
            " [ 0  0  0  0  2  5 11  6]\n",
            " [ 0  0  0  0  0  0 11 14]\n",
            " [ 0  0  0  1 11 77  3 19]\n",
            " [ 0  0  0  0  0  2  6 13]\n",
            " [ 0  0  0  0  0 13  2  5]\n",
            " [ 0  0  0  0  0  0  0 13]\n",
            " [ 0  0  0  0  0  0 13 14]\n",
            " [22  2 78  5 13 79 80 81]]\n"
          ]
        }
      ]
    },
    {
      "cell_type": "markdown",
      "source": [
        "# **Encoding Text**\n",
        "\n",
        "Encoding merupakan suatu konversi atau pengkodean yang dimana data kategorik seperti huruf atau data teks menjadi data numerik atau angka menyesuaikan dengan data label yang digunakan. Pada proses tahapan ini, encoding mengubah data teks pada kolom data tags menjadi data numerik dengan bahasa biner komputer yaitu 0 dan 1.\n",
        "\n",
        "Tujuan dari encoding ini adalah mempermudah saat proses komputasi data teks dan modelling."
      ],
      "metadata": {
        "id": "OjT5ADw9qLMv"
      }
    },
    {
      "cell_type": "code",
      "source": [
        "# Encoding the outputs \n",
        "le = LabelEncoder()\n",
        "y_train = le.fit_transform(data['tags'])"
      ],
      "metadata": {
        "id": "WWGsQmYlqIeN"
      },
      "execution_count": null,
      "outputs": []
    },
    {
      "cell_type": "code",
      "source": [
        "print(y_train) #Label Encodings"
      ],
      "metadata": {
        "colab": {
          "base_uri": "https://localhost:8080/"
        },
        "id": "-vvZMDFfiJz6",
        "outputId": "03952347-86bf-441e-90d3-ee9c40982327"
      },
      "execution_count": null,
      "outputs": [
        {
          "output_type": "stream",
          "name": "stdout",
          "text": [
            "[ 3  3  3  3  3  3  3  3  3  3  3  3  3  3  3  1  1  1  1  1  1  8  8  6\n",
            "  6  6  6  6  6  2  2  2  2  2  2  2  2  2  9  9  9  9  9  7  7  7  7  7\n",
            "  7  7  7  7  7  5  5  5  5  5  4  4  4  4  4  4  0  0  0  0  0  0 10 10\n",
            " 10 10 10]\n"
          ]
        }
      ]
    },
    {
      "cell_type": "markdown",
      "source": [
        "Tokenizer pada Tensorflow memberikan token unik untuk setiap kata yang berbeda. Dan juga padding dilakukan untuk mendapatkan semua data dengan panjang yang sama sehingga dapat mengirimkannya ke lapisan atau layer RNN. variabel target juga dikodekan menjadi nilai desimal."
      ],
      "metadata": {
        "id": "NF8_lEuTfwKZ"
      }
    },
    {
      "cell_type": "markdown",
      "source": [
        "# **Input Length, Output Length and Vocabulary**"
      ],
      "metadata": {
        "id": "XIjrbpLefzmV"
      }
    },
    {
      "cell_type": "code",
      "source": [
        "# input length\n",
        "input_shape = x_train.shape[1]\n",
        "print(input_shape)"
      ],
      "metadata": {
        "colab": {
          "base_uri": "https://localhost:8080/"
        },
        "id": "arlPvpRviL8r",
        "outputId": "dd9acde9-dd57-4819-9273-1fc08c1363b0"
      },
      "execution_count": null,
      "outputs": [
        {
          "output_type": "stream",
          "name": "stdout",
          "text": [
            "8\n"
          ]
        }
      ]
    },
    {
      "cell_type": "code",
      "source": [
        "# define vocabulary\n",
        "vocabulary = len(tokenizer.word_index)\n",
        "print(\"number of unique words : \", vocabulary)\n",
        "\n",
        "# output length\n",
        "output_length = le.classes_.shape[0]\n",
        "print(\"output length: \", output_length)"
      ],
      "metadata": {
        "colab": {
          "base_uri": "https://localhost:8080/"
        },
        "id": "aycotA2BiNH6",
        "outputId": "b7187812-146a-4c89-f9bb-b6aa72ea1e78"
      },
      "execution_count": null,
      "outputs": [
        {
          "output_type": "stream",
          "name": "stdout",
          "text": [
            "number of unique words :  81\n",
            "output length:  11\n"
          ]
        }
      ]
    },
    {
      "cell_type": "code",
      "source": [
        "pickle.dump(words, open('/content/drive/MyDrive/Chatbot/Model3/words.pkl','wb'))\n",
        "pickle.dump(classes, open('/content/drive/MyDrive/Chatbot/Model3/classes.pkl','wb'))"
      ],
      "metadata": {
        "id": "i8tMrzfdEcwm"
      },
      "execution_count": null,
      "outputs": []
    },
    {
      "cell_type": "markdown",
      "source": [
        "Input length dan output length terlihat sangat jelas hasilnya. Mereka adalah untuk bentuk input dan bentuk output dari jaringan syaraf pada algoritma Neural Network.\n",
        "\n",
        "Vocabulary Size adalah untuk lapisan penyematan untuk membuat representasi vektor unik untuk setiap kata."
      ],
      "metadata": {
        "id": "o2yC0GAUf4l4"
      }
    },
    {
      "cell_type": "markdown",
      "source": [
        "# **Neural Network Model**\n",
        "\n",
        "Jaringan syaraf yang terdiri dari lapisan embedding yang merupakan salah satu hal yang paling kuat di bidang pemrosesan bahasa alami atau NLP. output atau keluaran dari lapisan embedding adalah input dari lapisan berulang (recurrent) dengan LSTM gate. Kemudian, output diratakan dan lapisan Dense digunakan dengan fungsi aktivasi softmax.\n",
        "\n",
        "Bagian utama adalah lapisan embedding yang memberikan vektor yang sesuai untuk setiap kata dalam dataset."
      ],
      "metadata": {
        "id": "AUbE0xWef-YD"
      }
    },
    {
      "cell_type": "code",
      "execution_count": null,
      "metadata": {
        "id": "C0bkrtA4poJK"
      },
      "outputs": [],
      "source": [
        "# Creating the model (Membuat Modeling)\n",
        "i = Input(shape=(input_shape,))\n",
        "x = Embedding(vocabulary+1,10)(i) # Layer Embedding\n",
        "x = LSTM(10, return_sequences=True)(x) # Layer Long Short Term Memory\n",
        "x = Flatten()(x) # Layer Flatten\n",
        "x = Dense(output_length, activation=\"softmax\")(x) # Layer Dense\n",
        "model  = Model(i,x)\n",
        "\n",
        "# Compiling the model (Kompilasi Model)\n",
        "model.compile(loss=\"sparse_categorical_crossentropy\", optimizer='adam', metrics=['accuracy'])"
      ]
    },
    {
      "cell_type": "code",
      "execution_count": null,
      "metadata": {
        "id": "d6vrOOrQpoNJ",
        "colab": {
          "base_uri": "https://localhost:8080/"
        },
        "outputId": "bddfc8c3-edf6-4432-e9e2-b8b632dd1f3f"
      },
      "outputs": [
        {
          "output_type": "stream",
          "name": "stdout",
          "text": [
            "Model: \"model\"\n",
            "_________________________________________________________________\n",
            " Layer (type)                Output Shape              Param #   \n",
            "=================================================================\n",
            " input_1 (InputLayer)        [(None, 8)]               0         \n",
            "                                                                 \n",
            " embedding (Embedding)       (None, 8, 10)             820       \n",
            "                                                                 \n",
            " lstm (LSTM)                 (None, 8, 10)             840       \n",
            "                                                                 \n",
            " flatten (Flatten)           (None, 80)                0         \n",
            "                                                                 \n",
            " dense (Dense)               (None, 11)                891       \n",
            "                                                                 \n",
            "=================================================================\n",
            "Total params: 2,551\n",
            "Trainable params: 2,551\n",
            "Non-trainable params: 0\n",
            "_________________________________________________________________\n"
          ]
        }
      ],
      "source": [
        "model.summary() # Menampilkan Parameter Model"
      ]
    },
    {
      "cell_type": "code",
      "execution_count": null,
      "metadata": {
        "id": "bpXaVzWmqYmu",
        "colab": {
          "base_uri": "https://localhost:8080/"
        },
        "outputId": "cfce1215-7fe4-4aac-e407-932503e1a460"
      },
      "outputs": [
        {
          "output_type": "stream",
          "name": "stdout",
          "text": [
            "Epoch 1/400\n",
            "3/3 [==============================] - 3s 11ms/step - loss: 2.3973 - accuracy: 0.0667\n",
            "Epoch 2/400\n",
            "3/3 [==============================] - 0s 11ms/step - loss: 2.3932 - accuracy: 0.1467\n",
            "Epoch 3/400\n",
            "3/3 [==============================] - 0s 9ms/step - loss: 2.3891 - accuracy: 0.1467\n",
            "Epoch 4/400\n",
            "3/3 [==============================] - 0s 10ms/step - loss: 2.3856 - accuracy: 0.1600\n",
            "Epoch 5/400\n",
            "3/3 [==============================] - 0s 10ms/step - loss: 2.3812 - accuracy: 0.1600\n",
            "Epoch 6/400\n",
            "3/3 [==============================] - 0s 9ms/step - loss: 2.3769 - accuracy: 0.1600\n",
            "Epoch 7/400\n",
            "3/3 [==============================] - 0s 10ms/step - loss: 2.3720 - accuracy: 0.1600\n",
            "Epoch 8/400\n",
            "3/3 [==============================] - 0s 10ms/step - loss: 2.3666 - accuracy: 0.1600\n",
            "Epoch 9/400\n",
            "3/3 [==============================] - 0s 11ms/step - loss: 2.3607 - accuracy: 0.1467\n",
            "Epoch 10/400\n",
            "3/3 [==============================] - 0s 10ms/step - loss: 2.3548 - accuracy: 0.1467\n",
            "Epoch 11/400\n",
            "3/3 [==============================] - 0s 11ms/step - loss: 2.3477 - accuracy: 0.1467\n",
            "Epoch 12/400\n",
            "3/3 [==============================] - 0s 10ms/step - loss: 2.3408 - accuracy: 0.1467\n",
            "Epoch 13/400\n",
            "3/3 [==============================] - 0s 9ms/step - loss: 2.3328 - accuracy: 0.1467\n",
            "Epoch 14/400\n",
            "3/3 [==============================] - 0s 9ms/step - loss: 2.3257 - accuracy: 0.1467\n",
            "Epoch 15/400\n",
            "3/3 [==============================] - 0s 12ms/step - loss: 2.3169 - accuracy: 0.1467\n",
            "Epoch 16/400\n",
            "3/3 [==============================] - 0s 9ms/step - loss: 2.3084 - accuracy: 0.1467\n",
            "Epoch 17/400\n",
            "3/3 [==============================] - 0s 10ms/step - loss: 2.2985 - accuracy: 0.1467\n",
            "Epoch 18/400\n",
            "3/3 [==============================] - 0s 12ms/step - loss: 2.2884 - accuracy: 0.1467\n",
            "Epoch 19/400\n",
            "3/3 [==============================] - 0s 10ms/step - loss: 2.2789 - accuracy: 0.1600\n",
            "Epoch 20/400\n",
            "3/3 [==============================] - 0s 10ms/step - loss: 2.2680 - accuracy: 0.1600\n",
            "Epoch 21/400\n",
            "3/3 [==============================] - 0s 10ms/step - loss: 2.2587 - accuracy: 0.3200\n",
            "Epoch 22/400\n",
            "3/3 [==============================] - 0s 10ms/step - loss: 2.2469 - accuracy: 0.2267\n",
            "Epoch 23/400\n",
            "3/3 [==============================] - 0s 11ms/step - loss: 2.2390 - accuracy: 0.2267\n",
            "Epoch 24/400\n",
            "3/3 [==============================] - 0s 10ms/step - loss: 2.2304 - accuracy: 0.2267\n",
            "Epoch 25/400\n",
            "3/3 [==============================] - 0s 11ms/step - loss: 2.2221 - accuracy: 0.2400\n",
            "Epoch 26/400\n",
            "3/3 [==============================] - 0s 11ms/step - loss: 2.2117 - accuracy: 0.2400\n",
            "Epoch 27/400\n",
            "3/3 [==============================] - 0s 11ms/step - loss: 2.2023 - accuracy: 0.2533\n",
            "Epoch 28/400\n",
            "3/3 [==============================] - 0s 10ms/step - loss: 2.1944 - accuracy: 0.2533\n",
            "Epoch 29/400\n",
            "3/3 [==============================] - 0s 12ms/step - loss: 2.1837 - accuracy: 0.2533\n",
            "Epoch 30/400\n",
            "3/3 [==============================] - 0s 10ms/step - loss: 2.1750 - accuracy: 0.2533\n",
            "Epoch 31/400\n",
            "3/3 [==============================] - 0s 11ms/step - loss: 2.1643 - accuracy: 0.2533\n",
            "Epoch 32/400\n",
            "3/3 [==============================] - 0s 11ms/step - loss: 2.1536 - accuracy: 0.2800\n",
            "Epoch 33/400\n",
            "3/3 [==============================] - 0s 14ms/step - loss: 2.1433 - accuracy: 0.2800\n",
            "Epoch 34/400\n",
            "3/3 [==============================] - 0s 11ms/step - loss: 2.1308 - accuracy: 0.2933\n",
            "Epoch 35/400\n",
            "3/3 [==============================] - 0s 11ms/step - loss: 2.1193 - accuracy: 0.2933\n",
            "Epoch 36/400\n",
            "3/3 [==============================] - 0s 11ms/step - loss: 2.1056 - accuracy: 0.2933\n",
            "Epoch 37/400\n",
            "3/3 [==============================] - 0s 10ms/step - loss: 2.0915 - accuracy: 0.3067\n",
            "Epoch 38/400\n",
            "3/3 [==============================] - 0s 13ms/step - loss: 2.0773 - accuracy: 0.3067\n",
            "Epoch 39/400\n",
            "3/3 [==============================] - 0s 10ms/step - loss: 2.0612 - accuracy: 0.3067\n",
            "Epoch 40/400\n",
            "3/3 [==============================] - 0s 12ms/step - loss: 2.0447 - accuracy: 0.3200\n",
            "Epoch 41/400\n",
            "3/3 [==============================] - 0s 11ms/step - loss: 2.0275 - accuracy: 0.3200\n",
            "Epoch 42/400\n",
            "3/3 [==============================] - 0s 10ms/step - loss: 2.0093 - accuracy: 0.3200\n",
            "Epoch 43/400\n",
            "3/3 [==============================] - 0s 11ms/step - loss: 1.9920 - accuracy: 0.3333\n",
            "Epoch 44/400\n",
            "3/3 [==============================] - 0s 14ms/step - loss: 1.9738 - accuracy: 0.3333\n",
            "Epoch 45/400\n",
            "3/3 [==============================] - 0s 10ms/step - loss: 1.9547 - accuracy: 0.3333\n",
            "Epoch 46/400\n",
            "3/3 [==============================] - 0s 12ms/step - loss: 1.9370 - accuracy: 0.3333\n",
            "Epoch 47/400\n",
            "3/3 [==============================] - 0s 11ms/step - loss: 1.9204 - accuracy: 0.3333\n",
            "Epoch 48/400\n",
            "3/3 [==============================] - 0s 15ms/step - loss: 1.9005 - accuracy: 0.3333\n",
            "Epoch 49/400\n",
            "3/3 [==============================] - 0s 10ms/step - loss: 1.8837 - accuracy: 0.3467\n",
            "Epoch 50/400\n",
            "3/3 [==============================] - 0s 10ms/step - loss: 1.8664 - accuracy: 0.3467\n",
            "Epoch 51/400\n",
            "3/3 [==============================] - 0s 11ms/step - loss: 1.8505 - accuracy: 0.3600\n",
            "Epoch 52/400\n",
            "3/3 [==============================] - 0s 14ms/step - loss: 1.8339 - accuracy: 0.3600\n",
            "Epoch 53/400\n",
            "3/3 [==============================] - 0s 11ms/step - loss: 1.8176 - accuracy: 0.3733\n",
            "Epoch 54/400\n",
            "3/3 [==============================] - 0s 11ms/step - loss: 1.8014 - accuracy: 0.3600\n",
            "Epoch 55/400\n",
            "3/3 [==============================] - 0s 10ms/step - loss: 1.7877 - accuracy: 0.3467\n",
            "Epoch 56/400\n",
            "3/3 [==============================] - 0s 12ms/step - loss: 1.7739 - accuracy: 0.3600\n",
            "Epoch 57/400\n",
            "3/3 [==============================] - 0s 10ms/step - loss: 1.7594 - accuracy: 0.3733\n",
            "Epoch 58/400\n",
            "3/3 [==============================] - 0s 10ms/step - loss: 1.7451 - accuracy: 0.3733\n",
            "Epoch 59/400\n",
            "3/3 [==============================] - 0s 9ms/step - loss: 1.7301 - accuracy: 0.3733\n",
            "Epoch 60/400\n",
            "3/3 [==============================] - 0s 10ms/step - loss: 1.7135 - accuracy: 0.3733\n",
            "Epoch 61/400\n",
            "3/3 [==============================] - 0s 10ms/step - loss: 1.7011 - accuracy: 0.3867\n",
            "Epoch 62/400\n",
            "3/3 [==============================] - 0s 11ms/step - loss: 1.6859 - accuracy: 0.3867\n",
            "Epoch 63/400\n",
            "3/3 [==============================] - 0s 11ms/step - loss: 1.6708 - accuracy: 0.3867\n",
            "Epoch 64/400\n",
            "3/3 [==============================] - 0s 10ms/step - loss: 1.6561 - accuracy: 0.4000\n",
            "Epoch 65/400\n",
            "3/3 [==============================] - 0s 10ms/step - loss: 1.6403 - accuracy: 0.4000\n",
            "Epoch 66/400\n",
            "3/3 [==============================] - 0s 13ms/step - loss: 1.6252 - accuracy: 0.4000\n",
            "Epoch 67/400\n",
            "3/3 [==============================] - 0s 12ms/step - loss: 1.6101 - accuracy: 0.4133\n",
            "Epoch 68/400\n",
            "3/3 [==============================] - 0s 11ms/step - loss: 1.5965 - accuracy: 0.4267\n",
            "Epoch 69/400\n",
            "3/3 [==============================] - 0s 12ms/step - loss: 1.5816 - accuracy: 0.4533\n",
            "Epoch 70/400\n",
            "3/3 [==============================] - 0s 12ms/step - loss: 1.5661 - accuracy: 0.4400\n",
            "Epoch 71/400\n",
            "3/3 [==============================] - 0s 13ms/step - loss: 1.5500 - accuracy: 0.4400\n",
            "Epoch 72/400\n",
            "3/3 [==============================] - 0s 10ms/step - loss: 1.5344 - accuracy: 0.4533\n",
            "Epoch 73/400\n",
            "3/3 [==============================] - 0s 11ms/step - loss: 1.5188 - accuracy: 0.4533\n",
            "Epoch 74/400\n",
            "3/3 [==============================] - 0s 17ms/step - loss: 1.5023 - accuracy: 0.4667\n",
            "Epoch 75/400\n",
            "3/3 [==============================] - 0s 11ms/step - loss: 1.4859 - accuracy: 0.4667\n",
            "Epoch 76/400\n",
            "3/3 [==============================] - 0s 10ms/step - loss: 1.4684 - accuracy: 0.4667\n",
            "Epoch 77/400\n",
            "3/3 [==============================] - 0s 11ms/step - loss: 1.4537 - accuracy: 0.4933\n",
            "Epoch 78/400\n",
            "3/3 [==============================] - 0s 11ms/step - loss: 1.4366 - accuracy: 0.5333\n",
            "Epoch 79/400\n",
            "3/3 [==============================] - 0s 11ms/step - loss: 1.4195 - accuracy: 0.5467\n",
            "Epoch 80/400\n",
            "3/3 [==============================] - 0s 11ms/step - loss: 1.4026 - accuracy: 0.5467\n",
            "Epoch 81/400\n",
            "3/3 [==============================] - 0s 12ms/step - loss: 1.3843 - accuracy: 0.5467\n",
            "Epoch 82/400\n",
            "3/3 [==============================] - 0s 13ms/step - loss: 1.3673 - accuracy: 0.5600\n",
            "Epoch 83/400\n",
            "3/3 [==============================] - 0s 10ms/step - loss: 1.3513 - accuracy: 0.5733\n",
            "Epoch 84/400\n",
            "3/3 [==============================] - 0s 10ms/step - loss: 1.3330 - accuracy: 0.6000\n",
            "Epoch 85/400\n",
            "3/3 [==============================] - 0s 11ms/step - loss: 1.3136 - accuracy: 0.6000\n",
            "Epoch 86/400\n",
            "3/3 [==============================] - 0s 10ms/step - loss: 1.2936 - accuracy: 0.6000\n",
            "Epoch 87/400\n",
            "3/3 [==============================] - 0s 10ms/step - loss: 1.2755 - accuracy: 0.6267\n",
            "Epoch 88/400\n",
            "3/3 [==============================] - 0s 11ms/step - loss: 1.2566 - accuracy: 0.6400\n",
            "Epoch 89/400\n",
            "3/3 [==============================] - 0s 10ms/step - loss: 1.2386 - accuracy: 0.6533\n",
            "Epoch 90/400\n",
            "3/3 [==============================] - 0s 15ms/step - loss: 1.2188 - accuracy: 0.6400\n",
            "Epoch 91/400\n",
            "3/3 [==============================] - 0s 11ms/step - loss: 1.2017 - accuracy: 0.6533\n",
            "Epoch 92/400\n",
            "3/3 [==============================] - 0s 12ms/step - loss: 1.1841 - accuracy: 0.6667\n",
            "Epoch 93/400\n",
            "3/3 [==============================] - 0s 9ms/step - loss: 1.1657 - accuracy: 0.7067\n",
            "Epoch 94/400\n",
            "3/3 [==============================] - 0s 11ms/step - loss: 1.1494 - accuracy: 0.7067\n",
            "Epoch 95/400\n",
            "3/3 [==============================] - 0s 11ms/step - loss: 1.1331 - accuracy: 0.7067\n",
            "Epoch 96/400\n",
            "3/3 [==============================] - 0s 10ms/step - loss: 1.1161 - accuracy: 0.7200\n",
            "Epoch 97/400\n",
            "3/3 [==============================] - 0s 13ms/step - loss: 1.0992 - accuracy: 0.7200\n",
            "Epoch 98/400\n",
            "3/3 [==============================] - 0s 12ms/step - loss: 1.0832 - accuracy: 0.7200\n",
            "Epoch 99/400\n",
            "3/3 [==============================] - 0s 11ms/step - loss: 1.0649 - accuracy: 0.7200\n",
            "Epoch 100/400\n",
            "3/3 [==============================] - 0s 11ms/step - loss: 1.0512 - accuracy: 0.7200\n",
            "Epoch 101/400\n",
            "3/3 [==============================] - 0s 10ms/step - loss: 1.0327 - accuracy: 0.7200\n",
            "Epoch 102/400\n",
            "3/3 [==============================] - 0s 10ms/step - loss: 1.0149 - accuracy: 0.7467\n",
            "Epoch 103/400\n",
            "3/3 [==============================] - 0s 10ms/step - loss: 0.9986 - accuracy: 0.7733\n",
            "Epoch 104/400\n",
            "3/3 [==============================] - 0s 11ms/step - loss: 0.9858 - accuracy: 0.7600\n",
            "Epoch 105/400\n",
            "3/3 [==============================] - 0s 12ms/step - loss: 0.9700 - accuracy: 0.7600\n",
            "Epoch 106/400\n",
            "3/3 [==============================] - 0s 10ms/step - loss: 0.9568 - accuracy: 0.7600\n",
            "Epoch 107/400\n",
            "3/3 [==============================] - 0s 9ms/step - loss: 0.9415 - accuracy: 0.7600\n",
            "Epoch 108/400\n",
            "3/3 [==============================] - 0s 9ms/step - loss: 0.9292 - accuracy: 0.7733\n",
            "Epoch 109/400\n",
            "3/3 [==============================] - 0s 12ms/step - loss: 0.9134 - accuracy: 0.7733\n",
            "Epoch 110/400\n",
            "3/3 [==============================] - 0s 9ms/step - loss: 0.8976 - accuracy: 0.8133\n",
            "Epoch 111/400\n",
            "3/3 [==============================] - 0s 10ms/step - loss: 0.8881 - accuracy: 0.8133\n",
            "Epoch 112/400\n",
            "3/3 [==============================] - 0s 10ms/step - loss: 0.8729 - accuracy: 0.8133\n",
            "Epoch 113/400\n",
            "3/3 [==============================] - 0s 11ms/step - loss: 0.8585 - accuracy: 0.8133\n",
            "Epoch 114/400\n",
            "3/3 [==============================] - 0s 16ms/step - loss: 0.8487 - accuracy: 0.8133\n",
            "Epoch 115/400\n",
            "3/3 [==============================] - 0s 9ms/step - loss: 0.8373 - accuracy: 0.8133\n",
            "Epoch 116/400\n",
            "3/3 [==============================] - 0s 13ms/step - loss: 0.8235 - accuracy: 0.8133\n",
            "Epoch 117/400\n",
            "3/3 [==============================] - 0s 10ms/step - loss: 0.8130 - accuracy: 0.8133\n",
            "Epoch 118/400\n",
            "3/3 [==============================] - 0s 10ms/step - loss: 0.8040 - accuracy: 0.8267\n",
            "Epoch 119/400\n",
            "3/3 [==============================] - 0s 11ms/step - loss: 0.7925 - accuracy: 0.8267\n",
            "Epoch 120/400\n",
            "3/3 [==============================] - 0s 10ms/step - loss: 0.7796 - accuracy: 0.8267\n",
            "Epoch 121/400\n",
            "3/3 [==============================] - 0s 11ms/step - loss: 0.7690 - accuracy: 0.8267\n",
            "Epoch 122/400\n",
            "3/3 [==============================] - 0s 11ms/step - loss: 0.7572 - accuracy: 0.8267\n",
            "Epoch 123/400\n",
            "3/3 [==============================] - 0s 11ms/step - loss: 0.7456 - accuracy: 0.8400\n",
            "Epoch 124/400\n",
            "3/3 [==============================] - 0s 14ms/step - loss: 0.7363 - accuracy: 0.8667\n",
            "Epoch 125/400\n",
            "3/3 [==============================] - 0s 11ms/step - loss: 0.7305 - accuracy: 0.8533\n",
            "Epoch 126/400\n",
            "3/3 [==============================] - 0s 14ms/step - loss: 0.7212 - accuracy: 0.8667\n",
            "Epoch 127/400\n",
            "3/3 [==============================] - 0s 13ms/step - loss: 0.7073 - accuracy: 0.8667\n",
            "Epoch 128/400\n",
            "3/3 [==============================] - 0s 11ms/step - loss: 0.7021 - accuracy: 0.8800\n",
            "Epoch 129/400\n",
            "3/3 [==============================] - 0s 15ms/step - loss: 0.6931 - accuracy: 0.8667\n",
            "Epoch 130/400\n",
            "3/3 [==============================] - 0s 15ms/step - loss: 0.6825 - accuracy: 0.8667\n",
            "Epoch 131/400\n",
            "3/3 [==============================] - 0s 10ms/step - loss: 0.6711 - accuracy: 0.8667\n",
            "Epoch 132/400\n",
            "3/3 [==============================] - 0s 10ms/step - loss: 0.6619 - accuracy: 0.8667\n",
            "Epoch 133/400\n",
            "3/3 [==============================] - 0s 12ms/step - loss: 0.6510 - accuracy: 0.8667\n",
            "Epoch 134/400\n",
            "3/3 [==============================] - 0s 10ms/step - loss: 0.6448 - accuracy: 0.8667\n",
            "Epoch 135/400\n",
            "3/3 [==============================] - 0s 10ms/step - loss: 0.6368 - accuracy: 0.8667\n",
            "Epoch 136/400\n",
            "3/3 [==============================] - 0s 10ms/step - loss: 0.6277 - accuracy: 0.8667\n",
            "Epoch 137/400\n",
            "3/3 [==============================] - 0s 10ms/step - loss: 0.6185 - accuracy: 0.8667\n",
            "Epoch 138/400\n",
            "3/3 [==============================] - 0s 10ms/step - loss: 0.6116 - accuracy: 0.8667\n",
            "Epoch 139/400\n",
            "3/3 [==============================] - 0s 10ms/step - loss: 0.6025 - accuracy: 0.8667\n",
            "Epoch 140/400\n",
            "3/3 [==============================] - 0s 11ms/step - loss: 0.5942 - accuracy: 0.8800\n",
            "Epoch 141/400\n",
            "3/3 [==============================] - 0s 10ms/step - loss: 0.5881 - accuracy: 0.8800\n",
            "Epoch 142/400\n",
            "3/3 [==============================] - 0s 9ms/step - loss: 0.5784 - accuracy: 0.8667\n",
            "Epoch 143/400\n",
            "3/3 [==============================] - 0s 9ms/step - loss: 0.5732 - accuracy: 0.8667\n",
            "Epoch 144/400\n",
            "3/3 [==============================] - 0s 10ms/step - loss: 0.5639 - accuracy: 0.8933\n",
            "Epoch 145/400\n",
            "3/3 [==============================] - 0s 10ms/step - loss: 0.5564 - accuracy: 0.8800\n",
            "Epoch 146/400\n",
            "3/3 [==============================] - 0s 10ms/step - loss: 0.5526 - accuracy: 0.8800\n",
            "Epoch 147/400\n",
            "3/3 [==============================] - 0s 12ms/step - loss: 0.5451 - accuracy: 0.8800\n",
            "Epoch 148/400\n",
            "3/3 [==============================] - 0s 11ms/step - loss: 0.5338 - accuracy: 0.8800\n",
            "Epoch 149/400\n",
            "3/3 [==============================] - 0s 13ms/step - loss: 0.5272 - accuracy: 0.8800\n",
            "Epoch 150/400\n",
            "3/3 [==============================] - 0s 13ms/step - loss: 0.5220 - accuracy: 0.8800\n",
            "Epoch 151/400\n",
            "3/3 [==============================] - 0s 12ms/step - loss: 0.5143 - accuracy: 0.8800\n",
            "Epoch 152/400\n",
            "3/3 [==============================] - 0s 10ms/step - loss: 0.5078 - accuracy: 0.8800\n",
            "Epoch 153/400\n",
            "3/3 [==============================] - 0s 11ms/step - loss: 0.5028 - accuracy: 0.8800\n",
            "Epoch 154/400\n",
            "3/3 [==============================] - 0s 14ms/step - loss: 0.4940 - accuracy: 0.8800\n",
            "Epoch 155/400\n",
            "3/3 [==============================] - 0s 11ms/step - loss: 0.4895 - accuracy: 0.9067\n",
            "Epoch 156/400\n",
            "3/3 [==============================] - 0s 11ms/step - loss: 0.4866 - accuracy: 0.9067\n",
            "Epoch 157/400\n",
            "3/3 [==============================] - 0s 11ms/step - loss: 0.4803 - accuracy: 0.9200\n",
            "Epoch 158/400\n",
            "3/3 [==============================] - 0s 11ms/step - loss: 0.4724 - accuracy: 0.9067\n",
            "Epoch 159/400\n",
            "3/3 [==============================] - 0s 12ms/step - loss: 0.4645 - accuracy: 0.8933\n",
            "Epoch 160/400\n",
            "3/3 [==============================] - 0s 10ms/step - loss: 0.4634 - accuracy: 0.8800\n",
            "Epoch 161/400\n",
            "3/3 [==============================] - 0s 10ms/step - loss: 0.4558 - accuracy: 0.8800\n",
            "Epoch 162/400\n",
            "3/3 [==============================] - 0s 10ms/step - loss: 0.4506 - accuracy: 0.8933\n",
            "Epoch 163/400\n",
            "3/3 [==============================] - 0s 11ms/step - loss: 0.4455 - accuracy: 0.8933\n",
            "Epoch 164/400\n",
            "3/3 [==============================] - 0s 11ms/step - loss: 0.4387 - accuracy: 0.8933\n",
            "Epoch 165/400\n",
            "3/3 [==============================] - 0s 11ms/step - loss: 0.4351 - accuracy: 0.8933\n",
            "Epoch 166/400\n",
            "3/3 [==============================] - 0s 12ms/step - loss: 0.4298 - accuracy: 0.9067\n",
            "Epoch 167/400\n",
            "3/3 [==============================] - 0s 11ms/step - loss: 0.4238 - accuracy: 0.9067\n",
            "Epoch 168/400\n",
            "3/3 [==============================] - 0s 11ms/step - loss: 0.4221 - accuracy: 0.9200\n",
            "Epoch 169/400\n",
            "3/3 [==============================] - 0s 10ms/step - loss: 0.4190 - accuracy: 0.9333\n",
            "Epoch 170/400\n",
            "3/3 [==============================] - 0s 11ms/step - loss: 0.4093 - accuracy: 0.9200\n",
            "Epoch 171/400\n",
            "3/3 [==============================] - 0s 10ms/step - loss: 0.4038 - accuracy: 0.9200\n",
            "Epoch 172/400\n",
            "3/3 [==============================] - 0s 10ms/step - loss: 0.4029 - accuracy: 0.9200\n",
            "Epoch 173/400\n",
            "3/3 [==============================] - 0s 10ms/step - loss: 0.3969 - accuracy: 0.9200\n",
            "Epoch 174/400\n",
            "3/3 [==============================] - 0s 12ms/step - loss: 0.3907 - accuracy: 0.9200\n",
            "Epoch 175/400\n",
            "3/3 [==============================] - 0s 13ms/step - loss: 0.3851 - accuracy: 0.9200\n",
            "Epoch 176/400\n",
            "3/3 [==============================] - 0s 11ms/step - loss: 0.3819 - accuracy: 0.9333\n",
            "Epoch 177/400\n",
            "3/3 [==============================] - 0s 10ms/step - loss: 0.3813 - accuracy: 0.9467\n",
            "Epoch 178/400\n",
            "3/3 [==============================] - 0s 15ms/step - loss: 0.3730 - accuracy: 0.9467\n",
            "Epoch 179/400\n",
            "3/3 [==============================] - 0s 10ms/step - loss: 0.3690 - accuracy: 0.9600\n",
            "Epoch 180/400\n",
            "3/3 [==============================] - 0s 11ms/step - loss: 0.3655 - accuracy: 0.9600\n",
            "Epoch 181/400\n",
            "3/3 [==============================] - 0s 10ms/step - loss: 0.3597 - accuracy: 0.9467\n",
            "Epoch 182/400\n",
            "3/3 [==============================] - 0s 10ms/step - loss: 0.3570 - accuracy: 0.9467\n",
            "Epoch 183/400\n",
            "3/3 [==============================] - 0s 11ms/step - loss: 0.3521 - accuracy: 0.9467\n",
            "Epoch 184/400\n",
            "3/3 [==============================] - 0s 10ms/step - loss: 0.3486 - accuracy: 0.9467\n",
            "Epoch 185/400\n",
            "3/3 [==============================] - 0s 10ms/step - loss: 0.3450 - accuracy: 0.9333\n",
            "Epoch 186/400\n",
            "3/3 [==============================] - 0s 10ms/step - loss: 0.3422 - accuracy: 0.9600\n",
            "Epoch 187/400\n",
            "3/3 [==============================] - 0s 11ms/step - loss: 0.3367 - accuracy: 0.9733\n",
            "Epoch 188/400\n",
            "3/3 [==============================] - 0s 11ms/step - loss: 0.3332 - accuracy: 0.9467\n",
            "Epoch 189/400\n",
            "3/3 [==============================] - 0s 11ms/step - loss: 0.3326 - accuracy: 0.9467\n",
            "Epoch 190/400\n",
            "3/3 [==============================] - 0s 12ms/step - loss: 0.3281 - accuracy: 0.9467\n",
            "Epoch 191/400\n",
            "3/3 [==============================] - 0s 12ms/step - loss: 0.3229 - accuracy: 0.9600\n",
            "Epoch 192/400\n",
            "3/3 [==============================] - 0s 11ms/step - loss: 0.3194 - accuracy: 0.9733\n",
            "Epoch 193/400\n",
            "3/3 [==============================] - 0s 10ms/step - loss: 0.3174 - accuracy: 0.9733\n",
            "Epoch 194/400\n",
            "3/3 [==============================] - 0s 11ms/step - loss: 0.3139 - accuracy: 0.9733\n",
            "Epoch 195/400\n",
            "3/3 [==============================] - 0s 11ms/step - loss: 0.3091 - accuracy: 0.9733\n",
            "Epoch 196/400\n",
            "3/3 [==============================] - 0s 10ms/step - loss: 0.3062 - accuracy: 0.9733\n",
            "Epoch 197/400\n",
            "3/3 [==============================] - 0s 11ms/step - loss: 0.3023 - accuracy: 0.9733\n",
            "Epoch 198/400\n",
            "3/3 [==============================] - 0s 11ms/step - loss: 0.3003 - accuracy: 0.9467\n",
            "Epoch 199/400\n",
            "3/3 [==============================] - 0s 11ms/step - loss: 0.2981 - accuracy: 0.9467\n",
            "Epoch 200/400\n",
            "3/3 [==============================] - 0s 11ms/step - loss: 0.2930 - accuracy: 0.9600\n",
            "Epoch 201/400\n",
            "3/3 [==============================] - 0s 11ms/step - loss: 0.2916 - accuracy: 0.9733\n",
            "Epoch 202/400\n",
            "3/3 [==============================] - 0s 11ms/step - loss: 0.2892 - accuracy: 0.9733\n",
            "Epoch 203/400\n",
            "3/3 [==============================] - 0s 11ms/step - loss: 0.2851 - accuracy: 0.9733\n",
            "Epoch 204/400\n",
            "3/3 [==============================] - 0s 10ms/step - loss: 0.2827 - accuracy: 0.9867\n",
            "Epoch 205/400\n",
            "3/3 [==============================] - 0s 11ms/step - loss: 0.2803 - accuracy: 0.9867\n",
            "Epoch 206/400\n",
            "3/3 [==============================] - 0s 11ms/step - loss: 0.2768 - accuracy: 0.9733\n",
            "Epoch 207/400\n",
            "3/3 [==============================] - 0s 13ms/step - loss: 0.2750 - accuracy: 0.9733\n",
            "Epoch 208/400\n",
            "3/3 [==============================] - 0s 10ms/step - loss: 0.2707 - accuracy: 0.9733\n",
            "Epoch 209/400\n",
            "3/3 [==============================] - 0s 11ms/step - loss: 0.2676 - accuracy: 0.9733\n",
            "Epoch 210/400\n",
            "3/3 [==============================] - 0s 12ms/step - loss: 0.2690 - accuracy: 0.9600\n",
            "Epoch 211/400\n",
            "3/3 [==============================] - 0s 11ms/step - loss: 0.2654 - accuracy: 0.9867\n",
            "Epoch 212/400\n",
            "3/3 [==============================] - 0s 10ms/step - loss: 0.2616 - accuracy: 0.9867\n",
            "Epoch 213/400\n",
            "3/3 [==============================] - 0s 11ms/step - loss: 0.2575 - accuracy: 0.9733\n",
            "Epoch 214/400\n",
            "3/3 [==============================] - 0s 11ms/step - loss: 0.2549 - accuracy: 0.9733\n",
            "Epoch 215/400\n",
            "3/3 [==============================] - 0s 10ms/step - loss: 0.2524 - accuracy: 0.9867\n",
            "Epoch 216/400\n",
            "3/3 [==============================] - 0s 11ms/step - loss: 0.2526 - accuracy: 0.9867\n",
            "Epoch 217/400\n",
            "3/3 [==============================] - 0s 11ms/step - loss: 0.2510 - accuracy: 0.9867\n",
            "Epoch 218/400\n",
            "3/3 [==============================] - 0s 11ms/step - loss: 0.2462 - accuracy: 0.9733\n",
            "Epoch 219/400\n",
            "3/3 [==============================] - 0s 11ms/step - loss: 0.2442 - accuracy: 0.9733\n",
            "Epoch 220/400\n",
            "3/3 [==============================] - 0s 11ms/step - loss: 0.2421 - accuracy: 0.9733\n",
            "Epoch 221/400\n",
            "3/3 [==============================] - 0s 14ms/step - loss: 0.2389 - accuracy: 0.9733\n",
            "Epoch 222/400\n",
            "3/3 [==============================] - 0s 14ms/step - loss: 0.2347 - accuracy: 0.9733\n",
            "Epoch 223/400\n",
            "3/3 [==============================] - 0s 10ms/step - loss: 0.2328 - accuracy: 0.9733\n",
            "Epoch 224/400\n",
            "3/3 [==============================] - 0s 10ms/step - loss: 0.2318 - accuracy: 0.9733\n",
            "Epoch 225/400\n",
            "3/3 [==============================] - 0s 11ms/step - loss: 0.2289 - accuracy: 0.9733\n",
            "Epoch 226/400\n",
            "3/3 [==============================] - 0s 10ms/step - loss: 0.2283 - accuracy: 0.9733\n",
            "Epoch 227/400\n",
            "3/3 [==============================] - 0s 11ms/step - loss: 0.2249 - accuracy: 0.9733\n",
            "Epoch 228/400\n",
            "3/3 [==============================] - 0s 13ms/step - loss: 0.2243 - accuracy: 0.9733\n",
            "Epoch 229/400\n",
            "3/3 [==============================] - 0s 10ms/step - loss: 0.2209 - accuracy: 0.9733\n",
            "Epoch 230/400\n",
            "3/3 [==============================] - 0s 11ms/step - loss: 0.2187 - accuracy: 0.9867\n",
            "Epoch 231/400\n",
            "3/3 [==============================] - 0s 10ms/step - loss: 0.2163 - accuracy: 0.9867\n",
            "Epoch 232/400\n",
            "3/3 [==============================] - 0s 10ms/step - loss: 0.2133 - accuracy: 0.9867\n",
            "Epoch 233/400\n",
            "3/3 [==============================] - 0s 12ms/step - loss: 0.2123 - accuracy: 0.9867\n",
            "Epoch 234/400\n",
            "3/3 [==============================] - 0s 11ms/step - loss: 0.2125 - accuracy: 0.9867\n",
            "Epoch 235/400\n",
            "3/3 [==============================] - 0s 10ms/step - loss: 0.2101 - accuracy: 0.9867\n",
            "Epoch 236/400\n",
            "3/3 [==============================] - 0s 10ms/step - loss: 0.2058 - accuracy: 0.9867\n",
            "Epoch 237/400\n",
            "3/3 [==============================] - 0s 17ms/step - loss: 0.2048 - accuracy: 0.9867\n",
            "Epoch 238/400\n",
            "3/3 [==============================] - 0s 11ms/step - loss: 0.2038 - accuracy: 0.9867\n",
            "Epoch 239/400\n",
            "3/3 [==============================] - 0s 11ms/step - loss: 0.2013 - accuracy: 0.9867\n",
            "Epoch 240/400\n",
            "3/3 [==============================] - 0s 11ms/step - loss: 0.1993 - accuracy: 0.9867\n",
            "Epoch 241/400\n",
            "3/3 [==============================] - 0s 10ms/step - loss: 0.1981 - accuracy: 0.9867\n",
            "Epoch 242/400\n",
            "3/3 [==============================] - 0s 11ms/step - loss: 0.1958 - accuracy: 0.9867\n",
            "Epoch 243/400\n",
            "3/3 [==============================] - 0s 12ms/step - loss: 0.1935 - accuracy: 0.9867\n",
            "Epoch 244/400\n",
            "3/3 [==============================] - 0s 11ms/step - loss: 0.1931 - accuracy: 0.9867\n",
            "Epoch 245/400\n",
            "3/3 [==============================] - 0s 10ms/step - loss: 0.1923 - accuracy: 0.9867\n",
            "Epoch 246/400\n",
            "3/3 [==============================] - 0s 10ms/step - loss: 0.1899 - accuracy: 0.9867\n",
            "Epoch 247/400\n",
            "3/3 [==============================] - 0s 11ms/step - loss: 0.1880 - accuracy: 0.9867\n",
            "Epoch 248/400\n",
            "3/3 [==============================] - 0s 11ms/step - loss: 0.1856 - accuracy: 0.9867\n",
            "Epoch 249/400\n",
            "3/3 [==============================] - 0s 10ms/step - loss: 0.1856 - accuracy: 0.9867\n",
            "Epoch 250/400\n",
            "3/3 [==============================] - 0s 12ms/step - loss: 0.1844 - accuracy: 0.9867\n",
            "Epoch 251/400\n",
            "3/3 [==============================] - 0s 11ms/step - loss: 0.1821 - accuracy: 0.9867\n",
            "Epoch 252/400\n",
            "3/3 [==============================] - 0s 10ms/step - loss: 0.1799 - accuracy: 0.9867\n",
            "Epoch 253/400\n",
            "3/3 [==============================] - 0s 15ms/step - loss: 0.1780 - accuracy: 0.9867\n",
            "Epoch 254/400\n",
            "3/3 [==============================] - 0s 10ms/step - loss: 0.1790 - accuracy: 0.9867\n",
            "Epoch 255/400\n",
            "3/3 [==============================] - 0s 11ms/step - loss: 0.1776 - accuracy: 0.9867\n",
            "Epoch 256/400\n",
            "3/3 [==============================] - 0s 11ms/step - loss: 0.1741 - accuracy: 0.9867\n",
            "Epoch 257/400\n",
            "3/3 [==============================] - 0s 10ms/step - loss: 0.1733 - accuracy: 0.9867\n",
            "Epoch 258/400\n",
            "3/3 [==============================] - 0s 12ms/step - loss: 0.1720 - accuracy: 0.9867\n",
            "Epoch 259/400\n",
            "3/3 [==============================] - 0s 10ms/step - loss: 0.1705 - accuracy: 0.9867\n",
            "Epoch 260/400\n",
            "3/3 [==============================] - 0s 12ms/step - loss: 0.1685 - accuracy: 0.9867\n",
            "Epoch 261/400\n",
            "3/3 [==============================] - 0s 11ms/step - loss: 0.1672 - accuracy: 0.9867\n",
            "Epoch 262/400\n",
            "3/3 [==============================] - 0s 13ms/step - loss: 0.1658 - accuracy: 0.9867\n",
            "Epoch 263/400\n",
            "3/3 [==============================] - 0s 12ms/step - loss: 0.1638 - accuracy: 0.9867\n",
            "Epoch 264/400\n",
            "3/3 [==============================] - 0s 12ms/step - loss: 0.1621 - accuracy: 0.9867\n",
            "Epoch 265/400\n",
            "3/3 [==============================] - 0s 12ms/step - loss: 0.1609 - accuracy: 0.9867\n",
            "Epoch 266/400\n",
            "3/3 [==============================] - 0s 11ms/step - loss: 0.1593 - accuracy: 0.9867\n",
            "Epoch 267/400\n",
            "3/3 [==============================] - 0s 10ms/step - loss: 0.1581 - accuracy: 0.9867\n",
            "Epoch 268/400\n",
            "3/3 [==============================] - 0s 12ms/step - loss: 0.1571 - accuracy: 0.9867\n",
            "Epoch 269/400\n",
            "3/3 [==============================] - 0s 10ms/step - loss: 0.1555 - accuracy: 0.9867\n",
            "Epoch 270/400\n",
            "3/3 [==============================] - 0s 10ms/step - loss: 0.1551 - accuracy: 0.9867\n",
            "Epoch 271/400\n",
            "3/3 [==============================] - 0s 10ms/step - loss: 0.1552 - accuracy: 0.9867\n",
            "Epoch 272/400\n",
            "3/3 [==============================] - 0s 11ms/step - loss: 0.1531 - accuracy: 1.0000\n",
            "Epoch 273/400\n",
            "3/3 [==============================] - 0s 10ms/step - loss: 0.1523 - accuracy: 1.0000\n",
            "Epoch 274/400\n",
            "3/3 [==============================] - 0s 10ms/step - loss: 0.1498 - accuracy: 1.0000\n",
            "Epoch 275/400\n",
            "3/3 [==============================] - 0s 10ms/step - loss: 0.1490 - accuracy: 1.0000\n",
            "Epoch 276/400\n",
            "3/3 [==============================] - 0s 11ms/step - loss: 0.1488 - accuracy: 1.0000\n",
            "Epoch 277/400\n",
            "3/3 [==============================] - 0s 10ms/step - loss: 0.1465 - accuracy: 1.0000\n",
            "Epoch 278/400\n",
            "3/3 [==============================] - 0s 11ms/step - loss: 0.1453 - accuracy: 1.0000\n",
            "Epoch 279/400\n",
            "3/3 [==============================] - 0s 11ms/step - loss: 0.1441 - accuracy: 1.0000\n",
            "Epoch 280/400\n",
            "3/3 [==============================] - 0s 15ms/step - loss: 0.1431 - accuracy: 1.0000\n",
            "Epoch 281/400\n",
            "3/3 [==============================] - 0s 10ms/step - loss: 0.1418 - accuracy: 1.0000\n",
            "Epoch 282/400\n",
            "3/3 [==============================] - 0s 11ms/step - loss: 0.1402 - accuracy: 1.0000\n",
            "Epoch 283/400\n",
            "3/3 [==============================] - 0s 13ms/step - loss: 0.1395 - accuracy: 1.0000\n",
            "Epoch 284/400\n",
            "3/3 [==============================] - 0s 15ms/step - loss: 0.1378 - accuracy: 1.0000\n",
            "Epoch 285/400\n",
            "3/3 [==============================] - 0s 19ms/step - loss: 0.1372 - accuracy: 1.0000\n",
            "Epoch 286/400\n",
            "3/3 [==============================] - 0s 12ms/step - loss: 0.1358 - accuracy: 1.0000\n",
            "Epoch 287/400\n",
            "3/3 [==============================] - 0s 13ms/step - loss: 0.1346 - accuracy: 1.0000\n",
            "Epoch 288/400\n",
            "3/3 [==============================] - 0s 11ms/step - loss: 0.1336 - accuracy: 1.0000\n",
            "Epoch 289/400\n",
            "3/3 [==============================] - 0s 12ms/step - loss: 0.1329 - accuracy: 1.0000\n",
            "Epoch 290/400\n",
            "3/3 [==============================] - 0s 11ms/step - loss: 0.1317 - accuracy: 1.0000\n",
            "Epoch 291/400\n",
            "3/3 [==============================] - 0s 14ms/step - loss: 0.1309 - accuracy: 1.0000\n",
            "Epoch 292/400\n",
            "3/3 [==============================] - 0s 10ms/step - loss: 0.1305 - accuracy: 0.9867\n",
            "Epoch 293/400\n",
            "3/3 [==============================] - 0s 10ms/step - loss: 0.1284 - accuracy: 0.9867\n",
            "Epoch 294/400\n",
            "3/3 [==============================] - 0s 11ms/step - loss: 0.1290 - accuracy: 1.0000\n",
            "Epoch 295/400\n",
            "3/3 [==============================] - 0s 11ms/step - loss: 0.1273 - accuracy: 1.0000\n",
            "Epoch 296/400\n",
            "3/3 [==============================] - 0s 15ms/step - loss: 0.1253 - accuracy: 1.0000\n",
            "Epoch 297/400\n",
            "3/3 [==============================] - 0s 14ms/step - loss: 0.1262 - accuracy: 0.9867\n",
            "Epoch 298/400\n",
            "3/3 [==============================] - 0s 10ms/step - loss: 0.1242 - accuracy: 1.0000\n",
            "Epoch 299/400\n",
            "3/3 [==============================] - 0s 12ms/step - loss: 0.1231 - accuracy: 1.0000\n",
            "Epoch 300/400\n",
            "3/3 [==============================] - 0s 13ms/step - loss: 0.1218 - accuracy: 1.0000\n",
            "Epoch 301/400\n",
            "3/3 [==============================] - 0s 13ms/step - loss: 0.1213 - accuracy: 1.0000\n",
            "Epoch 302/400\n",
            "3/3 [==============================] - 0s 11ms/step - loss: 0.1203 - accuracy: 1.0000\n",
            "Epoch 303/400\n",
            "3/3 [==============================] - 0s 13ms/step - loss: 0.1196 - accuracy: 1.0000\n",
            "Epoch 304/400\n",
            "3/3 [==============================] - 0s 12ms/step - loss: 0.1188 - accuracy: 1.0000\n",
            "Epoch 305/400\n",
            "3/3 [==============================] - 0s 13ms/step - loss: 0.1178 - accuracy: 1.0000\n",
            "Epoch 306/400\n",
            "3/3 [==============================] - 0s 12ms/step - loss: 0.1170 - accuracy: 1.0000\n",
            "Epoch 307/400\n",
            "3/3 [==============================] - 0s 10ms/step - loss: 0.1162 - accuracy: 1.0000\n",
            "Epoch 308/400\n",
            "3/3 [==============================] - 0s 12ms/step - loss: 0.1154 - accuracy: 1.0000\n",
            "Epoch 309/400\n",
            "3/3 [==============================] - 0s 14ms/step - loss: 0.1146 - accuracy: 1.0000\n",
            "Epoch 310/400\n",
            "3/3 [==============================] - 0s 12ms/step - loss: 0.1142 - accuracy: 1.0000\n",
            "Epoch 311/400\n",
            "3/3 [==============================] - 0s 13ms/step - loss: 0.1130 - accuracy: 1.0000\n",
            "Epoch 312/400\n",
            "3/3 [==============================] - 0s 13ms/step - loss: 0.1118 - accuracy: 1.0000\n",
            "Epoch 313/400\n",
            "3/3 [==============================] - 0s 15ms/step - loss: 0.1113 - accuracy: 1.0000\n",
            "Epoch 314/400\n",
            "3/3 [==============================] - 0s 13ms/step - loss: 0.1113 - accuracy: 1.0000\n",
            "Epoch 315/400\n",
            "3/3 [==============================] - 0s 10ms/step - loss: 0.1106 - accuracy: 1.0000\n",
            "Epoch 316/400\n",
            "3/3 [==============================] - 0s 12ms/step - loss: 0.1098 - accuracy: 1.0000\n",
            "Epoch 317/400\n",
            "3/3 [==============================] - 0s 10ms/step - loss: 0.1099 - accuracy: 1.0000\n",
            "Epoch 318/400\n",
            "3/3 [==============================] - 0s 10ms/step - loss: 0.1090 - accuracy: 1.0000\n",
            "Epoch 319/400\n",
            "3/3 [==============================] - 0s 10ms/step - loss: 0.1073 - accuracy: 1.0000\n",
            "Epoch 320/400\n",
            "3/3 [==============================] - 0s 11ms/step - loss: 0.1066 - accuracy: 1.0000\n",
            "Epoch 321/400\n",
            "3/3 [==============================] - 0s 13ms/step - loss: 0.1067 - accuracy: 1.0000\n",
            "Epoch 322/400\n",
            "3/3 [==============================] - 0s 10ms/step - loss: 0.1049 - accuracy: 1.0000\n",
            "Epoch 323/400\n",
            "3/3 [==============================] - 0s 15ms/step - loss: 0.1043 - accuracy: 1.0000\n",
            "Epoch 324/400\n",
            "3/3 [==============================] - 0s 13ms/step - loss: 0.1031 - accuracy: 1.0000\n",
            "Epoch 325/400\n",
            "3/3 [==============================] - 0s 10ms/step - loss: 0.1025 - accuracy: 1.0000\n",
            "Epoch 326/400\n",
            "3/3 [==============================] - 0s 10ms/step - loss: 0.1018 - accuracy: 1.0000\n",
            "Epoch 327/400\n",
            "3/3 [==============================] - 0s 10ms/step - loss: 0.1013 - accuracy: 1.0000\n",
            "Epoch 328/400\n",
            "3/3 [==============================] - 0s 10ms/step - loss: 0.1003 - accuracy: 1.0000\n",
            "Epoch 329/400\n",
            "3/3 [==============================] - 0s 13ms/step - loss: 0.0995 - accuracy: 1.0000\n",
            "Epoch 330/400\n",
            "3/3 [==============================] - 0s 13ms/step - loss: 0.0995 - accuracy: 1.0000\n",
            "Epoch 331/400\n",
            "3/3 [==============================] - 0s 12ms/step - loss: 0.0980 - accuracy: 1.0000\n",
            "Epoch 332/400\n",
            "3/3 [==============================] - 0s 11ms/step - loss: 0.0973 - accuracy: 1.0000\n",
            "Epoch 333/400\n",
            "3/3 [==============================] - 0s 10ms/step - loss: 0.0966 - accuracy: 1.0000\n",
            "Epoch 334/400\n",
            "3/3 [==============================] - 0s 10ms/step - loss: 0.0962 - accuracy: 1.0000\n",
            "Epoch 335/400\n",
            "3/3 [==============================] - 0s 10ms/step - loss: 0.0957 - accuracy: 1.0000\n",
            "Epoch 336/400\n",
            "3/3 [==============================] - 0s 10ms/step - loss: 0.0950 - accuracy: 1.0000\n",
            "Epoch 337/400\n",
            "3/3 [==============================] - 0s 15ms/step - loss: 0.0946 - accuracy: 1.0000\n",
            "Epoch 338/400\n",
            "3/3 [==============================] - 0s 13ms/step - loss: 0.0940 - accuracy: 1.0000\n",
            "Epoch 339/400\n",
            "3/3 [==============================] - 0s 16ms/step - loss: 0.0935 - accuracy: 1.0000\n",
            "Epoch 340/400\n",
            "3/3 [==============================] - 0s 10ms/step - loss: 0.0927 - accuracy: 1.0000\n",
            "Epoch 341/400\n",
            "3/3 [==============================] - 0s 10ms/step - loss: 0.0918 - accuracy: 1.0000\n",
            "Epoch 342/400\n",
            "3/3 [==============================] - 0s 10ms/step - loss: 0.0908 - accuracy: 1.0000\n",
            "Epoch 343/400\n",
            "3/3 [==============================] - 0s 12ms/step - loss: 0.0908 - accuracy: 1.0000\n",
            "Epoch 344/400\n",
            "3/3 [==============================] - 0s 12ms/step - loss: 0.0903 - accuracy: 1.0000\n",
            "Epoch 345/400\n",
            "3/3 [==============================] - 0s 11ms/step - loss: 0.0894 - accuracy: 1.0000\n",
            "Epoch 346/400\n",
            "3/3 [==============================] - 0s 11ms/step - loss: 0.0884 - accuracy: 1.0000\n",
            "Epoch 347/400\n",
            "3/3 [==============================] - 0s 10ms/step - loss: 0.0884 - accuracy: 1.0000\n",
            "Epoch 348/400\n",
            "3/3 [==============================] - 0s 11ms/step - loss: 0.0881 - accuracy: 1.0000\n",
            "Epoch 349/400\n",
            "3/3 [==============================] - 0s 11ms/step - loss: 0.0872 - accuracy: 1.0000\n",
            "Epoch 350/400\n",
            "3/3 [==============================] - 0s 10ms/step - loss: 0.0866 - accuracy: 1.0000\n",
            "Epoch 351/400\n",
            "3/3 [==============================] - 0s 10ms/step - loss: 0.0858 - accuracy: 1.0000\n",
            "Epoch 352/400\n",
            "3/3 [==============================] - 0s 11ms/step - loss: 0.0850 - accuracy: 1.0000\n",
            "Epoch 353/400\n",
            "3/3 [==============================] - 0s 10ms/step - loss: 0.0845 - accuracy: 1.0000\n",
            "Epoch 354/400\n",
            "3/3 [==============================] - 0s 12ms/step - loss: 0.0841 - accuracy: 1.0000\n",
            "Epoch 355/400\n",
            "3/3 [==============================] - 0s 12ms/step - loss: 0.0840 - accuracy: 1.0000\n",
            "Epoch 356/400\n",
            "3/3 [==============================] - 0s 10ms/step - loss: 0.0834 - accuracy: 1.0000\n",
            "Epoch 357/400\n",
            "3/3 [==============================] - 0s 10ms/step - loss: 0.0827 - accuracy: 1.0000\n",
            "Epoch 358/400\n",
            "3/3 [==============================] - 0s 13ms/step - loss: 0.0825 - accuracy: 1.0000\n",
            "Epoch 359/400\n",
            "3/3 [==============================] - 0s 11ms/step - loss: 0.0818 - accuracy: 1.0000\n",
            "Epoch 360/400\n",
            "3/3 [==============================] - 0s 10ms/step - loss: 0.0810 - accuracy: 1.0000\n",
            "Epoch 361/400\n",
            "3/3 [==============================] - 0s 10ms/step - loss: 0.0802 - accuracy: 1.0000\n",
            "Epoch 362/400\n",
            "3/3 [==============================] - 0s 10ms/step - loss: 0.0799 - accuracy: 1.0000\n",
            "Epoch 363/400\n",
            "3/3 [==============================] - 0s 10ms/step - loss: 0.0800 - accuracy: 1.0000\n",
            "Epoch 364/400\n",
            "3/3 [==============================] - 0s 12ms/step - loss: 0.0792 - accuracy: 1.0000\n",
            "Epoch 365/400\n",
            "3/3 [==============================] - 0s 11ms/step - loss: 0.0784 - accuracy: 1.0000\n",
            "Epoch 366/400\n",
            "3/3 [==============================] - 0s 10ms/step - loss: 0.0781 - accuracy: 1.0000\n",
            "Epoch 367/400\n",
            "3/3 [==============================] - 0s 11ms/step - loss: 0.0780 - accuracy: 1.0000\n",
            "Epoch 368/400\n",
            "3/3 [==============================] - 0s 10ms/step - loss: 0.0774 - accuracy: 1.0000\n",
            "Epoch 369/400\n",
            "3/3 [==============================] - 0s 12ms/step - loss: 0.0770 - accuracy: 1.0000\n",
            "Epoch 370/400\n",
            "3/3 [==============================] - 0s 13ms/step - loss: 0.0764 - accuracy: 1.0000\n",
            "Epoch 371/400\n",
            "3/3 [==============================] - 0s 12ms/step - loss: 0.0759 - accuracy: 1.0000\n",
            "Epoch 372/400\n",
            "3/3 [==============================] - 0s 11ms/step - loss: 0.0750 - accuracy: 1.0000\n",
            "Epoch 373/400\n",
            "3/3 [==============================] - 0s 13ms/step - loss: 0.0746 - accuracy: 1.0000\n",
            "Epoch 374/400\n",
            "3/3 [==============================] - 0s 27ms/step - loss: 0.0747 - accuracy: 1.0000\n",
            "Epoch 375/400\n",
            "3/3 [==============================] - 0s 17ms/step - loss: 0.0738 - accuracy: 1.0000\n",
            "Epoch 376/400\n",
            "3/3 [==============================] - 0s 13ms/step - loss: 0.0730 - accuracy: 1.0000\n",
            "Epoch 377/400\n",
            "3/3 [==============================] - 0s 11ms/step - loss: 0.0732 - accuracy: 1.0000\n",
            "Epoch 378/400\n",
            "3/3 [==============================] - 0s 11ms/step - loss: 0.0726 - accuracy: 1.0000\n",
            "Epoch 379/400\n",
            "3/3 [==============================] - 0s 10ms/step - loss: 0.0725 - accuracy: 1.0000\n",
            "Epoch 380/400\n",
            "3/3 [==============================] - 0s 10ms/step - loss: 0.0720 - accuracy: 1.0000\n",
            "Epoch 381/400\n",
            "3/3 [==============================] - 0s 10ms/step - loss: 0.0718 - accuracy: 1.0000\n",
            "Epoch 382/400\n",
            "3/3 [==============================] - 0s 11ms/step - loss: 0.0715 - accuracy: 1.0000\n",
            "Epoch 383/400\n",
            "3/3 [==============================] - 0s 10ms/step - loss: 0.0703 - accuracy: 1.0000\n",
            "Epoch 384/400\n",
            "3/3 [==============================] - 0s 11ms/step - loss: 0.0695 - accuracy: 1.0000\n",
            "Epoch 385/400\n",
            "3/3 [==============================] - 0s 11ms/step - loss: 0.0692 - accuracy: 1.0000\n",
            "Epoch 386/400\n",
            "3/3 [==============================] - 0s 10ms/step - loss: 0.0697 - accuracy: 1.0000\n",
            "Epoch 387/400\n",
            "3/3 [==============================] - 0s 12ms/step - loss: 0.0694 - accuracy: 1.0000\n",
            "Epoch 388/400\n",
            "3/3 [==============================] - 0s 11ms/step - loss: 0.0688 - accuracy: 1.0000\n",
            "Epoch 389/400\n",
            "3/3 [==============================] - 0s 10ms/step - loss: 0.0683 - accuracy: 1.0000\n",
            "Epoch 390/400\n",
            "3/3 [==============================] - 0s 13ms/step - loss: 0.0672 - accuracy: 1.0000\n",
            "Epoch 391/400\n",
            "3/3 [==============================] - 0s 10ms/step - loss: 0.0670 - accuracy: 1.0000\n",
            "Epoch 392/400\n",
            "3/3 [==============================] - 0s 11ms/step - loss: 0.0667 - accuracy: 1.0000\n",
            "Epoch 393/400\n",
            "3/3 [==============================] - 0s 11ms/step - loss: 0.0662 - accuracy: 1.0000\n",
            "Epoch 394/400\n",
            "3/3 [==============================] - 0s 11ms/step - loss: 0.0659 - accuracy: 1.0000\n",
            "Epoch 395/400\n",
            "3/3 [==============================] - 0s 11ms/step - loss: 0.0657 - accuracy: 1.0000\n",
            "Epoch 396/400\n",
            "3/3 [==============================] - 0s 11ms/step - loss: 0.0652 - accuracy: 1.0000\n",
            "Epoch 397/400\n",
            "3/3 [==============================] - 0s 11ms/step - loss: 0.0647 - accuracy: 1.0000\n",
            "Epoch 398/400\n",
            "3/3 [==============================] - 0s 10ms/step - loss: 0.0644 - accuracy: 1.0000\n",
            "Epoch 399/400\n",
            "3/3 [==============================] - 0s 15ms/step - loss: 0.0642 - accuracy: 1.0000\n",
            "Epoch 400/400\n",
            "3/3 [==============================] - 0s 13ms/step - loss: 0.0633 - accuracy: 1.0000\n"
          ]
        }
      ],
      "source": [
        "# Training the model (Latih Model Data)\n",
        "train = model.fit(x_train, y_train, epochs=400)"
      ]
    },
    {
      "cell_type": "code",
      "source": [
        "model.save('/content/drive/MyDrive/Chatbot/Model3/chat_model.h5')\n",
        "\n",
        "print('Model Created Successfully!')"
      ],
      "metadata": {
        "colab": {
          "base_uri": "https://localhost:8080/"
        },
        "id": "jEFGEPCTE9ff",
        "outputId": "16b560bb-5846-4786-d999-1e3fa150ad75"
      },
      "execution_count": null,
      "outputs": [
        {
          "output_type": "stream",
          "name": "stdout",
          "text": [
            "Model Created Successfully!\n"
          ]
        }
      ]
    },
    {
      "cell_type": "markdown",
      "source": [
        "# **Testing Chatbot**\n",
        "\n",
        "Setelah mengetahui hasil dari akurasi dan loss pada model yang telah ditetapkan dengan algoritma Neural Network dan LSTM. Maka, tahapan selanjutnya adalah menguji atau testing pada chatbot yang telah dilatih sebelumnya dan melihat apakah sesuai atau tidak pada saat kita masukan teks kalimat pertanyaannya.\n",
        "\n",
        "Pada pengujian ini menggunakan metode input atau masukan sesuai dengan kalimat pertanyaan yang dimasukkan."
      ],
      "metadata": {
        "id": "t67JaaqagQm5"
      }
    },
    {
      "cell_type": "code",
      "execution_count": null,
      "metadata": {
        "id": "EHUjZ_8hqcAJ",
        "colab": {
          "base_uri": "https://localhost:8080/",
          "height": 308
        },
        "outputId": "aa2950b8-a350-4261-a287-9f114d2dce11"
      },
      "outputs": [
        {
          "output_type": "stream",
          "name": "stdout",
          "text": [
            "Kamu : HAI\n",
            "1/1 [==============================] - 0s 459ms/step\n",
            "Bot-ol :  Halo! Saya Bot-ol, salam kenal ya! Mau tau tentang jadwal kuliah, kan?\n"
          ]
        },
        {
          "output_type": "display_data",
          "data": {
            "text/plain": [
              "<IPython.lib.display.Audio object>"
            ],
            "text/html": [
              "\n",
              "                <audio  controls=\"controls\" autoplay=\"autoplay\">\n",
              "                    <source src=\"data:audio/x-wav;base64,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\" type=\"audio/x-wav\" />\n",
              "                    Your browser does not support the audio element.\n",
              "                </audio>\n",
              "              "
            ]
          },
          "metadata": {}
        },
        {
          "output_type": "stream",
          "name": "stdout",
          "text": [
            "============================================================\n",
            "\n",
            "Kamu : bye\n",
            "1/1 [==============================] - 0s 22ms/step\n",
            "Bot-ol :  Dahh, semoga harimu menyenangkan yaa!\n"
          ]
        },
        {
          "output_type": "display_data",
          "data": {
            "text/plain": [
              "<IPython.lib.display.Audio object>"
            ],
            "text/html": [
              "\n",
              "                <audio  controls=\"controls\" autoplay=\"autoplay\">\n",
              "                    <source src=\"data:audio/x-wav;base64,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\" type=\"audio/x-wav\" />\n",
              "                    Your browser does not support the audio element.\n",
              "                </audio>\n",
              "              "
            ]
          },
          "metadata": {}
        },
        {
          "output_type": "stream",
          "name": "stdout",
          "text": [
            "============================================================\n",
            "\n"
          ]
        }
      ],
      "source": [
        "# Membuat Input Chat\n",
        "while True:\n",
        "  texts_p = []\n",
        "  prediction_input = input('Kamu : ')\n",
        "  \n",
        "  # Menghapus punktuasi dan konversi ke huruf kecil\n",
        "  prediction_input = [letters.lower() for letters in prediction_input if letters not in string.punctuation]\n",
        "  prediction_input = ''.join(prediction_input)\n",
        "  texts_p.append(prediction_input)\n",
        "\n",
        "  # Tokenisasi dan Padding\n",
        "  prediction_input = tokenizer.texts_to_sequences(texts_p)\n",
        "  prediction_input = np.array(prediction_input).reshape(-1)\n",
        "  prediction_input = pad_sequences([prediction_input],input_shape)\n",
        "\n",
        "  # Mendapatkan hasil keluaran pada model \n",
        "  output = model.predict(prediction_input)\n",
        "  output = output.argmax()\n",
        "\n",
        "  # Menemukan respon sesuai data tag dan memainkan voice bot\n",
        "  response_tag = le.inverse_transform([output])[0]\n",
        "  kata = random.choice(responses[response_tag])\n",
        "  print(\"Bot-ol : \", kata)\n",
        "  tts = gTTS(kata, lang='id')\n",
        "  tts.save('/content/drive/MyDrive/Chatbot/Model3/Bot-ol.wav')\n",
        "  time.sleep(0.08)\n",
        "  ipd.display(ipd.Audio('/content/drive/MyDrive/Chatbot/Model3/Bot-ol.wav', autoplay=True))\n",
        "  print(\"=\"*60 + \"\\n\")\n",
        "  if response_tag == \"goodbye\":\n",
        "    break"
      ]
    }
  ],
  "metadata": {
    "colab": {
      "provenance": []
    },
    "kernelspec": {
      "display_name": "Python 3",
      "name": "python3"
    },
    "language_info": {
      "name": "python"
    }
  },
  "nbformat": 4,
  "nbformat_minor": 0
}
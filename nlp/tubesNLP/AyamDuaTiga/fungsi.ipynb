{
 "cells": [
  {
   "cell_type": "code",
   "execution_count": 1,
   "metadata": {},
   "outputs": [],
   "source": [
    "import speech_recognition as sr\n",
    "import pyaudio "
   ]
  },
  {
   "cell_type": "code",
   "execution_count": 6,
   "metadata": {},
   "outputs": [
    {
     "name": "stdout",
     "output_type": "stream",
     "text": [
      "silakan bicara\n",
      "waktu habis\n",
      "result2:\n",
      "{   'alternative': [   {   'confidence': 0.91895199,\n",
      "                           'transcript': 'Kamu lagi apa Aku lagi apa kamu di '\n",
      "                                         'mana Aku di mana'},\n",
      "                       {   'transcript': 'Kamu lagi apa Aku lagi apa kamu di '\n",
      "                                         'mana Aku dimana'},\n",
      "                       {   'transcript': 'Kamu lagi apa Aku lagi apa Kamu '\n",
      "                                         'dimana Aku di mana'}],\n",
      "    'final': True}\n",
      "Kamu lagi apa Aku lagi apa kamu di mana Aku di mana\n"
     ]
    }
   ],
   "source": [
    "engine = sr.Recognizer()\n",
    "mic = sr.Microphone()\n",
    "hasil = \"\"\n",
    "\n",
    "with mic as source:\n",
    "    print(\"silakan bicara\")\n",
    "    rekaman = engine.listen(source)\n",
    "    print(\"waktu habis\")\n",
    "    \n",
    "    try:\n",
    "        hasil = engine.recognize_google(rekaman,language='id-ID')\n",
    "        print(hasil)\n",
    "    except engine.UnknownValueEror:\n",
    "        print(\"maaf tidak bisa dideteksi, mohon ulangi lagi\")\n",
    "    except Exception as e:\n",
    "        print(e)"
   ]
  },
  {
   "cell_type": "code",
   "execution_count": null,
   "metadata": {},
   "outputs": [],
   "source": []
  },
  {
   "cell_type": "code",
   "execution_count": null,
   "metadata": {},
   "outputs": [],
   "source": []
  },
  {
   "cell_type": "code",
   "execution_count": null,
   "metadata": {},
   "outputs": [],
   "source": []
  }
 ],
 "metadata": {
  "kernelspec": {
   "display_name": "base",
   "language": "python",
   "name": "python3"
  },
  "language_info": {
   "codemirror_mode": {
    "name": "ipython",
    "version": 3
   },
   "file_extension": ".py",
   "mimetype": "text/x-python",
   "name": "python",
   "nbconvert_exporter": "python",
   "pygments_lexer": "ipython3",
   "version": "3.9.13"
  },
  "orig_nbformat": 4,
  "vscode": {
   "interpreter": {
    "hash": "88279d2366fe020547cde40dd65aa0e3aa662a6ec1f3ca12d88834876c85e1a6"
   }
  }
 },
 "nbformat": 4,
 "nbformat_minor": 2
}

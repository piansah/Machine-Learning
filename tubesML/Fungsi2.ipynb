{
  "cells": [
    {
      "cell_type": "code",
      "execution_count": null,
      "metadata": {
        "id": "_5iXtKQGDjTu"
      },
      "outputs": [],
      "source": [
        "import zipfile, os\n",
        "local_zip = '/content/drive/MyDrive/Doggy.zip'\n",
        "zip_ref = zipfile.ZipFile(local_zip, 'r')\n",
        "zip_ref.extractall()\n",
        "zip_ref.close()"
      ]
    },
    {
      "cell_type": "code",
      "execution_count": null,
      "metadata": {
        "colab": {
          "base_uri": "https://localhost:8080/"
        },
        "id": "TiegvpJ3DrGa",
        "outputId": "af239e1e-be92-4095-ec33-9d11f7b78737"
      },
      "outputs": [
        {
          "name": "stdout",
          "output_type": "stream",
          "text": [
            "Jumlah Data Train Tiap Kelas\n",
            "Jumlah gambar golden retriever : 167\n",
            "Jumlah gambar poodle           : 242\n",
            "Jumlah gambar samoyed          : 185\n",
            "Jumlah gambar shih             : 200\n",
            "Jumlah gambar siberian         : 152\n"
          ]
        }
      ],
      "source": [
        "print(\"Jumlah Data Train Tiap Kelas\")\n",
        "print('Jumlah gambar golden retriever :', len(os.listdir('/content/Doggy/Golden Retriever dog')))\n",
        "print('Jumlah gambar poodle           :', len(os.listdir('/content/Doggy/Poodle dog')))\n",
        "print('Jumlah gambar samoyed          :', len(os.listdir('/content/Doggy/Samoyed dog')))\n",
        "print('Jumlah gambar shih             :', len(os.listdir('/content/Doggy/Shih tzu dog')))\n",
        "print('Jumlah gambar siberian         :', len(os.listdir('/content/Doggy/Siberian Husky dog')))"
      ]
    },
    {
      "cell_type": "code",
      "execution_count": null,
      "metadata": {
        "id": "gGB8RCQgD5r5"
      },
      "outputs": [],
      "source": [
        "os.mkdir('/tmp/s/')\n",
        "os.mkdir('/tmp/s/train/')\n",
        "os.mkdir('/tmp/s/val/')\n",
        "os.mkdir('/tmp/s/train/golden/')\n",
        "os.mkdir('/tmp/s/val/golden/')\n",
        "os.mkdir('/tmp/s/train/poodle/')\n",
        "os.mkdir('/tmp/s/val/poodle/')\n",
        "os.mkdir('/tmp/s/train/samoyed/')\n",
        "os.mkdir('/tmp/s/val/samoyed/')\n",
        "os.mkdir('/tmp/s/train/shih/')\n",
        "os.mkdir('/tmp/s/val/shih/')\n",
        "os.mkdir('/tmp/s/train/siberian/')\n",
        "os.mkdir('/tmp/s/val/siberian/')"
      ]
    },
    {
      "cell_type": "code",
      "execution_count": null,
      "metadata": {
        "id": "ODJySyKID71N"
      },
      "outputs": [],
      "source": [
        "import random\n",
        "from shutil import copyfile\n",
        "\n",
        "def train_val_split(source, train, val, train_ratio):\n",
        "  total_size = len(os.listdir(source))\n",
        "  train_size = int(train_ratio * total_size)\n",
        "  val_size = total_size - train_size\n",
        "\n",
        "  randomized = random.sample(os.listdir(source), total_size)\n",
        "  train_files = randomized[0:train_size]\n",
        "  val_files = randomized[train_size:total_size]\n",
        "\n",
        "  for i in train_files:\n",
        "    i_file = source + i\n",
        "    destination = train + i\n",
        "    copyfile(i_file, destination)\n",
        "\n",
        "  for i in val_files:\n",
        "    i_file = source + i\n",
        "    destination = val + i\n",
        "    copyfile(i_file, destination)\n",
        "\n",
        "train_ratio = 0.8\n",
        "\n",
        "#Pembagian Training dan Validasi\n",
        "\n",
        "source_00 = '/content/Doggy/Golden Retriever dog/'\n",
        "train_00 = '/tmp/s/train/golden/'\n",
        "val_00 = '/tmp/s/val/golden/'\n",
        "train_val_split(source_00, train_00, val_00, train_ratio)\n",
        "\n",
        "source_01 = '/content/Doggy/Poodle dog/'\n",
        "train_01 = '/tmp/s/train/poodle/'\n",
        "val_01 = '/tmp/s/val/poodle/'\n",
        "train_val_split(source_01, train_01, val_01, train_ratio)\n",
        "\n",
        "source_02 = '/content/Doggy/Samoyed dog/'\n",
        "train_02 = '/tmp/s/train/samoyed/'\n",
        "val_02 = '/tmp/s/val/samoyed/'\n",
        "train_val_split(source_02, train_02, val_02, train_ratio)\n",
        "\n",
        "source_01 = '/content/Doggy/Shih tzu dog/'\n",
        "train_01 = '/tmp/s/train/shih/'\n",
        "val_01 = '/tmp/s/val/shih/'\n",
        "train_val_split(source_01, train_01, val_01, train_ratio)\n",
        "\n",
        "source_02 = '/content/Doggy/Siberian Husky dog/'\n",
        "train_02 = '/tmp/s/train/siberian/'\n",
        "val_02 = '/tmp/s/val/siberian/'\n",
        "train_val_split(source_02, train_02, val_02, train_ratio)"
      ]
    },
    {
      "cell_type": "code",
      "execution_count": null,
      "metadata": {
        "colab": {
          "base_uri": "https://localhost:8080/"
        },
        "id": "HeQbEUwmD_Yk",
        "outputId": "93f15441-488d-483f-c533-58815e08b29d"
      },
      "outputs": [
        {
          "name": "stdout",
          "output_type": "stream",
          "text": [
            "Jumlah All golden     : 167\n",
            "Jumlah Train golden   : 133\n",
            "Jumlah Val golden     : 34\n"
          ]
        }
      ],
      "source": [
        "\n",
        "print('Jumlah All golden     :', len(os.listdir('/content/Doggy/Golden Retriever dog/')))\n",
        "print('Jumlah Train golden   :', len(os.listdir('/tmp/s/train/golden')))\n",
        "print('Jumlah Val golden     :', len(os.listdir('/tmp/s/val/golden')))"
      ]
    },
    {
      "cell_type": "code",
      "execution_count": null,
      "metadata": {
        "id": "D85d0BECEG0U"
      },
      "outputs": [],
      "source": [
        "import tensorflow as tf\n",
        "from tensorflow.keras.optimizers import Adam\n",
        "from tensorflow.keras.preprocessing.image import ImageDataGenerator"
      ]
    },
    {
      "cell_type": "code",
      "execution_count": null,
      "metadata": {
        "id": "MsNL531oEIha"
      },
      "outputs": [],
      "source": [
        "train_datagen = ImageDataGenerator(\n",
        "                  rescale = 1./255.,\n",
        "                  rotation_range = 30,\n",
        "                  horizontal_flip = True,\n",
        "                  shear_range = 0.3,\n",
        "                  fill_mode = 'nearest',\n",
        "                  width_shift_range = 0.2,\n",
        "                  height_shift_range = 0.2,\n",
        "                  zoom_range = 0.1\n",
        ")\n",
        "\n",
        "val_datagen = ImageDataGenerator(\n",
        "                rescale = 1./255.,\n",
        "                rotation_range = 30,\n",
        "                horizontal_flip = True,\n",
        "                shear_range = 0.3,\n",
        "                fill_mode = 'nearest',\n",
        "                width_shift_range = 0.2,\n",
        "                height_shift_range = 0.2,\n",
        "                zoom_range = 0.1\n",
        ")\n",
        "     "
      ]
    },
    {
      "cell_type": "code",
      "execution_count": null,
      "metadata": {
        "colab": {
          "base_uri": "https://localhost:8080/"
        },
        "id": "VWVQ_eVlEKUB",
        "outputId": "aa9b05f5-0c24-4841-c815-937c16bbe40f"
      },
      "outputs": [
        {
          "name": "stdout",
          "output_type": "stream",
          "text": [
            "Found 755 images belonging to 5 classes.\n",
            "Found 191 images belonging to 5 classes.\n"
          ]
        }
      ],
      "source": [
        "train_dir = '/tmp/s/train/'\n",
        "train_generator = train_datagen.flow_from_directory(\n",
        "    train_dir,\n",
        "    target_size = (200, 200),\n",
        "    batch_size = 3,\n",
        "    class_mode = 'categorical'\n",
        ")\n",
        "\n",
        "val_dir = '/tmp/s/val/'\n",
        "val_generator = val_datagen.flow_from_directory(\n",
        "    val_dir,\n",
        "    target_size = (200, 200),\n",
        "    batch_size = 3,\n",
        "    class_mode = 'categorical'\n",
        ")"
      ]
    },
    {
      "cell_type": "code",
      "execution_count": null,
      "metadata": {
        "id": "d0nS-yASEONQ"
      },
      "outputs": [],
      "source": [
        "# callbacks\n",
        "class myCallback(tf.keras.callbacks.Callback):\n",
        "  def on_epoch_end(self, epoch, logs = {}):\n",
        "    if(logs.get('accuracy') > 0.99):\n",
        "      print('\\nAkurasi mencapai 99%')\n",
        "      self.model.stop_training = True\n",
        "\n",
        "callbacks = myCallback()"
      ]
    },
    {
      "cell_type": "code",
      "execution_count": null,
      "metadata": {
        "id": "tMwGspeXEPg4"
      },
      "outputs": [],
      "source": [
        "model = tf.keras.models.Sequential([\n",
        "          tf.keras.layers.Conv2D(8, (3, 3), activation = 'relu', input_shape = (200, 200, 3)),\n",
        "          tf.keras.layers.MaxPooling2D(2, 2),\n",
        "          tf.keras.layers.Conv2D(16, (3, 3), activation = 'relu'),\n",
        "          tf.keras.layers.MaxPooling2D(2, 2),\n",
        "          tf.keras.layers.Conv2D(32, (3, 3), activation = 'relu'),\n",
        "          tf.keras.layers.MaxPooling2D(2, 2),\n",
        "          tf.keras.layers.Flatten(),\n",
        "          tf.keras.layers.Dense(500, activation = 'relu'),         \n",
        "          tf.keras.layers.Dense(5, activation = 'softmax')\n",
        "])"
      ]
    },
    {
      "cell_type": "code",
      "execution_count": null,
      "metadata": {
        "colab": {
          "base_uri": "https://localhost:8080/"
        },
        "id": "pGSsMZOOER_q",
        "outputId": "9e6b0ab3-f35b-46a1-8d1f-44c99f8536bd"
      },
      "outputs": [
        {
          "name": "stdout",
          "output_type": "stream",
          "text": [
            "Model: \"sequential_7\"\n",
            "_________________________________________________________________\n",
            " Layer (type)                Output Shape              Param #   \n",
            "=================================================================\n",
            " conv2d_28 (Conv2D)          (None, 198, 198, 8)       224       \n",
            "                                                                 \n",
            " max_pooling2d_21 (MaxPoolin  (None, 99, 99, 8)        0         \n",
            " g2D)                                                            \n",
            "                                                                 \n",
            " conv2d_29 (Conv2D)          (None, 97, 97, 16)        1168      \n",
            "                                                                 \n",
            " max_pooling2d_22 (MaxPoolin  (None, 48, 48, 16)       0         \n",
            " g2D)                                                            \n",
            "                                                                 \n",
            " conv2d_30 (Conv2D)          (None, 46, 46, 32)        4640      \n",
            "                                                                 \n",
            " max_pooling2d_23 (MaxPoolin  (None, 23, 23, 32)       0         \n",
            " g2D)                                                            \n",
            "                                                                 \n",
            " conv2d_31 (Conv2D)          (None, 21, 21, 64)        18496     \n",
            "                                                                 \n",
            " flatten_7 (Flatten)         (None, 28224)             0         \n",
            "                                                                 \n",
            " dense_21 (Dense)            (None, 500)               14112500  \n",
            "                                                                 \n",
            " dropout_12 (Dropout)        (None, 500)               0         \n",
            "                                                                 \n",
            " dense_22 (Dense)            (None, 200)               100200    \n",
            "                                                                 \n",
            " dropout_13 (Dropout)        (None, 200)               0         \n",
            "                                                                 \n",
            " dense_23 (Dense)            (None, 5)                 1005      \n",
            "                                                                 \n",
            "=================================================================\n",
            "Total params: 14,238,233\n",
            "Trainable params: 14,238,233\n",
            "Non-trainable params: 0\n",
            "_________________________________________________________________\n"
          ]
        }
      ],
      "source": [
        "model.summary()"
      ]
    },
    {
      "cell_type": "code",
      "execution_count": null,
      "metadata": {
        "id": "Lexptu5JEUZh"
      },
      "outputs": [],
      "source": [
        "model.compile(loss = 'categorical_crossentropy',\n",
        "              optimizer = 'Adam',\n",
        "              metrics = ['accuracy'])"
      ]
    },
    {
      "cell_type": "code",
      "execution_count": null,
      "metadata": {
        "colab": {
          "background_save": true,
          "base_uri": "https://localhost:8080/"
        },
        "id": "q6niAIDKEV2J",
        "outputId": "17dc64f7-7492-420b-a219-80ba5ac58a73"
      },
      "outputs": [
        {
          "name": "stdout",
          "output_type": "stream",
          "text": [
            "Epoch 1/25\n",
            "20/20 [==============================] - 4s 166ms/step - loss: 2.3026 - accuracy: 0.1667 - val_loss: 2.0492 - val_accuracy: 0.2000\n",
            "Epoch 2/25\n",
            "20/20 [==============================] - 3s 160ms/step - loss: 1.6956 - accuracy: 0.3167 - val_loss: 1.6065 - val_accuracy: 0.2667\n",
            "Epoch 3/25\n",
            "20/20 [==============================] - 3s 167ms/step - loss: 1.6127 - accuracy: 0.2000 - val_loss: 1.5730 - val_accuracy: 0.4000\n",
            "Epoch 4/25\n",
            "20/20 [==============================] - 3s 148ms/step - loss: 1.6109 - accuracy: 0.2333 - val_loss: 1.5698 - val_accuracy: 0.4667\n",
            "Epoch 5/25\n",
            "20/20 [==============================] - 3s 145ms/step - loss: 1.6207 - accuracy: 0.2667 - val_loss: 1.5852 - val_accuracy: 0.2667\n",
            "Epoch 6/25\n",
            "20/20 [==============================] - 3s 160ms/step - loss: 1.5908 - accuracy: 0.3167 - val_loss: 1.6119 - val_accuracy: 0.2667\n",
            "Epoch 7/25\n",
            "20/20 [==============================] - 3s 133ms/step - loss: 1.5390 - accuracy: 0.3333 - val_loss: 1.8154 - val_accuracy: 0.2000\n",
            "Epoch 8/25\n",
            "20/20 [==============================] - 4s 178ms/step - loss: 1.5915 - accuracy: 0.2373 - val_loss: 1.5871 - val_accuracy: 0.2667\n",
            "Epoch 9/25\n",
            "20/20 [==============================] - 3s 140ms/step - loss: 1.5566 - accuracy: 0.3220 - val_loss: 1.7069 - val_accuracy: 0.2667\n",
            "Epoch 10/25\n",
            "20/20 [==============================] - 3s 151ms/step - loss: 1.5502 - accuracy: 0.2500 - val_loss: 1.8949 - val_accuracy: 0.1333\n",
            "Epoch 11/25\n",
            "20/20 [==============================] - 3s 144ms/step - loss: 1.5232 - accuracy: 0.2881 - val_loss: 1.6155 - val_accuracy: 0.1333\n",
            "Epoch 12/25\n",
            "20/20 [==============================] - 3s 169ms/step - loss: 1.5795 - accuracy: 0.1667 - val_loss: 1.6126 - val_accuracy: 0.3333\n",
            "Epoch 13/25\n",
            "20/20 [==============================] - 3s 147ms/step - loss: 1.5971 - accuracy: 0.1833 - val_loss: 1.5882 - val_accuracy: 0.2667\n",
            "Epoch 14/25\n",
            "20/20 [==============================] - 3s 162ms/step - loss: 1.5701 - accuracy: 0.3333 - val_loss: 1.5390 - val_accuracy: 0.2667\n",
            "Epoch 15/25\n",
            "20/20 [==============================] - 3s 143ms/step - loss: 1.5091 - accuracy: 0.2667 - val_loss: 1.9608 - val_accuracy: 0.0667\n",
            "Epoch 16/25\n",
            "20/20 [==============================] - 3s 158ms/step - loss: 1.6169 - accuracy: 0.2667 - val_loss: 1.6355 - val_accuracy: 0.2667\n",
            "Epoch 17/25\n",
            "20/20 [==============================] - 3s 163ms/step - loss: 1.5841 - accuracy: 0.3000 - val_loss: 1.5787 - val_accuracy: 0.1333\n",
            "Epoch 18/25\n",
            "20/20 [==============================] - 3s 163ms/step - loss: 1.5170 - accuracy: 0.2333 - val_loss: 1.6863 - val_accuracy: 0.0667\n",
            "Epoch 19/25\n",
            "20/20 [==============================] - 3s 161ms/step - loss: 1.4980 - accuracy: 0.3167 - val_loss: 1.7014 - val_accuracy: 0.0000e+00\n",
            "Epoch 20/25\n",
            "20/20 [==============================] - 3s 136ms/step - loss: 1.5720 - accuracy: 0.1333 - val_loss: 1.5883 - val_accuracy: 0.2000\n",
            "Epoch 21/25\n",
            "20/20 [==============================] - 3s 167ms/step - loss: 1.5535 - accuracy: 0.2373 - val_loss: 1.3941 - val_accuracy: 0.4000\n",
            "Epoch 22/25\n",
            "20/20 [==============================] - 3s 144ms/step - loss: 1.5979 - accuracy: 0.2833 - val_loss: 1.6178 - val_accuracy: 0.0667\n",
            "Epoch 23/25\n",
            "20/20 [==============================] - 3s 167ms/step - loss: 1.6160 - accuracy: 0.2500 - val_loss: 1.5859 - val_accuracy: 0.2000\n",
            "Epoch 24/25\n",
            "20/20 [==============================] - 4s 174ms/step - loss: 1.5864 - accuracy: 0.2373 - val_loss: 1.5917 - val_accuracy: 0.2667\n",
            "Epoch 25/25\n",
            "20/20 [==============================] - 3s 139ms/step - loss: 1.4740 - accuracy: 0.2833 - val_loss: 1.6578 - val_accuracy: 0.3333\n"
          ]
        }
      ],
      "source": [
        "history = model.fit(\n",
        "            train_generator,\n",
        "            steps_per_epoch = 20,\n",
        "            epochs = 25,\n",
        "            validation_data = val_generator,\n",
        "            validation_steps = 5,\n",
        "            verbose = 1,\n",
        "            callbacks = [callbacks]\n",
        ")"
      ]
    },
    {
      "cell_type": "code",
      "execution_count": null,
      "metadata": {
        "id": "6MP6oQmyFkJo"
      },
      "outputs": [],
      "source": [
        "%matplotlib inline\n",
        "\n",
        "import matplotlib.image  as mpimg\n",
        "import matplotlib.pyplot as plt\n",
        "\n",
        "\n",
        "acc = history.history['accuracy']\n",
        "val_acc = history.history['val_accuracy']\n",
        "loss = history.history['loss']\n",
        "val_loss = history.history['val_loss']\n",
        "\n",
        "epochs = range(len(acc))\n",
        "\n",
        "plt.plot(epochs, acc, 'r', label = 'Training Accuracy')\n",
        "plt.plot(epochs, val_acc, 'b', label = 'Validation Accuracy')\n",
        "plt.title('Training and Validation accuracy')\n",
        "plt.legend(loc = 'best')\n",
        "plt.show()\n",
        "\n",
        "plt.plot(epochs, loss, 'r', label = 'Training Loss')\n",
        "plt.plot(epochs, val_loss, 'b', label = 'Validation Loss')\n",
        "plt.title('Training and Validation accuracy')\n",
        "plt.legend(loc = 'best')\n",
        "plt.show()"
      ]
    },
    {
      "cell_type": "code",
      "execution_count": null,
      "metadata": {
        "id": "DjaTEdWTFm4q"
      },
      "outputs": [],
      "source": [
        "import numpy as np\n",
        "from keras.preprocessing import image\n",
        "from google.colab import files\n",
        "\n",
        "uploaded = files.upload()\n",
        "\n",
        "for fn in uploaded.keys():\n",
        "\n",
        "  # predicting images\n",
        "  path = fn\n",
        "  img = tf.keras.utils.load_img(path, target_size = (150, 150))\n",
        "  imgplot = plt.imshow(img)\n",
        "  x = tf.keras.utils.img_to_array(img)\n",
        "  x = np.expand_dims(x, axis = 0)\n",
        "\n",
        "  images = np.vstack([x])\n",
        "  classes = model.predict(images, batch_size = 100)\n",
        "\n",
        "  print(fn)\n",
        "\n",
        "  class_list = os.listdir('/content/Doggy/')\n",
        "  \n",
        "  for j in range(42):\n",
        "    if classes[0].any() :\n",
        "      print('This image belongs to class', class_list[0])\n",
        "      break"
      ]
    },
    {
      "cell_type": "code",
      "execution_count": null,
      "metadata": {
        "id": "3C46tTm6GGCK"
      },
      "outputs": [],
      "source": [
        "import numpy as np\n",
        "from keras.preprocessing import image\n",
        "from google.colab import files\n",
        "\n",
        "uploaded = files.upload()\n",
        "\n",
        "for fn in uploaded.keys():\n",
        "\n",
        "  # predicting images\n",
        "  path = fn\n",
        "  img = tf.keras.utils.load_img(path, target_size = (150, 150))\n",
        "  imgplot = plt.imshow(img)\n",
        "  x = tf.keras.utils.img_to_array(img)\n",
        "  x = np.expand_dims(x, axis = 0)\n",
        "\n",
        "  images = np.vstack([x])\n",
        "  classes = model.predict(images, batch_size = 100)\n",
        "\n",
        "  print(fn)\n",
        "\n",
        "  class_list = os.listdir('/content/Doggy/')\n",
        "  \n",
        "  for j in range(42):\n",
        "    if classes[0].any() :\n",
        "      print('This image belongs to class', class_list[0])\n",
        "      break"
      ]
    },
    {
      "cell_type": "code",
      "execution_count": null,
      "metadata": {
        "id": "-viObIOSIWBj"
      },
      "outputs": [],
      "source": [
        "from google.colab import drive\n",
        "drive.mount('/content/drive')"
      ]
    }
  ],
  "metadata": {
    "colab": {
      "provenance": []
    },
    "kernelspec": {
      "display_name": "Python 3",
      "name": "python3"
    },
    "language_info": {
      "name": "python"
    }
  },
  "nbformat": 4,
  "nbformat_minor": 0
}
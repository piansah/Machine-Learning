{
  "cells": [
    {
      "cell_type": "markdown",
      "metadata": {
        "id": "jOC_PY4XUg3H"
      },
      "source": [
        "Auto Encoder\n",
        "1. Encoder , macam zip > biasanya pake CNN karena mengerucutkan\n",
        "2. Decoder, ini unzipnya > pake anti-CNN \n",
        "\n",
        "Kompresi\n",
        "lossless > datanya gada yg ilang\n",
        "lossy > ada yg ilang \n"
      ]
    },
    {
      "cell_type": "code",
      "execution_count": 56,
      "metadata": {
        "id": "UI9Yx8dpUNF8"
      },
      "outputs": [],
      "source": [
        "#siapin wajah orang\n",
        "#kompres ke data array yg lebih kecil\n",
        "#dekompres\n",
        "#kalo loss mendekati 0, baik"
      ]
    },
    {
      "cell_type": "code",
      "source": [
        "#!unzip /content/bulet_ae.zip\n",
        "#!unzip /content/kotak_ae.zip"
      ],
      "metadata": {
        "id": "q7eSb6-Qlf-o"
      },
      "execution_count": 57,
      "outputs": []
    },
    {
      "cell_type": "code",
      "execution_count": 58,
      "metadata": {
        "id": "0WeOyxfcXI3u"
      },
      "outputs": [],
      "source": [
        "bulet = []\n",
        "kotak = []\n",
        "\n",
        "import glob, cv2\n",
        "\n",
        "for namafile in glob.glob('/content/bulet/*'):\n",
        "  bulet.append(\n",
        "      cv2.imread(namafile)/225\n",
        "  )\n",
        "for namafile in glob.glob('/content/kotak/*'):\n",
        "  kotak.append(\n",
        "      cv2.imread(namafile)/225\n",
        "  )"
      ]
    },
    {
      "cell_type": "code",
      "execution_count": 59,
      "metadata": {
        "id": "6SfkNiVyZzLe"
      },
      "outputs": [],
      "source": [
        "import numpy as np\n",
        "\n",
        "bulet = np.asarray(bulet).astype(float)\n",
        "kotak = np.asarray(kotak).astype(float)"
      ]
    },
    {
      "cell_type": "code",
      "execution_count": 60,
      "metadata": {
        "colab": {
          "base_uri": "https://localhost:8080/",
          "height": 300
        },
        "id": "x5fpWaSZaTR6",
        "outputId": "44abf26c-3b54-49f5-a754-108bfe9d4029"
      },
      "outputs": [
        {
          "output_type": "stream",
          "name": "stderr",
          "text": [
            "WARNING:matplotlib.image:Clipping input data to the valid range for imshow with RGB data ([0..1] for floats or [0..255] for integers).\n"
          ]
        },
        {
          "output_type": "execute_result",
          "data": {
            "text/plain": [
              "<matplotlib.image.AxesImage at 0x7f303a677820>"
            ]
          },
          "metadata": {},
          "execution_count": 60
        },
        {
          "output_type": "display_data",
          "data": {
            "text/plain": [
              "<Figure size 432x288 with 1 Axes>"
            ],
            "image/png": "[encoded data removed]"
          },
          "metadata": {
            "needs_background": "light"
          }
        }
      ],
      "source": [
        "import matplotlib.pyplot as plt\n",
        "\n",
        "plt.imshow(bulet[0])"
      ]
    },
    {
      "cell_type": "code",
      "execution_count": 61,
      "metadata": {
        "colab": {
          "base_uri": "https://localhost:8080/",
          "height": 300
        },
        "id": "cZn8auAiajO2",
        "outputId": "2521974d-a032-4cf9-df02-2c944f7f2dcb"
      },
      "outputs": [
        {
          "output_type": "stream",
          "name": "stderr",
          "text": [
            "WARNING:matplotlib.image:Clipping input data to the valid range for imshow with RGB data ([0..1] for floats or [0..255] for integers).\n"
          ]
        },
        {
          "output_type": "execute_result",
          "data": {
            "text/plain": [
              "<matplotlib.image.AxesImage at 0x7f303a526580>"
            ]
          },
          "metadata": {},
          "execution_count": 61
        },
        {
          "output_type": "display_data",
          "data": {
            "text/plain": [
              "<Figure size 432x288 with 1 Axes>"
            ],
            "image/png": "[encoded data removed]"
          },
          "metadata": {
            "needs_background": "light"
          }
        }
      ],
      "source": [
        "plt.imshow(kotak[0])"
      ]
    },
    {
      "cell_type": "code",
      "execution_count": 61,
      "metadata": {
        "id": "1EsL3mU9bRqz"
      },
      "outputs": [],
      "source": []
    },
    {
      "cell_type": "code",
      "source": [
        "from keras.layers.convolutional.conv2d_transpose import Conv2DTranspose, Conv2D\n",
        "from keras.layers.serialization import activation\n",
        "from keras.layers import Reshape, Flatten, Dense\n",
        "from keras.models import Sequential\n",
        "\n",
        "size = 16\n",
        "latent = size*2\n",
        "encoder = Sequential()\n",
        "encoder.add(Conv2D(8,(3,3), input_shape=kotak.shape[1:], padding='same', strides=2, activation='relu'))\n",
        "encoder.add(Conv2D(16,(3,3), padding='same', strides=2, activation='relu'))\n",
        "\n",
        "decoder_1 = Sequential()\n",
        "decoder_1.add(Conv2DTranspose(16,(3,3), padding='same', strides=2, activation='relu'))\n",
        "decoder_1.add(Conv2DTranspose(8, (3,3), padding='same', strides=2, activation='relu'))\n",
        "decoder_1.add(Conv2D(3, (3,3), padding='same', activation='sigmoid'))\n",
        "\n",
        "decoder_2 = Sequential()\n",
        "decoder_2.add(Conv2DTranspose(16,(3,3), padding='same', strides=2, activation='relu'))\n",
        "decoder_2.add(Conv2DTranspose(8, (3,3), padding='same', strides=2, activation='relu'))\n",
        "decoder_2.add(Conv2D(3, (3,3), padding='same', activation='sigmoid'))"
      ],
      "metadata": {
        "id": "KpYnsRGvhfXY"
      },
      "execution_count": 62,
      "outputs": []
    },
    {
      "cell_type": "code",
      "execution_count": 63,
      "metadata": {
        "id": "JsKaEZcoeT8h"
      },
      "outputs": [],
      "source": [
        "from keras.models import Model\n",
        "#AutoEncoder 1\n",
        "class AE1(Model):\n",
        "  def __init__(self):\n",
        "    super(AE1, self).__init__()\n",
        "    self.encoder = encoder\n",
        "    self.decoder_1 = decoder_1\n",
        "  def call(self,x):\n",
        "    _ = self.encoder(x)\n",
        "    _ = self.decoder_1(_)\n",
        "    return _"
      ]
    },
    {
      "cell_type": "code",
      "execution_count": 64,
      "metadata": {
        "colab": {
          "base_uri": "https://localhost:8080/"
        },
        "id": "kCStwp0Bfxkk",
        "outputId": "7477e4fb-cf12-4e5f-e291-6e229f3fc486"
      },
      "outputs": [
        {
          "output_type": "stream",
          "name": "stdout",
          "text": [
            "1/1 [==============================] - 0s 125ms/step\n"
          ]
        },
        {
          "output_type": "execute_result",
          "data": {
            "text/plain": [
              "array([[[[0.5       , 0.5       , 0.5       ],\n",
              "         [0.5       , 0.5       , 0.5       ],\n",
              "         [0.5       , 0.5       , 0.5       ],\n",
              "         [0.5       , 0.5       , 0.5       ],\n",
              "         [0.5       , 0.5       , 0.5       ],\n",
              "         [0.5       , 0.5       , 0.5       ],\n",
              "         [0.5       , 0.5       , 0.5       ],\n",
              "         [0.49971035, 0.50072175, 0.50010747],\n",
              "         [0.50023884, 0.50044847, 0.49995586],\n",
              "         [0.50109535, 0.5003896 , 0.49965194],\n",
              "         [0.5005263 , 0.4995287 , 0.49999264],\n",
              "         [0.49993053, 0.50093424, 0.4997268 ],\n",
              "         [0.5004524 , 0.5010176 , 0.4989136 ],\n",
              "         [0.5008847 , 0.50171745, 0.49966124],\n",
              "         [0.5009457 , 0.49898243, 0.5000637 ],\n",
              "         [0.50089043, 0.49921152, 0.49907827]],\n",
              "\n",
              "        [[0.5       , 0.5       , 0.5       ],\n",
              "         [0.5       , 0.5       , 0.5       ],\n",
              "         [0.5       , 0.5       , 0.5       ],\n",
              "         [0.5       , 0.5       , 0.5       ],\n",
              "         [0.5       , 0.5       , 0.5       ],\n",
              "         [0.5       , 0.5       , 0.5       ],\n",
              "         [0.5       , 0.5       , 0.5       ],\n",
              "         [0.49951103, 0.5001575 , 0.5002842 ],\n",
              "         [0.4995661 , 0.500823  , 0.49984106],\n",
              "         [0.50129   , 0.5012539 , 0.4999448 ],\n",
              "         [0.5017493 , 0.50062907, 0.4993003 ],\n",
              "         [0.5009366 , 0.5007453 , 0.500223  ],\n",
              "         [0.5005678 , 0.5006816 , 0.50108397],\n",
              "         [0.5010602 , 0.50014824, 0.49912113],\n",
              "         [0.5017888 , 0.50118   , 0.4984768 ],\n",
              "         [0.50404346, 0.5009753 , 0.49928746]],\n",
              "\n",
              "        [[0.5       , 0.5       , 0.5       ],\n",
              "         [0.5       , 0.5       , 0.5       ],\n",
              "         [0.5       , 0.5       , 0.5       ],\n",
              "         [0.5       , 0.5       , 0.5       ],\n",
              "         [0.5       , 0.5       , 0.5       ],\n",
              "         [0.5       , 0.5       , 0.5       ],\n",
              "         [0.5       , 0.5       , 0.5       ],\n",
              "         [0.4997397 , 0.5005109 , 0.50033087],\n",
              "         [0.50048137, 0.5006392 , 0.49977988],\n",
              "         [0.50240177, 0.5016917 , 0.498562  ],\n",
              "         [0.5012336 , 0.5010551 , 0.49896967],\n",
              "         [0.5027987 , 0.5009965 , 0.5003145 ],\n",
              "         [0.5015448 , 0.49962083, 0.49886793],\n",
              "         [0.50357324, 0.5014057 , 0.50006753],\n",
              "         [0.50235534, 0.502115  , 0.49900684],\n",
              "         [0.50220627, 0.49994648, 0.49806315]],\n",
              "\n",
              "        [[0.5       , 0.5       , 0.5       ],\n",
              "         [0.5       , 0.5       , 0.5       ],\n",
              "         [0.5       , 0.5       , 0.5       ],\n",
              "         [0.49895057, 0.5011503 , 0.50031495],\n",
              "         [0.5002218 , 0.50176275, 0.4980986 ],\n",
              "         [0.5009918 , 0.501793  , 0.4996698 ],\n",
              "         [0.50174516, 0.5006413 , 0.49738315],\n",
              "         [0.5009114 , 0.5021851 , 0.49924162],\n",
              "         [0.5049157 , 0.50021315, 0.4995275 ],\n",
              "         [0.50261974, 0.50288355, 0.49710608],\n",
              "         [0.5025004 , 0.50198   , 0.49410182],\n",
              "         [0.50564927, 0.5011951 , 0.4989461 ],\n",
              "         [0.50527847, 0.5013039 , 0.4982346 ],\n",
              "         [0.5020128 , 0.50279325, 0.49582073],\n",
              "         [0.5043273 , 0.50220233, 0.4984676 ],\n",
              "         [0.50791174, 0.4999571 , 0.4971115 ]],\n",
              "\n",
              "        [[0.5       , 0.5       , 0.5       ],\n",
              "         [0.5       , 0.5       , 0.5       ],\n",
              "         [0.5       , 0.5       , 0.5       ],\n",
              "         [0.50019705, 0.5026083 , 0.50066805],\n",
              "         [0.5016343 , 0.5018665 , 0.49952626],\n",
              "         [0.5033048 , 0.50104517, 0.5001874 ],\n",
              "         [0.50236857, 0.4999952 , 0.49999323],\n",
              "         [0.5008729 , 0.50554067, 0.5000244 ],\n",
              "         [0.50455713, 0.50260323, 0.49697834],\n",
              "         [0.5050972 , 0.5011692 , 0.50133115],\n",
              "         [0.50605756, 0.4995422 , 0.50121176],\n",
              "         [0.50191045, 0.50540507, 0.4973741 ],\n",
              "         [0.50320107, 0.5024583 , 0.4983808 ],\n",
              "         [0.50600845, 0.501921  , 0.50289726],\n",
              "         [0.50549847, 0.4991862 , 0.49673826],\n",
              "         [0.5040028 , 0.5005352 , 0.4972516 ]],\n",
              "\n",
              "        [[0.5       , 0.5       , 0.5       ],\n",
              "         [0.5       , 0.5       , 0.5       ],\n",
              "         [0.5       , 0.5       , 0.5       ],\n",
              "         [0.49722674, 0.5001242 , 0.50148195],\n",
              "         [0.49837014, 0.5025642 , 0.4991052 ],\n",
              "         [0.50382745, 0.50424063, 0.49782854],\n",
              "         [0.506421  , 0.50434047, 0.5013525 ],\n",
              "         [0.5027934 , 0.50378186, 0.5049357 ],\n",
              "         [0.5026064 , 0.5018797 , 0.49615914],\n",
              "         [0.508934  , 0.50338244, 0.49442294],\n",
              "         [0.50796425, 0.50734556, 0.49568203],\n",
              "         [0.50819767, 0.5055215 , 0.506534  ],\n",
              "         [0.504167  , 0.5011437 , 0.49134603],\n",
              "         [0.51050866, 0.5054095 , 0.4976466 ],\n",
              "         [0.5087435 , 0.50520915, 0.49759594],\n",
              "         [0.51695514, 0.50692785, 0.4955693 ]],\n",
              "\n",
              "        [[0.5       , 0.5       , 0.5       ],\n",
              "         [0.5       , 0.5       , 0.5       ],\n",
              "         [0.5       , 0.5       , 0.5       ],\n",
              "         [0.50095415, 0.50178355, 0.501325  ],\n",
              "         [0.50352794, 0.5004724 , 0.50064427],\n",
              "         [0.50709194, 0.5055871 , 0.49954835],\n",
              "         [0.50445247, 0.50186014, 0.49471796],\n",
              "         [0.5079555 , 0.4978018 , 0.50028515],\n",
              "         [0.5062    , 0.50134945, 0.5023534 ],\n",
              "         [0.5090452 , 0.50772613, 0.4975035 ],\n",
              "         [0.5046296 , 0.50488055, 0.49266103],\n",
              "         [0.5076347 , 0.49651945, 0.49823582],\n",
              "         [0.506825  , 0.499794  , 0.50463355],\n",
              "         [0.512206  , 0.5117592 , 0.4953955 ],\n",
              "         [0.50710285, 0.51019734, 0.49093565],\n",
              "         [0.5082085 , 0.50020266, 0.49351695]],\n",
              "\n",
              "        [[0.5002112 , 0.5017566 , 0.49815336],\n",
              "         [0.5009816 , 0.50181353, 0.49969628],\n",
              "         [0.50174206, 0.50064   , 0.4973875 ],\n",
              "         [0.49933323, 0.5018014 , 0.49922356],\n",
              "         [0.50237405, 0.50284255, 0.49493006],\n",
              "         [0.50141984, 0.5034598 , 0.49856812],\n",
              "         [0.50222355, 0.49997297, 0.49117374],\n",
              "         [0.5101079 , 0.5060142 , 0.49843192],\n",
              "         [0.5012694 , 0.5091253 , 0.50066584],\n",
              "         [0.4954691 , 0.504409  , 0.49924716],\n",
              "         [0.5022207 , 0.5012419 , 0.48984584],\n",
              "         [0.517187  , 0.5080694 , 0.49224743],\n",
              "         [0.5028115 , 0.5100139 , 0.5055248 ],\n",
              "         [0.49912015, 0.505919  , 0.49441007],\n",
              "         [0.5039862 , 0.5013321 , 0.5006915 ],\n",
              "         [0.51735103, 0.5071955 , 0.48651806]],\n",
              "\n",
              "        [[0.5015828 , 0.50179744, 0.4995166 ],\n",
              "         [0.5032597 , 0.5010626 , 0.5001478 ],\n",
              "         [0.5023273 , 0.50006366, 0.49999264],\n",
              "         [0.4994706 , 0.507506  , 0.5004684 ],\n",
              "         [0.5045166 , 0.50498503, 0.49934456],\n",
              "         [0.5090926 , 0.50033873, 0.49989265],\n",
              "         [0.51148266, 0.5008153 , 0.49948063],\n",
              "         [0.5110894 , 0.5044091 , 0.4960937 ],\n",
              "         [0.50723004, 0.50221914, 0.49966952],\n",
              "         [0.5209282 , 0.5061726 , 0.50197446],\n",
              "         [0.519246  , 0.5010266 , 0.4993652 ],\n",
              "         [0.5138896 , 0.5009738 , 0.4935472 ],\n",
              "         [0.50518113, 0.49739495, 0.50118846],\n",
              "         [0.5122009 , 0.51017314, 0.5023057 ],\n",
              "         [0.5107991 , 0.50548863, 0.49582046],\n",
              "         [0.51091456, 0.5013179 , 0.49454492]],\n",
              "\n",
              "        [[0.4983324 , 0.50254846, 0.49906978],\n",
              "         [0.5038223 , 0.5042542 , 0.4977793 ],\n",
              "         [0.50647324, 0.50431985, 0.5015156 ],\n",
              "         [0.5024739 , 0.501888  , 0.5070084 ],\n",
              "         [0.5023249 , 0.50252146, 0.49549827],\n",
              "         [0.5079613 , 0.5034146 , 0.49691427],\n",
              "         [0.50485516, 0.50769734, 0.50190556],\n",
              "         [0.50572324, 0.5086786 , 0.50749606],\n",
              "         [0.5050904 , 0.5053903 , 0.49015102],\n",
              "         [0.51897323, 0.5145502 , 0.49025804],\n",
              "         [0.5071342 , 0.5119974 , 0.5083103 ],\n",
              "         [0.51396817, 0.50639725, 0.49576682],\n",
              "         [0.5099737 , 0.50117964, 0.48707348],\n",
              "         [0.52189034, 0.5163083 , 0.50086427],\n",
              "         [0.5176834 , 0.5043299 , 0.49377748],\n",
              "         [0.52279484, 0.5036388 , 0.48734757]],\n",
              "\n",
              "        [[0.50356776, 0.50050855, 0.50068027],\n",
              "         [0.50702935, 0.5054801 , 0.49959713],\n",
              "         [0.5044564 , 0.5017627 , 0.49475813],\n",
              "         [0.5081842 , 0.4970347 , 0.5001544 ],\n",
              "         [0.5071135 , 0.5019942 , 0.50248015],\n",
              "         [0.51071256, 0.5050807 , 0.4987037 ],\n",
              "         [0.5059036 , 0.50286436, 0.4923686 ],\n",
              "         [0.5084255 , 0.50271606, 0.49505687],\n",
              "         [0.5141016 , 0.5090933 , 0.49643564],\n",
              "         [0.5192454 , 0.50644463, 0.49729058],\n",
              "         [0.5121562 , 0.5014606 , 0.48940164],\n",
              "         [0.51038975, 0.5078771 , 0.49120125],\n",
              "         [0.50965506, 0.5101514 , 0.50103265],\n",
              "         [0.5166349 , 0.5065658 , 0.49033627],\n",
              "         [0.5122769 , 0.5121714 , 0.48817492],\n",
              "         [0.51308393, 0.50648314, 0.4913187 ]],\n",
              "\n",
              "        [[0.49932858, 0.5038696 , 0.49673754],\n",
              "         [0.50026065, 0.502644  , 0.501006  ],\n",
              "         [0.50173   , 0.4980253 , 0.4948427 ],\n",
              "         [0.50701684, 0.5046792 , 0.49760413],\n",
              "         [0.50209373, 0.5105443 , 0.49961028],\n",
              "         [0.4991641 , 0.50601983, 0.4976617 ],\n",
              "         [0.50193655, 0.49761152, 0.4942551 ],\n",
              "         [0.5069359 , 0.5102746 , 0.5014487 ],\n",
              "         [0.50415075, 0.5119289 , 0.49246764],\n",
              "         [0.5025816 , 0.5105179 , 0.4852639 ],\n",
              "         [0.5028754 , 0.49608603, 0.48872837],\n",
              "         [0.5103642 , 0.51438034, 0.4910349 ],\n",
              "         [0.500238  , 0.50883764, 0.492123  ],\n",
              "         [0.5034215 , 0.49826092, 0.48759666],\n",
              "         [0.503545  , 0.5015723 , 0.4954964 ],\n",
              "         [0.5196968 , 0.5090847 , 0.47701776]],\n",
              "\n",
              "        [[0.50184965, 0.50368595, 0.49975374],\n",
              "         [0.506669  , 0.50189424, 0.4993447 ],\n",
              "         [0.5086262 , 0.4999868 , 0.49777597],\n",
              "         [0.5095411 , 0.50730777, 0.50089395],\n",
              "         [0.50352126, 0.49997962, 0.49614614],\n",
              "         [0.52099293, 0.5016716 , 0.50095785],\n",
              "         [0.515767  , 0.50205   , 0.49830577],\n",
              "         [0.5074534 , 0.50813115, 0.49987918],\n",
              "         [0.5068426 , 0.49793854, 0.49183977],\n",
              "         [0.53015226, 0.5139099 , 0.50103277],\n",
              "         [0.52060586, 0.50331485, 0.49757802],\n",
              "         [0.5086598 , 0.49792492, 0.49676868],\n",
              "         [0.5037892 , 0.4977023 , 0.49570948],\n",
              "         [0.5167422 , 0.5079365 , 0.49664795],\n",
              "         [0.51146555, 0.5027867 , 0.4989496 ],\n",
              "         [0.5085884 , 0.49521825, 0.49457645]],\n",
              "\n",
              "        [[0.49957404, 0.5037025 , 0.49742666],\n",
              "         [0.50211054, 0.49965426, 0.5023807 ],\n",
              "         [0.5022435 , 0.5034568 , 0.49903712],\n",
              "         [0.49670705, 0.5064337 , 0.5013497 ],\n",
              "         [0.49850288, 0.5063731 , 0.49121907],\n",
              "         [0.5163988 , 0.51469314, 0.48674446],\n",
              "         [0.50729936, 0.5123284 , 0.5103807 ],\n",
              "         [0.50512207, 0.50156385, 0.49715257],\n",
              "         [0.50223935, 0.51045424, 0.49507347],\n",
              "         [0.5184607 , 0.5200572 , 0.4826146 ],\n",
              "         [0.5105484 , 0.510574  , 0.5047996 ],\n",
              "         [0.50982094, 0.49739647, 0.49444598],\n",
              "         [0.5012109 , 0.50492656, 0.49751094],\n",
              "         [0.51899606, 0.5159784 , 0.4966215 ],\n",
              "         [0.5146201 , 0.5052595 , 0.49372897],\n",
              "         [0.5141716 , 0.49704355, 0.4965314 ]],\n",
              "\n",
              "        [[0.5036789 , 0.50074685, 0.5007973 ],\n",
              "         [0.5051615 , 0.50263244, 0.49948642],\n",
              "         [0.50464976, 0.50427765, 0.49603117],\n",
              "         [0.5058081 , 0.5037897 , 0.4960556 ],\n",
              "         [0.5115178 , 0.50842136, 0.5007518 ],\n",
              "         [0.5165099 , 0.49924684, 0.50090927],\n",
              "         [0.5060603 , 0.5091479 , 0.48333594],\n",
              "         [0.51194274, 0.5035022 , 0.4951541 ],\n",
              "         [0.51303613, 0.50924474, 0.50031775],\n",
              "         [0.51630795, 0.503525  , 0.50083363],\n",
              "         [0.5078139 , 0.5094436 , 0.48327792],\n",
              "         [0.5128151 , 0.50559735, 0.49579254],\n",
              "         [0.508249  , 0.50603306, 0.49972504],\n",
              "         [0.5113977 , 0.5066646 , 0.49659237],\n",
              "         [0.5086752 , 0.5082901 , 0.48713213],\n",
              "         [0.5099538 , 0.50522745, 0.4936676 ]],\n",
              "\n",
              "        [[0.5018282 , 0.50152045, 0.49984053],\n",
              "         [0.5017775 , 0.50262517, 0.5019078 ],\n",
              "         [0.50073475, 0.49916357, 0.4974325 ],\n",
              "         [0.49718186, 0.50284797, 0.5017772 ],\n",
              "         [0.50481635, 0.50618273, 0.49683207],\n",
              "         [0.50380605, 0.50523514, 0.4997424 ],\n",
              "         [0.5050285 , 0.49401686, 0.4940854 ],\n",
              "         [0.50375754, 0.50683296, 0.49503154],\n",
              "         [0.5043227 , 0.5048733 , 0.4994283 ],\n",
              "         [0.5021252 , 0.5058967 , 0.49861538],\n",
              "         [0.50858265, 0.4944425 , 0.48930722],\n",
              "         [0.5067592 , 0.50891805, 0.4910287 ],\n",
              "         [0.5003662 , 0.501977  , 0.5012675 ],\n",
              "         [0.49922258, 0.50199705, 0.4983146 ],\n",
              "         [0.50050837, 0.4972657 , 0.4898779 ],\n",
              "         [0.51005995, 0.50748587, 0.48810577]]]], dtype=float32)"
            ]
          },
          "metadata": {},
          "execution_count": 64
        }
      ],
      "source": [
        "ae1 = AE1()\n",
        "ae1.compile(optimizer='adam', loss='mse')\n",
        "ae1.predict(kotak[0:1])"
      ]
    },
    {
      "cell_type": "code",
      "execution_count": 65,
      "metadata": {
        "id": "qpX2QA9_iCZW"
      },
      "outputs": [],
      "source": [
        "#AutoEncoder 2\n",
        "class AE2(Model):\n",
        "  def __init__(self):\n",
        "    super(AE2, self).__init__()\n",
        "    self.decoder_2 = decoder_2\n",
        "  def call(self,x):\n",
        "    _ = ae1.encoder(x)\n",
        "    _ = self.decoder_2(_)\n",
        "    return _"
      ]
    },
    {
      "cell_type": "code",
      "execution_count": 66,
      "metadata": {
        "colab": {
          "base_uri": "https://localhost:8080/"
        },
        "id": "a9rMYnikiU9h",
        "outputId": "26e2724f-da0b-423a-be1d-86a755c0ee8c"
      },
      "outputs": [
        {
          "output_type": "stream",
          "name": "stdout",
          "text": [
            "1/1 [==============================] - 0s 139ms/step\n"
          ]
        },
        {
          "output_type": "execute_result",
          "data": {
            "text/plain": [
              "array([[[[0.50237906, 0.49997333, 0.49922994],\n",
              "         [0.50018036, 0.5025286 , 0.49920085],\n",
              "         [0.5007931 , 0.5007911 , 0.50010616],\n",
              "         [0.5013015 , 0.50508356, 0.4967053 ],\n",
              "         [0.50086683, 0.4992056 , 0.4968823 ],\n",
              "         [0.5000859 , 0.50282115, 0.50250906],\n",
              "         [0.50224274, 0.5000693 , 0.5007761 ],\n",
              "         [0.50043315, 0.5075725 , 0.49717936],\n",
              "         [0.49926078, 0.5000145 , 0.4980065 ],\n",
              "         [0.4981256 , 0.49988005, 0.5031639 ],\n",
              "         [0.50281054, 0.49918804, 0.50036067],\n",
              "         [0.50143856, 0.50835323, 0.49836984],\n",
              "         [0.49635234, 0.5011771 , 0.49985796],\n",
              "         [0.4939225 , 0.49795964, 0.5014492 ],\n",
              "         [0.5044099 , 0.504037  , 0.5002584 ],\n",
              "         [0.50104755, 0.5020099 , 0.503475  ]],\n",
              "\n",
              "        [[0.4983679 , 0.5039078 , 0.49911585],\n",
              "         [0.50410086, 0.5013698 , 0.5011702 ],\n",
              "         [0.5075091 , 0.50728613, 0.49944845],\n",
              "         [0.51208866, 0.5101508 , 0.49556673],\n",
              "         [0.50207686, 0.49680692, 0.50885   ],\n",
              "         [0.5167189 , 0.5125079 , 0.49965504],\n",
              "         [0.5083625 , 0.50625163, 0.49248645],\n",
              "         [0.51332116, 0.5147528 , 0.49577796],\n",
              "         [0.50116885, 0.49363783, 0.5093228 ],\n",
              "         [0.5146275 , 0.5112941 , 0.4967585 ],\n",
              "         [0.5099942 , 0.504723  , 0.492192  ],\n",
              "         [0.51357603, 0.5094861 , 0.49633458],\n",
              "         [0.5049725 , 0.48991385, 0.5121821 ],\n",
              "         [0.5194259 , 0.5049539 , 0.49272785],\n",
              "         [0.51386267, 0.5019329 , 0.4929839 ],\n",
              "         [0.5060716 , 0.50556993, 0.49193016]],\n",
              "\n",
              "        [[0.503508  , 0.4969428 , 0.5039333 ],\n",
              "         [0.50460505, 0.5021495 , 0.49582374],\n",
              "         [0.5045609 , 0.5021643 , 0.5048606 ],\n",
              "         [0.49727324, 0.48965105, 0.506298  ],\n",
              "         [0.5156992 , 0.49454832, 0.50347984],\n",
              "         [0.5007217 , 0.5083802 , 0.50340104],\n",
              "         [0.5011174 , 0.50275993, 0.50677735],\n",
              "         [0.49941564, 0.49203375, 0.51251227],\n",
              "         [0.5149635 , 0.49717698, 0.5000494 ],\n",
              "         [0.5002854 , 0.50995713, 0.5002061 ],\n",
              "         [0.4983536 , 0.5050127 , 0.5060836 ],\n",
              "         [0.4974903 , 0.49467847, 0.5079414 ],\n",
              "         [0.51196784, 0.5029053 , 0.49948898],\n",
              "         [0.4949165 , 0.5120203 , 0.50110966],\n",
              "         [0.4994725 , 0.5004966 , 0.50592417],\n",
              "         [0.49891448, 0.49933338, 0.50271195]],\n",
              "\n",
              "        [[0.5087762 , 0.5065943 , 0.50262356],\n",
              "         [0.50247014, 0.49238342, 0.50740117],\n",
              "         [0.50910634, 0.50776273, 0.49808222],\n",
              "         [0.5220204 , 0.49342403, 0.50075585],\n",
              "         [0.52742076, 0.5076436 , 0.49566317],\n",
              "         [0.49947658, 0.49584258, 0.5134464 ],\n",
              "         [0.51542926, 0.50105333, 0.49343345],\n",
              "         [0.5209708 , 0.49054545, 0.5026077 ],\n",
              "         [0.52365303, 0.50262785, 0.49422127],\n",
              "         [0.49863663, 0.49613187, 0.5144181 ],\n",
              "         [0.5150421 , 0.50004923, 0.49709612],\n",
              "         [0.524336  , 0.49325976, 0.5035533 ],\n",
              "         [0.5180704 , 0.4925402 , 0.4960832 ],\n",
              "         [0.5092176 , 0.49863368, 0.50925386],\n",
              "         [0.52173775, 0.49367726, 0.495915  ],\n",
              "         [0.5099942 , 0.50221354, 0.49846408]],\n",
              "\n",
              "        [[0.5037067 , 0.49713513, 0.49267656],\n",
              "         [0.5035528 , 0.5081055 , 0.5038191 ],\n",
              "         [0.50873476, 0.49445158, 0.49803096],\n",
              "         [0.49644527, 0.5124706 , 0.49277642],\n",
              "         [0.5081167 , 0.49286017, 0.48961312],\n",
              "         [0.50420606, 0.513579  , 0.5020575 ],\n",
              "         [0.51138407, 0.4955725 , 0.502543  ],\n",
              "         [0.4970903 , 0.5129843 , 0.49439088],\n",
              "         [0.50900126, 0.49441674, 0.48952198],\n",
              "         [0.5046231 , 0.5120831 , 0.5017624 ],\n",
              "         [0.51077414, 0.49764448, 0.5000853 ],\n",
              "         [0.49757025, 0.5111211 , 0.49011233],\n",
              "         [0.50799274, 0.5014483 , 0.49830708],\n",
              "         [0.49987578, 0.49937454, 0.4951107 ],\n",
              "         [0.51175207, 0.49933994, 0.5020382 ],\n",
              "         [0.49594298, 0.5014859 , 0.50682455]],\n",
              "\n",
              "        [[0.49988216, 0.5019603 , 0.50041974],\n",
              "         [0.5101963 , 0.50310963, 0.5081599 ],\n",
              "         [0.51693946, 0.51191926, 0.48958933],\n",
              "         [0.51122874, 0.50483036, 0.4956235 ],\n",
              "         [0.5054759 , 0.47927535, 0.5006272 ],\n",
              "         [0.5205181 , 0.5015086 , 0.5066423 ],\n",
              "         [0.5160986 , 0.49897036, 0.48106948],\n",
              "         [0.5171978 , 0.506023  , 0.49840248],\n",
              "         [0.50385565, 0.48103964, 0.50098586],\n",
              "         [0.51852375, 0.50507486, 0.50688654],\n",
              "         [0.51594824, 0.5014401 , 0.48110542],\n",
              "         [0.51405203, 0.50767213, 0.49670625],\n",
              "         [0.5068717 , 0.4828919 , 0.5051684 ],\n",
              "         [0.5159443 , 0.4967152 , 0.49619856],\n",
              "         [0.51749706, 0.4973974 , 0.48560646],\n",
              "         [0.5043125 , 0.5002292 , 0.49403736]],\n",
              "\n",
              "        [[0.5010926 , 0.4962332 , 0.50617546],\n",
              "         [0.5075972 , 0.5124411 , 0.49046883],\n",
              "         [0.4942451 , 0.50584763, 0.50210106],\n",
              "         [0.50205404, 0.49634063, 0.50112265],\n",
              "         [0.5135447 , 0.49688554, 0.50582206],\n",
              "         [0.50602823, 0.5134953 , 0.49413988],\n",
              "         [0.49403378, 0.50661135, 0.50732315],\n",
              "         [0.50233984, 0.49819496, 0.5059599 ],\n",
              "         [0.51479566, 0.49491087, 0.50413096],\n",
              "         [0.5066359 , 0.51408666, 0.49580422],\n",
              "         [0.49279514, 0.5060373 , 0.5062619 ],\n",
              "         [0.50273085, 0.49829015, 0.5083593 ],\n",
              "         [0.5203298 , 0.49802777, 0.49585307],\n",
              "         [0.49693215, 0.5168475 , 0.49393567],\n",
              "         [0.501735  , 0.50576574, 0.5041817 ],\n",
              "         [0.5002204 , 0.5022046 , 0.49623728]],\n",
              "\n",
              "        [[0.5070308 , 0.5086139 , 0.50030917],\n",
              "         [0.4999533 , 0.49181333, 0.51133925],\n",
              "         [0.51126474, 0.5076827 , 0.4963553 ],\n",
              "         [0.52994347, 0.4836766 , 0.4951466 ],\n",
              "         [0.52724636, 0.5028974 , 0.4953838 ],\n",
              "         [0.49590778, 0.4903237 , 0.5155924 ],\n",
              "         [0.51053184, 0.50042677, 0.49731493],\n",
              "         [0.5278227 , 0.48613414, 0.49797568],\n",
              "         [0.5262753 , 0.5034476 , 0.49379012],\n",
              "         [0.4970875 , 0.49398404, 0.5174659 ],\n",
              "         [0.5093304 , 0.5002919 , 0.497573  ],\n",
              "         [0.5303776 , 0.48865387, 0.50306225],\n",
              "         [0.51781887, 0.4941391 , 0.49686414],\n",
              "         [0.50860876, 0.5021858 , 0.5104472 ],\n",
              "         [0.5174489 , 0.49223575, 0.49449837],\n",
              "         [0.51054794, 0.49972147, 0.4979788 ]],\n",
              "\n",
              "        [[0.5085317 , 0.49721253, 0.4918034 ],\n",
              "         [0.50740236, 0.5128464 , 0.49948445],\n",
              "         [0.5043351 , 0.49607155, 0.4951527 ],\n",
              "         [0.49836332, 0.51503116, 0.49225217],\n",
              "         [0.5089169 , 0.49419904, 0.4910015 ],\n",
              "         [0.5058809 , 0.51150334, 0.50222427],\n",
              "         [0.51186424, 0.49811083, 0.49991748],\n",
              "         [0.49738666, 0.51178765, 0.4934174 ],\n",
              "         [0.5087438 , 0.49367937, 0.49066845],\n",
              "         [0.505683  , 0.51150465, 0.50240564],\n",
              "         [0.5118717 , 0.49803165, 0.5000284 ],\n",
              "         [0.49744013, 0.5104364 , 0.4903134 ],\n",
              "         [0.50799274, 0.5014483 , 0.49830708],\n",
              "         [0.49987578, 0.49937454, 0.4951107 ],\n",
              "         [0.51175207, 0.49933994, 0.5020382 ],\n",
              "         [0.49594298, 0.5014859 , 0.50682455]],\n",
              "\n",
              "        [[0.49788287, 0.5019949 , 0.4995938 ],\n",
              "         [0.5114014 , 0.5022978 , 0.5105978 ],\n",
              "         [0.51795256, 0.5110153 , 0.48640501],\n",
              "         [0.51981467, 0.50238854, 0.49607593],\n",
              "         [0.50400954, 0.4799778 , 0.50008696],\n",
              "         [0.51889133, 0.5048377 , 0.50669956],\n",
              "         [0.51680666, 0.5019688 , 0.48136285],\n",
              "         [0.5156993 , 0.5066064 , 0.49745777],\n",
              "         [0.50402015, 0.48051685, 0.5000453 ],\n",
              "         [0.5190316 , 0.50497425, 0.50656456],\n",
              "         [0.51669484, 0.5019077 , 0.48130673],\n",
              "         [0.51376575, 0.50796825, 0.4967415 ],\n",
              "         [0.5068717 , 0.4828919 , 0.5051684 ],\n",
              "         [0.5159443 , 0.4967152 , 0.49619856],\n",
              "         [0.51749706, 0.4973974 , 0.48560646],\n",
              "         [0.5043125 , 0.5002292 , 0.49403736]],\n",
              "\n",
              "        [[0.500356  , 0.495919  , 0.50720793],\n",
              "         [0.5119913 , 0.5098499 , 0.4898234 ],\n",
              "         [0.4957165 , 0.50342906, 0.50242156],\n",
              "         [0.502316  , 0.49832928, 0.5060096 ],\n",
              "         [0.51563424, 0.4943988 , 0.504563  ],\n",
              "         [0.5063738 , 0.51394695, 0.49568444],\n",
              "         [0.4924645 , 0.50568134, 0.50573915],\n",
              "         [0.50346607, 0.4992531 , 0.5058036 ],\n",
              "         [0.51564026, 0.49453765, 0.5045076 ],\n",
              "         [0.5063893 , 0.51389194, 0.49586913],\n",
              "         [0.49247846, 0.50570756, 0.50593585],\n",
              "         [0.5027753 , 0.49833524, 0.508585  ],\n",
              "         [0.5203298 , 0.49802777, 0.49585307],\n",
              "         [0.49693215, 0.5168475 , 0.49393567],\n",
              "         [0.501735  , 0.50576574, 0.5041817 ],\n",
              "         [0.5002204 , 0.5022046 , 0.49623728]],\n",
              "\n",
              "        [[0.5064781 , 0.5088574 , 0.49932608],\n",
              "         [0.5024159 , 0.4902423 , 0.5113507 ],\n",
              "         [0.510656  , 0.5096355 , 0.49280134],\n",
              "         [0.5296398 , 0.48336428, 0.49928096],\n",
              "         [0.52589214, 0.5044891 , 0.49417996],\n",
              "         [0.49830392, 0.49397266, 0.5117287 ],\n",
              "         [0.5107034 , 0.50209284, 0.49328813],\n",
              "         [0.5255915 , 0.48634797, 0.5015775 ],\n",
              "         [0.5259656 , 0.5046648 , 0.49443585],\n",
              "         [0.49815893, 0.49378118, 0.511543  ],\n",
              "         [0.51079524, 0.50204885, 0.49322435],\n",
              "         [0.52654284, 0.48655054, 0.5060164 ],\n",
              "         [0.51771766, 0.49673977, 0.4948114 ],\n",
              "         [0.50856704, 0.49587944, 0.5051825 ],\n",
              "         [0.5210702 , 0.49463537, 0.49312901],\n",
              "         [0.5098915 , 0.5001223 , 0.5007113 ]],\n",
              "\n",
              "        [[0.50930613, 0.49494335, 0.4935652 ],\n",
              "         [0.50737053, 0.5116546 , 0.5014375 ],\n",
              "         [0.50247186, 0.493789  , 0.4983558 ],\n",
              "         [0.4941143 , 0.51066214, 0.49937806],\n",
              "         [0.5071918 , 0.49425304, 0.49678758],\n",
              "         [0.5075687 , 0.5179096 , 0.496586  ],\n",
              "         [0.5136519 , 0.49262407, 0.4997384 ],\n",
              "         [0.49086002, 0.5075329 , 0.5016574 ],\n",
              "         [0.5071918 , 0.49425304, 0.49678758],\n",
              "         [0.5075687 , 0.5179096 , 0.496586  ],\n",
              "         [0.5136519 , 0.49262407, 0.4997384 ],\n",
              "         [0.49068004, 0.5097484 , 0.4972325 ],\n",
              "         [0.50452137, 0.50141543, 0.5006097 ],\n",
              "         [0.5049425 , 0.50780267, 0.49502724],\n",
              "         [0.5121175 , 0.49073672, 0.50154805],\n",
              "         [0.4967795 , 0.5027214 , 0.51126313]],\n",
              "\n",
              "        [[0.50184196, 0.50423974, 0.5012348 ],\n",
              "         [0.50860643, 0.5002348 , 0.5074672 ],\n",
              "         [0.5148321 , 0.49927214, 0.4909122 ],\n",
              "         [0.52209   , 0.49768594, 0.5027312 ],\n",
              "         [0.5068265 , 0.48456672, 0.49454284],\n",
              "         [0.5130839 , 0.49875498, 0.50855726],\n",
              "         [0.5219444 , 0.5004074 , 0.48942629],\n",
              "         [0.52231914, 0.5016565 , 0.5043043 ],\n",
              "         [0.5068265 , 0.48456672, 0.49454284],\n",
              "         [0.5130839 , 0.49875498, 0.50855726],\n",
              "         [0.5219444 , 0.5004074 , 0.48942629],\n",
              "         [0.51860994, 0.5031115 , 0.49999085],\n",
              "         [0.5029614 , 0.48480314, 0.4987916 ],\n",
              "         [0.5085894 , 0.49493816, 0.50464475],\n",
              "         [0.51409537, 0.49507824, 0.49250206],\n",
              "         [0.50904787, 0.497946  , 0.5028832 ]],\n",
              "\n",
              "        [[0.49843168, 0.4959215 , 0.50774205],\n",
              "         [0.5137679 , 0.5088152 , 0.4909023 ],\n",
              "         [0.5026165 , 0.5026382 , 0.4982437 ],\n",
              "         [0.5050101 , 0.50740314, 0.4998684 ],\n",
              "         [0.51038766, 0.49917778, 0.5115945 ],\n",
              "         [0.5075548 , 0.5081134 , 0.48920453],\n",
              "         [0.49480498, 0.49945688, 0.4985849 ],\n",
              "         [0.50198925, 0.50486505, 0.50597715],\n",
              "         [0.51038766, 0.49917778, 0.5115945 ],\n",
              "         [0.5075548 , 0.5081134 , 0.48920453],\n",
              "         [0.49480498, 0.49945688, 0.4985849 ],\n",
              "         [0.5003617 , 0.5014338 , 0.5127897 ],\n",
              "         [0.51391745, 0.49597043, 0.5037438 ],\n",
              "         [0.5000843 , 0.5096211 , 0.49233562],\n",
              "         [0.5004331 , 0.5052397 , 0.49950662],\n",
              "         [0.49760216, 0.4997048 , 0.50116134]],\n",
              "\n",
              "        [[0.49426922, 0.5006323 , 0.49705997],\n",
              "         [0.4955764 , 0.49172837, 0.5080098 ],\n",
              "         [0.49680576, 0.48916858, 0.4989165 ],\n",
              "         [0.5124587 , 0.48223317, 0.4984044 ],\n",
              "         [0.50428057, 0.48696226, 0.49319595],\n",
              "         [0.49794376, 0.4921182 , 0.50978506],\n",
              "         [0.50016934, 0.49273103, 0.49837297],\n",
              "         [0.51583946, 0.4801429 , 0.49692053],\n",
              "         [0.50428057, 0.48696226, 0.49319595],\n",
              "         [0.49794376, 0.4921182 , 0.50978506],\n",
              "         [0.50016934, 0.49273103, 0.49837297],\n",
              "         [0.5166512 , 0.4783981 , 0.49806315],\n",
              "         [0.50507694, 0.48610964, 0.4949179 ],\n",
              "         [0.50012904, 0.496953  , 0.5096106 ],\n",
              "         [0.49964005, 0.49534532, 0.4994863 ],\n",
              "         [0.5070772 , 0.4892552 , 0.49914095]]]], dtype=float32)"
            ]
          },
          "metadata": {},
          "execution_count": 66
        }
      ],
      "source": [
        "ae2 = AE2()\n",
        "ae2.compile(optimizer='adam', loss='mse')\n",
        "ae2.predict(bulet[0:1])"
      ]
    },
    {
      "cell_type": "code",
      "execution_count": null,
      "metadata": {
        "colab": {
          "base_uri": "https://localhost:8080/"
        },
        "id": "nNFIcpVpi23K",
        "outputId": "3968cd88-ad0a-4ac1-efdc-1a292c1c202b"
      },
      "outputs": [
        {
          "output_type": "stream",
          "name": "stdout",
          "text": [
            "Epoch 1/10\n",
            "4000/4000 [==============================] - 10s 3ms/step - loss: 0.0109 - val_loss: 0.0027\n",
            "Epoch 2/10\n",
            "3204/4000 [=======================>......] - ETA: 1s - loss: 0.0022"
          ]
        }
      ],
      "source": [
        "ae1.fit(kotak, kotak, batch_size=2, epochs=10, validation_split= 0.2)"
      ]
    },
    {
      "cell_type": "code",
      "execution_count": null,
      "metadata": {
        "id": "yFEsXLWSmmn_"
      },
      "outputs": [],
      "source": [
        "ae2.fit(bulet, bulet, batch_size=2, epochs=10, validation_split= 0.2)"
      ]
    },
    {
      "cell_type": "code",
      "execution_count": null,
      "metadata": {
        "id": "eZFEWk7flp6A"
      },
      "outputs": [],
      "source": [
        "sidik = ae1.encoder(kotak[0:1])\n",
        "y_pred = ae2.decoder_2(sidik)\n",
        "plt.imshow(y_pred[0])"
      ]
    }
  ],
  "metadata": {
    "colab": {
      "provenance": []
    },
    "kernelspec": {
      "display_name": "Python 3",
      "language": "python",
      "name": "python3"
    },
    "language_info": {
      "name": "python",
      "version": "3.11.1 (tags/v3.11.1:a7a450f, Dec  6 2022, 19:58:39) [MSC v.1934 64 bit (AMD64)]"
    },
    "vscode": {
      "interpreter": {
        "hash": "e956c49ae0caa224b5fdd754cbc353d7e61c6c61f7329ee680c7f7b4f1b71a8e"
      }
    }
  },
  "nbformat": 4,
  "nbformat_minor": 0
}
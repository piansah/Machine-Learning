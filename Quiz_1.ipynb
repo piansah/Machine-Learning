{
  "cells": [
    {
      "cell_type": "code",
      "execution_count": 1,
      "metadata": {
        "id": "xSMg8yCD4S6s"
      },
      "outputs": [],
      "source": [
        "import pandas as pd\n",
        "import numpy as np\n",
        "from scipy import stats\n",
        "import matplotlib.pyplot as plt\n",
        "from sklearn.model_selection import train_test_split\n",
        "from sklearn.neighbors import KNeighborsClassifier\n",
        "from sklearn.metrics import confusion_matrix\n",
        "from sklearn import metrics"
      ]
    },
    {
      "cell_type": "code",
      "execution_count": 2,
      "metadata": {
        "colab": {
          "base_uri": "https://localhost:8080/",
          "height": 488
        },
        "id": "oEGlgxcI5C0j",
        "outputId": "dea292b0-99fc-4f86-cf13-64e5b68c967a"
      },
      "outputs": [
        {
          "data": {
            "text/html": [
              "<div>\n",
              "<style scoped>\n",
              "    .dataframe tbody tr th:only-of-type {\n",
              "        vertical-align: middle;\n",
              "    }\n",
              "\n",
              "    .dataframe tbody tr th {\n",
              "        vertical-align: top;\n",
              "    }\n",
              "\n",
              "    .dataframe thead th {\n",
              "        text-align: right;\n",
              "    }\n",
              "</style>\n",
              "<table border=\"1\" class=\"dataframe\">\n",
              "  <thead>\n",
              "    <tr style=\"text-align: right;\">\n",
              "      <th></th>\n",
              "      <th>h_0</th>\n",
              "      <th>h_1</th>\n",
              "      <th>h_2</th>\n",
              "      <th>h_3</th>\n",
              "      <th>h_4</th>\n",
              "      <th>h_5</th>\n",
              "      <th>h_6</th>\n",
              "      <th>h_7</th>\n",
              "      <th>h_8</th>\n",
              "      <th>h_9</th>\n",
              "      <th>...</th>\n",
              "      <th>h_20</th>\n",
              "      <th>h_21</th>\n",
              "      <th>h_22</th>\n",
              "      <th>h_23</th>\n",
              "      <th>h_24</th>\n",
              "      <th>h_25</th>\n",
              "      <th>h_26</th>\n",
              "      <th>h_27</th>\n",
              "      <th>h_28</th>\n",
              "      <th>status</th>\n",
              "    </tr>\n",
              "  </thead>\n",
              "  <tbody>\n",
              "    <tr>\n",
              "      <th>0</th>\n",
              "      <td>303.59</td>\n",
              "      <td>303.43</td>\n",
              "      <td>305.51</td>\n",
              "      <td>306.24</td>\n",
              "      <td>305.37</td>\n",
              "      <td>305.06</td>\n",
              "      <td>305.01</td>\n",
              "      <td>305.4</td>\n",
              "      <td>306.0</td>\n",
              "      <td>306.09</td>\n",
              "      <td>...</td>\n",
              "      <td>304.39</td>\n",
              "      <td>305.27</td>\n",
              "      <td>305.88</td>\n",
              "      <td>304.95</td>\n",
              "      <td>305.29</td>\n",
              "      <td>304.04</td>\n",
              "      <td>304.27</td>\n",
              "      <td>304.3</td>\n",
              "      <td>305.25</td>\n",
              "      <td>0.0</td>\n",
              "    </tr>\n",
              "    <tr>\n",
              "      <th>1</th>\n",
              "      <td>368.18</td>\n",
              "      <td>365.75</td>\n",
              "      <td>361.99</td>\n",
              "      <td>364.06</td>\n",
              "      <td>363.17</td>\n",
              "      <td>363.3</td>\n",
              "      <td>364.4</td>\n",
              "      <td>365.52</td>\n",
              "      <td>363.67</td>\n",
              "      <td>356.33</td>\n",
              "      <td>...</td>\n",
              "      <td>359.11</td>\n",
              "      <td>357.98</td>\n",
              "      <td>357.41</td>\n",
              "      <td>357.07</td>\n",
              "      <td>354.68</td>\n",
              "      <td>353.8</td>\n",
              "      <td>349.62</td>\n",
              "      <td>351.6</td>\n",
              "      <td>354.47</td>\n",
              "      <td>0.0</td>\n",
              "    </tr>\n",
              "    <tr>\n",
              "      <th>2</th>\n",
              "      <td>21.2989</td>\n",
              "      <td>21.3389</td>\n",
              "      <td>21.3376</td>\n",
              "      <td>21.2184</td>\n",
              "      <td>21.0715</td>\n",
              "      <td>21.0046</td>\n",
              "      <td>21.0328</td>\n",
              "      <td>21.0681</td>\n",
              "      <td>21.1238</td>\n",
              "      <td>21.013</td>\n",
              "      <td>...</td>\n",
              "      <td>21.1085</td>\n",
              "      <td>21.1412</td>\n",
              "      <td>21.127</td>\n",
              "      <td>21.026</td>\n",
              "      <td>21.08</td>\n",
              "      <td>21.0868</td>\n",
              "      <td>21.1969</td>\n",
              "      <td>21.0473</td>\n",
              "      <td>21.0621</td>\n",
              "      <td>0.0</td>\n",
              "    </tr>\n",
              "    <tr>\n",
              "      <th>3</th>\n",
              "      <td>16.7998</td>\n",
              "      <td>16.8058</td>\n",
              "      <td>16.7182</td>\n",
              "      <td>16.6321</td>\n",
              "      <td>16.6668</td>\n",
              "      <td>16.6284</td>\n",
              "      <td>16.6463</td>\n",
              "      <td>16.4354</td>\n",
              "      <td>16.473</td>\n",
              "      <td>16.3476</td>\n",
              "      <td>...</td>\n",
              "      <td>16.5478</td>\n",
              "      <td>16.5099</td>\n",
              "      <td>16.425</td>\n",
              "      <td>16.4874</td>\n",
              "      <td>16.4593</td>\n",
              "      <td>16.4595</td>\n",
              "      <td>16.4946</td>\n",
              "      <td>16.5199</td>\n",
              "      <td>16.5218</td>\n",
              "      <td>1.0</td>\n",
              "    </tr>\n",
              "    <tr>\n",
              "      <th>4</th>\n",
              "      <td>347.8</td>\n",
              "      <td>344.33</td>\n",
              "      <td>342.68</td>\n",
              "      <td>351.6</td>\n",
              "      <td>349.62</td>\n",
              "      <td>359.43</td>\n",
              "      <td>353.31</td>\n",
              "      <td>348.17</td>\n",
              "      <td>348.28</td>\n",
              "      <td>350.19</td>\n",
              "      <td>...</td>\n",
              "      <td>331.27</td>\n",
              "      <td>337.9</td>\n",
              "      <td>338.99</td>\n",
              "      <td>336.27</td>\n",
              "      <td>340.15</td>\n",
              "      <td>343.5</td>\n",
              "      <td>347.62</td>\n",
              "      <td>344.6</td>\n",
              "      <td>347.83</td>\n",
              "      <td>1.0</td>\n",
              "    </tr>\n",
              "    <tr>\n",
              "      <th>...</th>\n",
              "      <td>...</td>\n",
              "      <td>...</td>\n",
              "      <td>...</td>\n",
              "      <td>...</td>\n",
              "      <td>...</td>\n",
              "      <td>...</td>\n",
              "      <td>...</td>\n",
              "      <td>...</td>\n",
              "      <td>...</td>\n",
              "      <td>...</td>\n",
              "      <td>...</td>\n",
              "      <td>...</td>\n",
              "      <td>...</td>\n",
              "      <td>...</td>\n",
              "      <td>...</td>\n",
              "      <td>...</td>\n",
              "      <td>...</td>\n",
              "      <td>...</td>\n",
              "      <td>...</td>\n",
              "      <td>...</td>\n",
              "      <td>...</td>\n",
              "    </tr>\n",
              "    <tr>\n",
              "      <th>25169</th>\n",
              "      <td>400.4</td>\n",
              "      <td>391.6</td>\n",
              "      <td>396.2</td>\n",
              "      <td>390.6</td>\n",
              "      <td>390.0</td>\n",
              "      <td>402.4</td>\n",
              "      <td>403.3</td>\n",
              "      <td>406.8</td>\n",
              "      <td>402.5</td>\n",
              "      <td>406.2</td>\n",
              "      <td>...</td>\n",
              "      <td>414.9</td>\n",
              "      <td>418.4</td>\n",
              "      <td>413.3</td>\n",
              "      <td>415.2</td>\n",
              "      <td>417.8</td>\n",
              "      <td>420.0</td>\n",
              "      <td>418.9</td>\n",
              "      <td>419.7</td>\n",
              "      <td>416.1</td>\n",
              "      <td>0.0</td>\n",
              "    </tr>\n",
              "    <tr>\n",
              "      <th>25170</th>\n",
              "      <td>266.4001</td>\n",
              "      <td>266.5216</td>\n",
              "      <td>264.202</td>\n",
              "      <td>263.389</td>\n",
              "      <td>260.2649</td>\n",
              "      <td>260.97</td>\n",
              "      <td>258.7779</td>\n",
              "      <td>254.9954</td>\n",
              "      <td>255.2105</td>\n",
              "      <td>258.5394</td>\n",
              "      <td>...</td>\n",
              "      <td>259.5864</td>\n",
              "      <td>261.1792</td>\n",
              "      <td>256.149</td>\n",
              "      <td>256.4059</td>\n",
              "      <td>254.8381</td>\n",
              "      <td>256.7242</td>\n",
              "      <td>255.1824</td>\n",
              "      <td>252.22</td>\n",
              "      <td>254.663</td>\n",
              "      <td>1.0</td>\n",
              "    </tr>\n",
              "    <tr>\n",
              "      <th>25171</th>\n",
              "      <td>16.5206</td>\n",
              "      <td>16.4068</td>\n",
              "      <td>16.4221</td>\n",
              "      <td>16.4275</td>\n",
              "      <td>16.3441</td>\n",
              "      <td>16.3951</td>\n",
              "      <td>16.4389</td>\n",
              "      <td>16.4525</td>\n",
              "      <td>16.5334</td>\n",
              "      <td>16.549</td>\n",
              "      <td>...</td>\n",
              "      <td>17.0366</td>\n",
              "      <td>16.9165</td>\n",
              "      <td>16.8923</td>\n",
              "      <td>16.9117</td>\n",
              "      <td>16.96</td>\n",
              "      <td>16.9845</td>\n",
              "      <td>17.0035</td>\n",
              "      <td>16.9944</td>\n",
              "      <td>16.8813</td>\n",
              "      <td>1.0</td>\n",
              "    </tr>\n",
              "    <tr>\n",
              "      <th>25172</th>\n",
              "      <td>491.2</td>\n",
              "      <td>490.0</td>\n",
              "      <td>490.4</td>\n",
              "      <td>490.5</td>\n",
              "      <td>489.4</td>\n",
              "      <td>486.3</td>\n",
              "      <td>488.6</td>\n",
              "      <td>489.3</td>\n",
              "      <td>490.3</td>\n",
              "      <td>485.9</td>\n",
              "      <td>...</td>\n",
              "      <td>489.4</td>\n",
              "      <td>490.2</td>\n",
              "      <td>489.2</td>\n",
              "      <td>488.4</td>\n",
              "      <td>488.9</td>\n",
              "      <td>491.3</td>\n",
              "      <td>492.1</td>\n",
              "      <td>491.3</td>\n",
              "      <td>490.1</td>\n",
              "      <td>1.0</td>\n",
              "    </tr>\n",
              "    <tr>\n",
              "      <th>25173</th>\n",
              "      <td>19.4764</td>\n",
              "      <td>19.3266</td>\n",
              "      <td>19.4183</td>\n",
              "      <td>19.1933</td>\n",
              "      <td>18.9341</td>\n",
              "      <td>18.9185</td>\n",
              "      <td>19.1732</td>\n",
              "      <td>19.1031</td>\n",
              "      <td>19.1889</td>\n",
              "      <td>19.3896</td>\n",
              "      <td>...</td>\n",
              "      <td>19.1118</td>\n",
              "      <td>18.9595</td>\n",
              "      <td>18.9267</td>\n",
              "      <td>18.7632</td>\n",
              "      <td>18.8728</td>\n",
              "      <td>19.0281</td>\n",
              "      <td>18.7322</td>\n",
              "      <td>18.7235</td>\n",
              "      <td>18.287</td>\n",
              "      <td>1.0</td>\n",
              "    </tr>\n",
              "  </tbody>\n",
              "</table>\n",
              "<p>25174 rows × 30 columns</p>\n",
              "</div>"
            ],
            "text/plain": [
              "            h_0       h_1      h_2      h_3       h_4      h_5       h_6  \\\n",
              "0        303.59    303.43   305.51   306.24    305.37   305.06    305.01   \n",
              "1        368.18    365.75   361.99   364.06    363.17    363.3     364.4   \n",
              "2       21.2989   21.3389  21.3376  21.2184   21.0715  21.0046   21.0328   \n",
              "3       16.7998   16.8058  16.7182  16.6321   16.6668  16.6284   16.6463   \n",
              "4         347.8    344.33   342.68    351.6    349.62   359.43    353.31   \n",
              "...         ...       ...      ...      ...       ...      ...       ...   \n",
              "25169     400.4     391.6    396.2    390.6     390.0    402.4     403.3   \n",
              "25170  266.4001  266.5216  264.202  263.389  260.2649   260.97  258.7779   \n",
              "25171   16.5206   16.4068  16.4221  16.4275   16.3441  16.3951   16.4389   \n",
              "25172     491.2     490.0    490.4    490.5     489.4    486.3     488.6   \n",
              "25173   19.4764   19.3266  19.4183  19.1933   18.9341  18.9185   19.1732   \n",
              "\n",
              "            h_7       h_8       h_9  ...      h_20      h_21     h_22  \\\n",
              "0         305.4     306.0    306.09  ...    304.39    305.27   305.88   \n",
              "1        365.52    363.67    356.33  ...    359.11    357.98   357.41   \n",
              "2       21.0681   21.1238    21.013  ...   21.1085   21.1412   21.127   \n",
              "3       16.4354    16.473   16.3476  ...   16.5478   16.5099   16.425   \n",
              "4        348.17    348.28    350.19  ...    331.27     337.9   338.99   \n",
              "...         ...       ...       ...  ...       ...       ...      ...   \n",
              "25169     406.8     402.5     406.2  ...     414.9     418.4    413.3   \n",
              "25170  254.9954  255.2105  258.5394  ...  259.5864  261.1792  256.149   \n",
              "25171   16.4525   16.5334    16.549  ...   17.0366   16.9165  16.8923   \n",
              "25172     489.3     490.3     485.9  ...     489.4     490.2    489.2   \n",
              "25173   19.1031   19.1889   19.3896  ...   19.1118   18.9595  18.9267   \n",
              "\n",
              "           h_23      h_24      h_25      h_26     h_27     h_28 status  \n",
              "0        304.95    305.29    304.04    304.27    304.3   305.25    0.0  \n",
              "1        357.07    354.68     353.8    349.62    351.6   354.47    0.0  \n",
              "2        21.026     21.08   21.0868   21.1969  21.0473  21.0621    0.0  \n",
              "3       16.4874   16.4593   16.4595   16.4946  16.5199  16.5218    1.0  \n",
              "4        336.27    340.15     343.5    347.62    344.6   347.83    1.0  \n",
              "...         ...       ...       ...       ...      ...      ...    ...  \n",
              "25169     415.2     417.8     420.0     418.9    419.7    416.1    0.0  \n",
              "25170  256.4059  254.8381  256.7242  255.1824   252.22  254.663    1.0  \n",
              "25171   16.9117     16.96   16.9845   17.0035  16.9944  16.8813    1.0  \n",
              "25172     488.4     488.9     491.3     492.1    491.3    490.1    1.0  \n",
              "25173   18.7632   18.8728   19.0281   18.7322  18.7235   18.287    1.0  \n",
              "\n",
              "[25174 rows x 30 columns]"
            ]
          },
          "execution_count": 2,
          "metadata": {},
          "output_type": "execute_result"
        }
      ],
      "source": [
        "df = pd.read_csv('train.csv', decimal=',')\n",
        "df"
      ]
    },
    {
      "cell_type": "code",
      "execution_count": 3,
      "metadata": {
        "colab": {
          "base_uri": "https://localhost:8080/",
          "height": 299
        },
        "id": "ueotfrfD5rfY",
        "outputId": "764ff591-815b-4286-b2c2-077b059e7440"
      },
      "outputs": [
        {
          "data": {
            "text/html": [
              "<div>\n",
              "<style scoped>\n",
              "    .dataframe tbody tr th:only-of-type {\n",
              "        vertical-align: middle;\n",
              "    }\n",
              "\n",
              "    .dataframe tbody tr th {\n",
              "        vertical-align: top;\n",
              "    }\n",
              "\n",
              "    .dataframe thead th {\n",
              "        text-align: right;\n",
              "    }\n",
              "</style>\n",
              "<table border=\"1\" class=\"dataframe\">\n",
              "  <thead>\n",
              "    <tr style=\"text-align: right;\">\n",
              "      <th></th>\n",
              "      <th>h_0</th>\n",
              "      <th>h_1</th>\n",
              "      <th>h_2</th>\n",
              "      <th>h_3</th>\n",
              "      <th>h_4</th>\n",
              "      <th>h_5</th>\n",
              "      <th>h_6</th>\n",
              "      <th>h_7</th>\n",
              "      <th>h_8</th>\n",
              "      <th>h_9</th>\n",
              "      <th>...</th>\n",
              "      <th>h_20</th>\n",
              "      <th>h_21</th>\n",
              "      <th>h_22</th>\n",
              "      <th>h_23</th>\n",
              "      <th>h_24</th>\n",
              "      <th>h_25</th>\n",
              "      <th>h_26</th>\n",
              "      <th>h_27</th>\n",
              "      <th>h_28</th>\n",
              "      <th>status</th>\n",
              "    </tr>\n",
              "  </thead>\n",
              "  <tbody>\n",
              "    <tr>\n",
              "      <th>0</th>\n",
              "      <td>303.59</td>\n",
              "      <td>303.43</td>\n",
              "      <td>305.51</td>\n",
              "      <td>306.24</td>\n",
              "      <td>305.37</td>\n",
              "      <td>305.06</td>\n",
              "      <td>305.01</td>\n",
              "      <td>305.4</td>\n",
              "      <td>306.0</td>\n",
              "      <td>306.09</td>\n",
              "      <td>...</td>\n",
              "      <td>304.39</td>\n",
              "      <td>305.27</td>\n",
              "      <td>305.88</td>\n",
              "      <td>304.95</td>\n",
              "      <td>305.29</td>\n",
              "      <td>304.04</td>\n",
              "      <td>304.27</td>\n",
              "      <td>304.3</td>\n",
              "      <td>305.25</td>\n",
              "      <td>0.0</td>\n",
              "    </tr>\n",
              "    <tr>\n",
              "      <th>1</th>\n",
              "      <td>368.18</td>\n",
              "      <td>365.75</td>\n",
              "      <td>361.99</td>\n",
              "      <td>364.06</td>\n",
              "      <td>363.17</td>\n",
              "      <td>363.3</td>\n",
              "      <td>364.4</td>\n",
              "      <td>365.52</td>\n",
              "      <td>363.67</td>\n",
              "      <td>356.33</td>\n",
              "      <td>...</td>\n",
              "      <td>359.11</td>\n",
              "      <td>357.98</td>\n",
              "      <td>357.41</td>\n",
              "      <td>357.07</td>\n",
              "      <td>354.68</td>\n",
              "      <td>353.8</td>\n",
              "      <td>349.62</td>\n",
              "      <td>351.6</td>\n",
              "      <td>354.47</td>\n",
              "      <td>0.0</td>\n",
              "    </tr>\n",
              "    <tr>\n",
              "      <th>2</th>\n",
              "      <td>21.2989</td>\n",
              "      <td>21.3389</td>\n",
              "      <td>21.3376</td>\n",
              "      <td>21.2184</td>\n",
              "      <td>21.0715</td>\n",
              "      <td>21.0046</td>\n",
              "      <td>21.0328</td>\n",
              "      <td>21.0681</td>\n",
              "      <td>21.1238</td>\n",
              "      <td>21.013</td>\n",
              "      <td>...</td>\n",
              "      <td>21.1085</td>\n",
              "      <td>21.1412</td>\n",
              "      <td>21.127</td>\n",
              "      <td>21.026</td>\n",
              "      <td>21.08</td>\n",
              "      <td>21.0868</td>\n",
              "      <td>21.1969</td>\n",
              "      <td>21.0473</td>\n",
              "      <td>21.0621</td>\n",
              "      <td>0.0</td>\n",
              "    </tr>\n",
              "    <tr>\n",
              "      <th>3</th>\n",
              "      <td>16.7998</td>\n",
              "      <td>16.8058</td>\n",
              "      <td>16.7182</td>\n",
              "      <td>16.6321</td>\n",
              "      <td>16.6668</td>\n",
              "      <td>16.6284</td>\n",
              "      <td>16.6463</td>\n",
              "      <td>16.4354</td>\n",
              "      <td>16.473</td>\n",
              "      <td>16.3476</td>\n",
              "      <td>...</td>\n",
              "      <td>16.5478</td>\n",
              "      <td>16.5099</td>\n",
              "      <td>16.425</td>\n",
              "      <td>16.4874</td>\n",
              "      <td>16.4593</td>\n",
              "      <td>16.4595</td>\n",
              "      <td>16.4946</td>\n",
              "      <td>16.5199</td>\n",
              "      <td>16.5218</td>\n",
              "      <td>1.0</td>\n",
              "    </tr>\n",
              "    <tr>\n",
              "      <th>4</th>\n",
              "      <td>347.8</td>\n",
              "      <td>344.33</td>\n",
              "      <td>342.68</td>\n",
              "      <td>351.6</td>\n",
              "      <td>349.62</td>\n",
              "      <td>359.43</td>\n",
              "      <td>353.31</td>\n",
              "      <td>348.17</td>\n",
              "      <td>348.28</td>\n",
              "      <td>350.19</td>\n",
              "      <td>...</td>\n",
              "      <td>331.27</td>\n",
              "      <td>337.9</td>\n",
              "      <td>338.99</td>\n",
              "      <td>336.27</td>\n",
              "      <td>340.15</td>\n",
              "      <td>343.5</td>\n",
              "      <td>347.62</td>\n",
              "      <td>344.6</td>\n",
              "      <td>347.83</td>\n",
              "      <td>1.0</td>\n",
              "    </tr>\n",
              "  </tbody>\n",
              "</table>\n",
              "<p>5 rows × 30 columns</p>\n",
              "</div>"
            ],
            "text/plain": [
              "       h_0      h_1      h_2      h_3      h_4      h_5      h_6      h_7  \\\n",
              "0   303.59   303.43   305.51   306.24   305.37   305.06   305.01    305.4   \n",
              "1   368.18   365.75   361.99   364.06   363.17    363.3    364.4   365.52   \n",
              "2  21.2989  21.3389  21.3376  21.2184  21.0715  21.0046  21.0328  21.0681   \n",
              "3  16.7998  16.8058  16.7182  16.6321  16.6668  16.6284  16.6463  16.4354   \n",
              "4    347.8   344.33   342.68    351.6   349.62   359.43   353.31   348.17   \n",
              "\n",
              "       h_8      h_9  ...     h_20     h_21    h_22     h_23     h_24     h_25  \\\n",
              "0    306.0   306.09  ...   304.39   305.27  305.88   304.95   305.29   304.04   \n",
              "1   363.67   356.33  ...   359.11   357.98  357.41   357.07   354.68    353.8   \n",
              "2  21.1238   21.013  ...  21.1085  21.1412  21.127   21.026    21.08  21.0868   \n",
              "3   16.473  16.3476  ...  16.5478  16.5099  16.425  16.4874  16.4593  16.4595   \n",
              "4   348.28   350.19  ...   331.27    337.9  338.99   336.27   340.15    343.5   \n",
              "\n",
              "      h_26     h_27     h_28 status  \n",
              "0   304.27    304.3   305.25    0.0  \n",
              "1   349.62    351.6   354.47    0.0  \n",
              "2  21.1969  21.0473  21.0621    0.0  \n",
              "3  16.4946  16.5199  16.5218    1.0  \n",
              "4   347.62    344.6   347.83    1.0  \n",
              "\n",
              "[5 rows x 30 columns]"
            ]
          },
          "execution_count": 3,
          "metadata": {},
          "output_type": "execute_result"
        }
      ],
      "source": [
        "df.head()"
      ]
    },
    {
      "cell_type": "code",
      "execution_count": 4,
      "metadata": {
        "colab": {
          "base_uri": "https://localhost:8080/",
          "height": 299
        },
        "id": "gCxl-bzm6VrN",
        "outputId": "e3075fb3-ad6f-4cfe-ec7d-d4623590eabe"
      },
      "outputs": [
        {
          "data": {
            "text/html": [
              "<div>\n",
              "<style scoped>\n",
              "    .dataframe tbody tr th:only-of-type {\n",
              "        vertical-align: middle;\n",
              "    }\n",
              "\n",
              "    .dataframe tbody tr th {\n",
              "        vertical-align: top;\n",
              "    }\n",
              "\n",
              "    .dataframe thead th {\n",
              "        text-align: right;\n",
              "    }\n",
              "</style>\n",
              "<table border=\"1\" class=\"dataframe\">\n",
              "  <thead>\n",
              "    <tr style=\"text-align: right;\">\n",
              "      <th></th>\n",
              "      <th>h_0</th>\n",
              "      <th>h_1</th>\n",
              "      <th>h_2</th>\n",
              "      <th>h_3</th>\n",
              "      <th>h_4</th>\n",
              "      <th>h_5</th>\n",
              "      <th>h_6</th>\n",
              "      <th>h_7</th>\n",
              "      <th>h_8</th>\n",
              "      <th>h_9</th>\n",
              "      <th>...</th>\n",
              "      <th>h_20</th>\n",
              "      <th>h_21</th>\n",
              "      <th>h_22</th>\n",
              "      <th>h_23</th>\n",
              "      <th>h_24</th>\n",
              "      <th>h_25</th>\n",
              "      <th>h_26</th>\n",
              "      <th>h_27</th>\n",
              "      <th>h_28</th>\n",
              "      <th>status</th>\n",
              "    </tr>\n",
              "  </thead>\n",
              "  <tbody>\n",
              "    <tr>\n",
              "      <th>25169</th>\n",
              "      <td>400.4</td>\n",
              "      <td>391.6</td>\n",
              "      <td>396.2</td>\n",
              "      <td>390.6</td>\n",
              "      <td>390.0</td>\n",
              "      <td>402.4</td>\n",
              "      <td>403.3</td>\n",
              "      <td>406.8</td>\n",
              "      <td>402.5</td>\n",
              "      <td>406.2</td>\n",
              "      <td>...</td>\n",
              "      <td>414.9</td>\n",
              "      <td>418.4</td>\n",
              "      <td>413.3</td>\n",
              "      <td>415.2</td>\n",
              "      <td>417.8</td>\n",
              "      <td>420.0</td>\n",
              "      <td>418.9</td>\n",
              "      <td>419.7</td>\n",
              "      <td>416.1</td>\n",
              "      <td>0.0</td>\n",
              "    </tr>\n",
              "    <tr>\n",
              "      <th>25170</th>\n",
              "      <td>266.4001</td>\n",
              "      <td>266.5216</td>\n",
              "      <td>264.202</td>\n",
              "      <td>263.389</td>\n",
              "      <td>260.2649</td>\n",
              "      <td>260.97</td>\n",
              "      <td>258.7779</td>\n",
              "      <td>254.9954</td>\n",
              "      <td>255.2105</td>\n",
              "      <td>258.5394</td>\n",
              "      <td>...</td>\n",
              "      <td>259.5864</td>\n",
              "      <td>261.1792</td>\n",
              "      <td>256.149</td>\n",
              "      <td>256.4059</td>\n",
              "      <td>254.8381</td>\n",
              "      <td>256.7242</td>\n",
              "      <td>255.1824</td>\n",
              "      <td>252.22</td>\n",
              "      <td>254.663</td>\n",
              "      <td>1.0</td>\n",
              "    </tr>\n",
              "    <tr>\n",
              "      <th>25171</th>\n",
              "      <td>16.5206</td>\n",
              "      <td>16.4068</td>\n",
              "      <td>16.4221</td>\n",
              "      <td>16.4275</td>\n",
              "      <td>16.3441</td>\n",
              "      <td>16.3951</td>\n",
              "      <td>16.4389</td>\n",
              "      <td>16.4525</td>\n",
              "      <td>16.5334</td>\n",
              "      <td>16.549</td>\n",
              "      <td>...</td>\n",
              "      <td>17.0366</td>\n",
              "      <td>16.9165</td>\n",
              "      <td>16.8923</td>\n",
              "      <td>16.9117</td>\n",
              "      <td>16.96</td>\n",
              "      <td>16.9845</td>\n",
              "      <td>17.0035</td>\n",
              "      <td>16.9944</td>\n",
              "      <td>16.8813</td>\n",
              "      <td>1.0</td>\n",
              "    </tr>\n",
              "    <tr>\n",
              "      <th>25172</th>\n",
              "      <td>491.2</td>\n",
              "      <td>490.0</td>\n",
              "      <td>490.4</td>\n",
              "      <td>490.5</td>\n",
              "      <td>489.4</td>\n",
              "      <td>486.3</td>\n",
              "      <td>488.6</td>\n",
              "      <td>489.3</td>\n",
              "      <td>490.3</td>\n",
              "      <td>485.9</td>\n",
              "      <td>...</td>\n",
              "      <td>489.4</td>\n",
              "      <td>490.2</td>\n",
              "      <td>489.2</td>\n",
              "      <td>488.4</td>\n",
              "      <td>488.9</td>\n",
              "      <td>491.3</td>\n",
              "      <td>492.1</td>\n",
              "      <td>491.3</td>\n",
              "      <td>490.1</td>\n",
              "      <td>1.0</td>\n",
              "    </tr>\n",
              "    <tr>\n",
              "      <th>25173</th>\n",
              "      <td>19.4764</td>\n",
              "      <td>19.3266</td>\n",
              "      <td>19.4183</td>\n",
              "      <td>19.1933</td>\n",
              "      <td>18.9341</td>\n",
              "      <td>18.9185</td>\n",
              "      <td>19.1732</td>\n",
              "      <td>19.1031</td>\n",
              "      <td>19.1889</td>\n",
              "      <td>19.3896</td>\n",
              "      <td>...</td>\n",
              "      <td>19.1118</td>\n",
              "      <td>18.9595</td>\n",
              "      <td>18.9267</td>\n",
              "      <td>18.7632</td>\n",
              "      <td>18.8728</td>\n",
              "      <td>19.0281</td>\n",
              "      <td>18.7322</td>\n",
              "      <td>18.7235</td>\n",
              "      <td>18.287</td>\n",
              "      <td>1.0</td>\n",
              "    </tr>\n",
              "  </tbody>\n",
              "</table>\n",
              "<p>5 rows × 30 columns</p>\n",
              "</div>"
            ],
            "text/plain": [
              "            h_0       h_1      h_2      h_3       h_4      h_5       h_6  \\\n",
              "25169     400.4     391.6    396.2    390.6     390.0    402.4     403.3   \n",
              "25170  266.4001  266.5216  264.202  263.389  260.2649   260.97  258.7779   \n",
              "25171   16.5206   16.4068  16.4221  16.4275   16.3441  16.3951   16.4389   \n",
              "25172     491.2     490.0    490.4    490.5     489.4    486.3     488.6   \n",
              "25173   19.4764   19.3266  19.4183  19.1933   18.9341  18.9185   19.1732   \n",
              "\n",
              "            h_7       h_8       h_9  ...      h_20      h_21     h_22  \\\n",
              "25169     406.8     402.5     406.2  ...     414.9     418.4    413.3   \n",
              "25170  254.9954  255.2105  258.5394  ...  259.5864  261.1792  256.149   \n",
              "25171   16.4525   16.5334    16.549  ...   17.0366   16.9165  16.8923   \n",
              "25172     489.3     490.3     485.9  ...     489.4     490.2    489.2   \n",
              "25173   19.1031   19.1889   19.3896  ...   19.1118   18.9595  18.9267   \n",
              "\n",
              "           h_23      h_24      h_25      h_26     h_27     h_28 status  \n",
              "25169     415.2     417.8     420.0     418.9    419.7    416.1    0.0  \n",
              "25170  256.4059  254.8381  256.7242  255.1824   252.22  254.663    1.0  \n",
              "25171   16.9117     16.96   16.9845   17.0035  16.9944  16.8813    1.0  \n",
              "25172     488.4     488.9     491.3     492.1    491.3    490.1    1.0  \n",
              "25173   18.7632   18.8728   19.0281   18.7322  18.7235   18.287    1.0  \n",
              "\n",
              "[5 rows x 30 columns]"
            ]
          },
          "execution_count": 4,
          "metadata": {},
          "output_type": "execute_result"
        }
      ],
      "source": [
        "df.tail()"
      ]
    },
    {
      "cell_type": "code",
      "execution_count": 5,
      "metadata": {
        "colab": {
          "base_uri": "https://localhost:8080/"
        },
        "id": "6qlgaEPJ6cCB",
        "outputId": "32777d6c-fb5b-49a7-d18f-69b55041c50e"
      },
      "outputs": [
        {
          "data": {
            "text/plain": [
              "(25174, 30)"
            ]
          },
          "execution_count": 5,
          "metadata": {},
          "output_type": "execute_result"
        }
      ],
      "source": [
        "df.shape"
      ]
    },
    {
      "cell_type": "code",
      "execution_count": 6,
      "metadata": {
        "id": "PAO5NZV56div"
      },
      "outputs": [],
      "source": [
        "batas = df.values.shape[0] * 8//10\n",
        "x_train = df.values[ : batas, : -1]\n",
        "y_train = df.values[ : batas, -1]\n",
        "x_test = df.values[batas: , : -1]\n",
        "y_test = df.values[batas: , -1]"
      ]
    },
    {
      "cell_type": "code",
      "execution_count": 7,
      "metadata": {
        "colab": {
          "base_uri": "https://localhost:8080/"
        },
        "id": "VmSOi4GH7w2L",
        "outputId": "47bdab8e-5b6f-4f75-d1d0-2b61292dc7ac"
      },
      "outputs": [
        {
          "name": "stdout",
          "output_type": "stream",
          "text": [
            "(20139, 29)\n",
            "(20139,)\n",
            "(5035, 29)\n",
            "(5035,)\n"
          ]
        }
      ],
      "source": [
        "print(x_train.shape)\n",
        "print(y_train.shape)\n",
        "print(x_test.shape)\n",
        "print(y_test.shape)"
      ]
    },
    {
      "cell_type": "code",
      "execution_count": 8,
      "metadata": {
        "colab": {
          "base_uri": "https://localhost:8080/"
        },
        "id": "9sGL6MTe71if",
        "outputId": "073cc864-4f74-4b4b-ca18-d641e85e526e"
      },
      "outputs": [
        {
          "name": "stdout",
          "output_type": "stream",
          "text": [
            "[['303.59' '303.43' '305.51' ... '304.27' '304.3' '305.25']\n",
            " ['368.18' '365.75' '361.99' ... '349.62' '351.6' '354.47']\n",
            " ['21.2989' '21.3389' '21.3376' ... '21.1969' '21.0473' '21.0621']\n",
            " ...\n",
            " ['28.5735' '28.5972' '28.6613' ... '28.3654' '28.413' '28.3371']\n",
            " ['272.396' '273.6812' '273.8546' ... '298.0439' '298.7084' '301.7201']\n",
            " ['30.943' '30.6653' '30.5939' ... '30.9384' '31.0204' '31.059']]\n",
            "['0.0' '0.0' '0.0' ... '1.0' '1.0' '0.0']\n"
          ]
        }
      ],
      "source": [
        "print(x_train)\n",
        "print(y_train)"
      ]
    },
    {
      "cell_type": "code",
      "execution_count": 9,
      "metadata": {
        "colab": {
          "base_uri": "https://localhost:8080/"
        },
        "id": "EhOgtnAc8AEE",
        "outputId": "dad27185-d072-4810-961c-9f7b28587234"
      },
      "outputs": [
        {
          "data": {
            "text/plain": [
              "array(['1.0', '1.0', '1.0', ..., '1.0', '1.0', '1.0'], dtype='<U3')"
            ]
          },
          "execution_count": 9,
          "metadata": {},
          "output_type": "execute_result"
        }
      ],
      "source": [
        "from sklearn.naive_bayes import BernoulliNB\n",
        "nb = BernoulliNB()\n",
        "nb.fit(x_train, y_train)\n",
        "y_pred = nb.predict(x_test)\n",
        "y_pred"
      ]
    },
    {
      "cell_type": "code",
      "execution_count": 10,
      "metadata": {
        "colab": {
          "base_uri": "https://localhost:8080/"
        },
        "id": "jYQhuTB_8zl2",
        "outputId": "079bf960-5aaf-4e18-f1bd-cf5c4e9436bb"
      },
      "outputs": [
        {
          "data": {
            "text/plain": [
              "0.517974180734856"
            ]
          },
          "execution_count": 10,
          "metadata": {},
          "output_type": "execute_result"
        }
      ],
      "source": [
        "from sklearn.metrics import accuracy_score\n",
        "accuracy_score(y_pred, y_test)"
      ]
    },
    {
      "cell_type": "code",
      "execution_count": 11,
      "metadata": {
        "colab": {
          "base_uri": "https://localhost:8080/"
        },
        "id": "qcAMu5YO9Wu7",
        "outputId": "cb848688-9fac-4668-ed2c-6b763aa83a38"
      },
      "outputs": [
        {
          "name": "stdout",
          "output_type": "stream",
          "text": [
            "              precision    recall  f1-score   support\n",
            "\n",
            "         0.0       0.00      0.00      0.00      2427\n",
            "         1.0       0.52      1.00      0.68      2608\n",
            "\n",
            "    accuracy                           0.52      5035\n",
            "   macro avg       0.26      0.50      0.34      5035\n",
            "weighted avg       0.27      0.52      0.35      5035\n",
            "\n"
          ]
        },
        {
          "name": "stderr",
          "output_type": "stream",
          "text": [
            "c:\\Users\\Lenovo\\anaconda3\\envs\\python\\lib\\site-packages\\sklearn\\metrics\\_classification.py:1334: UndefinedMetricWarning: Precision and F-score are ill-defined and being set to 0.0 in labels with no predicted samples. Use `zero_division` parameter to control this behavior.\n",
            "  _warn_prf(average, modifier, msg_start, len(result))\n",
            "c:\\Users\\Lenovo\\anaconda3\\envs\\python\\lib\\site-packages\\sklearn\\metrics\\_classification.py:1334: UndefinedMetricWarning: Precision and F-score are ill-defined and being set to 0.0 in labels with no predicted samples. Use `zero_division` parameter to control this behavior.\n",
            "  _warn_prf(average, modifier, msg_start, len(result))\n",
            "c:\\Users\\Lenovo\\anaconda3\\envs\\python\\lib\\site-packages\\sklearn\\metrics\\_classification.py:1334: UndefinedMetricWarning: Precision and F-score are ill-defined and being set to 0.0 in labels with no predicted samples. Use `zero_division` parameter to control this behavior.\n",
            "  _warn_prf(average, modifier, msg_start, len(result))\n"
          ]
        }
      ],
      "source": [
        "from sklearn.metrics import classification_report\n",
        "print(classification_report(y_test, y_pred))"
      ]
    },
    {
      "cell_type": "code",
      "execution_count": 12,
      "metadata": {
        "colab": {
          "base_uri": "https://localhost:8080/"
        },
        "id": "gYRiLj829hU6",
        "outputId": "e9e1c25d-b88c-4b1c-9e48-d9a428c5636e"
      },
      "outputs": [
        {
          "data": {
            "text/plain": [
              "array(['1.0', '1.0', '1.0', ..., '1.0', '1.0', '1.0'], dtype='<U3')"
            ]
          },
          "execution_count": 12,
          "metadata": {},
          "output_type": "execute_result"
        }
      ],
      "source": [
        "from sklearn.naive_bayes import  MultinomialNB\n",
        "mb =  MultinomialNB()\n",
        "mb.fit(x_train, y_train)\n",
        "y_pred = mb.predict(x_test)\n",
        "y_pred"
      ]
    },
    {
      "cell_type": "code",
      "execution_count": 13,
      "metadata": {
        "colab": {
          "base_uri": "https://localhost:8080/"
        },
        "id": "BE6udVuG9-5Q",
        "outputId": "06eca7f4-b87a-4fac-b745-a48c407f5c7e"
      },
      "outputs": [
        {
          "data": {
            "text/plain": [
              "0.5217477656405164"
            ]
          },
          "execution_count": 13,
          "metadata": {},
          "output_type": "execute_result"
        }
      ],
      "source": [
        "from sklearn.metrics import accuracy_score\n",
        "accuracy_score(y_pred, y_test)"
      ]
    },
    {
      "cell_type": "code",
      "execution_count": 14,
      "metadata": {
        "colab": {
          "base_uri": "https://localhost:8080/"
        },
        "id": "suVtFFJW-Cmx",
        "outputId": "0db00558-b0f2-48aa-ee22-8070635a4bce"
      },
      "outputs": [
        {
          "name": "stdout",
          "output_type": "stream",
          "text": [
            "              precision    recall  f1-score   support\n",
            "\n",
            "         0.0       0.54      0.05      0.09      2427\n",
            "         1.0       0.52      0.96      0.68      2608\n",
            "\n",
            "    accuracy                           0.52      5035\n",
            "   macro avg       0.53      0.51      0.38      5035\n",
            "weighted avg       0.53      0.52      0.39      5035\n",
            "\n"
          ]
        }
      ],
      "source": [
        "from sklearn.metrics import classification_report\n",
        "print(classification_report(y_test, y_pred))"
      ]
    },
    {
      "cell_type": "code",
      "execution_count": 15,
      "metadata": {
        "colab": {
          "base_uri": "https://localhost:8080/"
        },
        "id": "m0AknJN7-Enx",
        "outputId": "1e942652-2d93-4b5a-d8aa-b5df1f5f1fac"
      },
      "outputs": [
        {
          "data": {
            "text/plain": [
              "array(['1.0', '1.0', '1.0', ..., '1.0', '0.0', '1.0'], dtype='<U3')"
            ]
          },
          "execution_count": 15,
          "metadata": {},
          "output_type": "execute_result"
        }
      ],
      "source": [
        "from sklearn.naive_bayes import GaussianNB \n",
        "gb =   GaussianNB()\n",
        "gb.fit(x_train, y_train)\n",
        "y_pred = gb.predict(x_test)\n",
        "y_pred"
      ]
    },
    {
      "cell_type": "code",
      "execution_count": 16,
      "metadata": {
        "colab": {
          "base_uri": "https://localhost:8080/"
        },
        "id": "w-EozIrd-cM7",
        "outputId": "d6a7c941-07ec-4a04-a80a-29cadcb0a975"
      },
      "outputs": [
        {
          "data": {
            "text/plain": [
              "0.5074478649453823"
            ]
          },
          "execution_count": 16,
          "metadata": {},
          "output_type": "execute_result"
        }
      ],
      "source": [
        "from sklearn.metrics import accuracy_score\n",
        "accuracy_score(y_pred, y_test)"
      ]
    },
    {
      "cell_type": "code",
      "execution_count": 17,
      "metadata": {
        "colab": {
          "base_uri": "https://localhost:8080/"
        },
        "id": "zoVz5AB0-eeE",
        "outputId": "fb6a30e8-3e9c-4548-b44c-c5a4b01cda3e"
      },
      "outputs": [
        {
          "name": "stdout",
          "output_type": "stream",
          "text": [
            "              precision    recall  f1-score   support\n",
            "\n",
            "         0.0       0.48      0.29      0.36      2427\n",
            "         1.0       0.52      0.71      0.60      2608\n",
            "\n",
            "    accuracy                           0.51      5035\n",
            "   macro avg       0.50      0.50      0.48      5035\n",
            "weighted avg       0.50      0.51      0.48      5035\n",
            "\n"
          ]
        }
      ],
      "source": [
        "from sklearn.metrics import classification_report\n",
        "print(classification_report(y_test, y_pred))"
      ]
    },
    {
      "cell_type": "code",
      "execution_count": 18,
      "metadata": {
        "colab": {
          "base_uri": "https://localhost:8080/"
        },
        "id": "xK7r-Vso-vUC",
        "outputId": "ac4e51b6-5b2f-4550-ff26-3c04da3b3744"
      },
      "outputs": [
        {
          "data": {
            "text/plain": [
              "array(['0.0', '0.0', '0.0', ..., '0.0', '0.0', '0.0'], dtype=object)"
            ]
          },
          "execution_count": 18,
          "metadata": {},
          "output_type": "execute_result"
        }
      ],
      "source": [
        "from sklearn.ensemble import BaggingClassifier\n",
        "bc = BaggingClassifier()\n",
        "bc.fit(x_train, y_train)\n",
        "y_pred = bc.predict(x_test)\n",
        "y_pred"
      ]
    },
    {
      "cell_type": "code",
      "execution_count": 20,
      "metadata": {
        "colab": {
          "base_uri": "https://localhost:8080/"
        },
        "id": "P-P-AhUIAGer",
        "outputId": "d48b8e93-7c4a-4b91-961e-d3c7d2a97db8"
      },
      "outputs": [
        {
          "data": {
            "text/plain": [
              "0.5443892750744787"
            ]
          },
          "execution_count": 20,
          "metadata": {},
          "output_type": "execute_result"
        }
      ],
      "source": [
        "from sklearn.metrics import accuracy_score\n",
        "accuracy_score(y_pred, y_test)"
      ]
    },
    {
      "cell_type": "code",
      "execution_count": 21,
      "metadata": {
        "colab": {
          "base_uri": "https://localhost:8080/"
        },
        "id": "zlb5q03vAT44",
        "outputId": "87840a27-8c0a-4207-8543-fa8f7b99c279"
      },
      "outputs": [
        {
          "name": "stdout",
          "output_type": "stream",
          "text": [
            "              precision    recall  f1-score   support\n",
            "\n",
            "         0.0       0.52      0.62      0.57      2427\n",
            "         1.0       0.57      0.48      0.52      2608\n",
            "\n",
            "    accuracy                           0.54      5035\n",
            "   macro avg       0.55      0.55      0.54      5035\n",
            "weighted avg       0.55      0.54      0.54      5035\n",
            "\n"
          ]
        }
      ],
      "source": [
        "from sklearn.metrics import classification_report\n",
        "print(classification_report(y_test, y_pred))"
      ]
    },
    {
      "cell_type": "code",
      "execution_count": 22,
      "metadata": {
        "colab": {
          "base_uri": "https://localhost:8080/"
        },
        "id": "g0xvYvA2AbUY",
        "outputId": "b108721f-fd39-499c-d5f0-ebdb58a3a9fe"
      },
      "outputs": [
        {
          "data": {
            "text/plain": [
              "array(['1.0', '0.0', '0.0', ..., '1.0', '1.0', '0.0'], dtype=object)"
            ]
          },
          "execution_count": 22,
          "metadata": {},
          "output_type": "execute_result"
        }
      ],
      "source": [
        "from sklearn.neighbors import KNeighborsClassifier\n",
        "knc = KNeighborsClassifier()\n",
        "knc.fit(x_train, y_train)\n",
        "y_pred = knc.predict(x_test)\n",
        "y_pred"
      ]
    },
    {
      "cell_type": "code",
      "execution_count": 23,
      "metadata": {
        "colab": {
          "base_uri": "https://localhost:8080/"
        },
        "id": "aqhLNcZ3AkAb",
        "outputId": "5da920a7-a7e9-4458-9a14-bf6bdb345985"
      },
      "outputs": [
        {
          "data": {
            "text/plain": [
              "0.5507447864945383"
            ]
          },
          "execution_count": 23,
          "metadata": {},
          "output_type": "execute_result"
        }
      ],
      "source": [
        "from sklearn.metrics import accuracy_score\n",
        "accuracy_score(y_pred, y_test)"
      ]
    },
    {
      "cell_type": "code",
      "execution_count": 24,
      "metadata": {
        "colab": {
          "base_uri": "https://localhost:8080/"
        },
        "id": "zPg_m7zYA5RO",
        "outputId": "838dcc15-8044-40e9-e9c6-2fd4cb06d400"
      },
      "outputs": [
        {
          "name": "stdout",
          "output_type": "stream",
          "text": [
            "              precision    recall  f1-score   support\n",
            "\n",
            "         0.0       0.53      0.53      0.53      2427\n",
            "         1.0       0.57      0.57      0.57      2608\n",
            "\n",
            "    accuracy                           0.55      5035\n",
            "   macro avg       0.55      0.55      0.55      5035\n",
            "weighted avg       0.55      0.55      0.55      5035\n",
            "\n"
          ]
        }
      ],
      "source": [
        "from sklearn.metrics import classification_report\n",
        "print(classification_report(y_test, y_pred))"
      ]
    },
    {
      "cell_type": "code",
      "execution_count": 28,
      "metadata": {
        "colab": {
          "base_uri": "https://localhost:8080/"
        },
        "id": "T86CXqTqBWcr",
        "outputId": "897eacb0-0b96-49a5-88eb-86ac50600d5c"
      },
      "outputs": [
        {
          "data": {
            "text/plain": [
              "array(['1.0', '0.0', '0.0', ..., '1.0', '0.0', '0.0'], dtype=object)"
            ]
          },
          "execution_count": 28,
          "metadata": {},
          "output_type": "execute_result"
        }
      ],
      "source": [
        "from sklearn.ensemble import ExtraTreesClassifier\n",
        "etc = ExtraTreesClassifier()\n",
        "etc.fit(x_train, y_train)\n",
        "y_pred = etc.predict(x_test)\n",
        "y_pred"
      ]
    },
    {
      "cell_type": "code",
      "execution_count": 63,
      "metadata": {
        "colab": {
          "base_uri": "https://localhost:8080/"
        },
        "id": "aVPdng9kBiLl",
        "outputId": "ab205bc2-3433-4d7b-bbe6-89b0e8ee99cb"
      },
      "outputs": [
        {
          "data": {
            "text/plain": [
              "0.5860973187686197"
            ]
          },
          "execution_count": 63,
          "metadata": {},
          "output_type": "execute_result"
        }
      ],
      "source": [
        "from sklearn.metrics import accuracy_score\n",
        "accuracy_score(y_pred, y_test)"
      ]
    },
    {
      "cell_type": "code",
      "execution_count": 64,
      "metadata": {
        "colab": {
          "base_uri": "https://localhost:8080/"
        },
        "id": "-hj0T5QTBsDJ",
        "outputId": "b600a58e-d9de-483a-ebc4-17c9c80fb0ca"
      },
      "outputs": [
        {
          "data": {
            "text/plain": [
              "array(['0.0', '0.0', '0.0', ..., '1.0', '0.0', '0.0'], dtype=object)"
            ]
          },
          "execution_count": 64,
          "metadata": {},
          "output_type": "execute_result"
        }
      ],
      "source": [
        "from sklearn.tree import DecisionTreeClassifier\n",
        "dtc = ExtraTreesClassifier()\n",
        "dtc.fit(x_train, y_train)\n",
        "y_pred = dtc.predict(x_test)\n",
        "y_pred"
      ]
    },
    {
      "cell_type": "code",
      "execution_count": 65,
      "metadata": {
        "colab": {
          "base_uri": "https://localhost:8080/"
        },
        "id": "GfQb61GSB0Cw",
        "outputId": "7d0cb589-1740-4364-ba48-753c8c1340e9"
      },
      "outputs": [
        {
          "data": {
            "text/plain": [
              "0.5924528301886792"
            ]
          },
          "execution_count": 65,
          "metadata": {},
          "output_type": "execute_result"
        }
      ],
      "source": [
        "from sklearn.metrics import accuracy_score\n",
        "accuracy_score(y_pred, y_test)"
      ]
    },
    {
      "cell_type": "code",
      "execution_count": 66,
      "metadata": {
        "colab": {
          "base_uri": "https://localhost:8080/"
        },
        "id": "xPYNiSp8CDbW",
        "outputId": "669d1caf-7999-4ee7-ad0f-4aa69f9f9520"
      },
      "outputs": [
        {
          "data": {
            "text/plain": [
              "array(['0.0', '0.0', '0.0', ..., '0.0', '0.0', '0.0'], dtype=object)"
            ]
          },
          "execution_count": 66,
          "metadata": {},
          "output_type": "execute_result"
        }
      ],
      "source": [
        "from sklearn.ensemble import AdaBoostClassifier\n",
        "abc = ExtraTreesClassifier()\n",
        "abc.fit(x_train, y_train)\n",
        "y_pred = abc.predict(x_test)\n",
        "y_pred"
      ]
    },
    {
      "cell_type": "code",
      "execution_count": 67,
      "metadata": {
        "colab": {
          "base_uri": "https://localhost:8080/"
        },
        "id": "vlHhA4taCOH7",
        "outputId": "4d619858-20b8-4e71-ccd9-934540b6ca0b"
      },
      "outputs": [
        {
          "data": {
            "text/plain": [
              "0.5803376365441907"
            ]
          },
          "execution_count": 67,
          "metadata": {},
          "output_type": "execute_result"
        }
      ],
      "source": [
        "from sklearn.metrics import accuracy_score\n",
        "accuracy_score(y_pred, y_test)"
      ]
    },
    {
      "cell_type": "code",
      "execution_count": 34,
      "metadata": {
        "colab": {
          "base_uri": "https://localhost:8080/"
        },
        "id": "tHdJBo1ECcir",
        "outputId": "708312e7-91e1-4fff-e903-f4817432bb84"
      },
      "outputs": [
        {
          "data": {
            "text/plain": [
              "array(['0.0', '0.0', '0.0', ..., '1.0', '0.0', '0.0'], dtype=object)"
            ]
          },
          "execution_count": 34,
          "metadata": {},
          "output_type": "execute_result"
        }
      ],
      "source": [
        "from sklearn.ensemble import GradientBoostingClassifier\n",
        "gbc = ExtraTreesClassifier()\n",
        "gbc.fit(x_train, y_train)\n",
        "y_pred = gbc.predict(x_test)\n",
        "y_pred"
      ]
    },
    {
      "cell_type": "code",
      "execution_count": 29,
      "metadata": {
        "colab": {
          "base_uri": "https://localhost:8080/"
        },
        "id": "CkUwXqbeCejw",
        "outputId": "872fdb16-3a35-4410-df08-d845cb52ff7b"
      },
      "outputs": [
        {
          "data": {
            "text/plain": [
              "0.5928500496524329"
            ]
          },
          "execution_count": 29,
          "metadata": {},
          "output_type": "execute_result"
        }
      ],
      "source": [
        "from sklearn.metrics import accuracy_score\n",
        "accuracy_score(y_pred, y_test)"
      ]
    },
    {
      "cell_type": "code",
      "execution_count": 31,
      "metadata": {
        "colab": {
          "base_uri": "https://localhost:8080/",
          "height": 488
        },
        "id": "3u0ZLuMHDEZk",
        "outputId": "6ae563f7-af73-4253-c33c-17552d296ca5"
      },
      "outputs": [
        {
          "data": {
            "text/html": [
              "<div>\n",
              "<style scoped>\n",
              "    .dataframe tbody tr th:only-of-type {\n",
              "        vertical-align: middle;\n",
              "    }\n",
              "\n",
              "    .dataframe tbody tr th {\n",
              "        vertical-align: top;\n",
              "    }\n",
              "\n",
              "    .dataframe thead th {\n",
              "        text-align: right;\n",
              "    }\n",
              "</style>\n",
              "<table border=\"1\" class=\"dataframe\">\n",
              "  <thead>\n",
              "    <tr style=\"text-align: right;\">\n",
              "      <th></th>\n",
              "      <th>x1</th>\n",
              "      <th>x2</th>\n",
              "      <th>x3</th>\n",
              "      <th>x4</th>\n",
              "      <th>x5</th>\n",
              "      <th>x6</th>\n",
              "      <th>x7</th>\n",
              "      <th>x8</th>\n",
              "      <th>x9</th>\n",
              "      <th>x10</th>\n",
              "      <th>x11</th>\n",
              "      <th>x12</th>\n",
              "      <th>x13</th>\n",
              "      <th>x14</th>\n",
              "      <th>x15</th>\n",
              "    </tr>\n",
              "  </thead>\n",
              "  <tbody>\n",
              "    <tr>\n",
              "      <th>0</th>\n",
              "      <td>0.727946</td>\n",
              "      <td>0.686626</td>\n",
              "      <td>0.024216</td>\n",
              "      <td>0.100513</td>\n",
              "      <td>0.147902</td>\n",
              "      <td>0.665157</td>\n",
              "      <td>0.886578</td>\n",
              "      <td>0.260210</td>\n",
              "      <td>0.913536</td>\n",
              "      <td>0.429281</td>\n",
              "      <td>0.386306</td>\n",
              "      <td>0.429745</td>\n",
              "      <td>0.343021</td>\n",
              "      <td>0.864288</td>\n",
              "      <td>0.697452</td>\n",
              "    </tr>\n",
              "    <tr>\n",
              "      <th>1</th>\n",
              "      <td>0.941029</td>\n",
              "      <td>0.754802</td>\n",
              "      <td>0.366608</td>\n",
              "      <td>0.740890</td>\n",
              "      <td>0.974596</td>\n",
              "      <td>0.915350</td>\n",
              "      <td>0.577117</td>\n",
              "      <td>0.735366</td>\n",
              "      <td>0.391742</td>\n",
              "      <td>0.174149</td>\n",
              "      <td>0.223679</td>\n",
              "      <td>0.258010</td>\n",
              "      <td>0.128411</td>\n",
              "      <td>0.811576</td>\n",
              "      <td>0.333199</td>\n",
              "    </tr>\n",
              "    <tr>\n",
              "      <th>2</th>\n",
              "      <td>0.916348</td>\n",
              "      <td>0.358660</td>\n",
              "      <td>0.739682</td>\n",
              "      <td>0.856455</td>\n",
              "      <td>0.664050</td>\n",
              "      <td>0.205057</td>\n",
              "      <td>0.813556</td>\n",
              "      <td>0.600975</td>\n",
              "      <td>0.198260</td>\n",
              "      <td>0.533929</td>\n",
              "      <td>0.773737</td>\n",
              "      <td>0.834379</td>\n",
              "      <td>0.099397</td>\n",
              "      <td>0.776432</td>\n",
              "      <td>0.587298</td>\n",
              "    </tr>\n",
              "    <tr>\n",
              "      <th>3</th>\n",
              "      <td>0.058222</td>\n",
              "      <td>0.547183</td>\n",
              "      <td>0.955704</td>\n",
              "      <td>0.359720</td>\n",
              "      <td>0.681179</td>\n",
              "      <td>0.896836</td>\n",
              "      <td>0.662055</td>\n",
              "      <td>0.219236</td>\n",
              "      <td>0.031028</td>\n",
              "      <td>0.697847</td>\n",
              "      <td>0.958580</td>\n",
              "      <td>0.961401</td>\n",
              "      <td>0.129365</td>\n",
              "      <td>0.772417</td>\n",
              "      <td>0.511966</td>\n",
              "    </tr>\n",
              "    <tr>\n",
              "      <th>4</th>\n",
              "      <td>0.557648</td>\n",
              "      <td>0.624826</td>\n",
              "      <td>0.745052</td>\n",
              "      <td>0.436090</td>\n",
              "      <td>0.534891</td>\n",
              "      <td>0.780279</td>\n",
              "      <td>0.547347</td>\n",
              "      <td>0.268654</td>\n",
              "      <td>0.038584</td>\n",
              "      <td>0.262723</td>\n",
              "      <td>0.077940</td>\n",
              "      <td>0.356210</td>\n",
              "      <td>0.843640</td>\n",
              "      <td>0.891141</td>\n",
              "      <td>0.792945</td>\n",
              "    </tr>\n",
              "    <tr>\n",
              "      <th>...</th>\n",
              "      <td>...</td>\n",
              "      <td>...</td>\n",
              "      <td>...</td>\n",
              "      <td>...</td>\n",
              "      <td>...</td>\n",
              "      <td>...</td>\n",
              "      <td>...</td>\n",
              "      <td>...</td>\n",
              "      <td>...</td>\n",
              "      <td>...</td>\n",
              "      <td>...</td>\n",
              "      <td>...</td>\n",
              "      <td>...</td>\n",
              "      <td>...</td>\n",
              "      <td>...</td>\n",
              "    </tr>\n",
              "    <tr>\n",
              "      <th>95</th>\n",
              "      <td>0.785373</td>\n",
              "      <td>0.402691</td>\n",
              "      <td>0.782925</td>\n",
              "      <td>0.212998</td>\n",
              "      <td>0.849573</td>\n",
              "      <td>0.152539</td>\n",
              "      <td>0.584820</td>\n",
              "      <td>0.895400</td>\n",
              "      <td>0.841433</td>\n",
              "      <td>0.107842</td>\n",
              "      <td>0.926987</td>\n",
              "      <td>0.174971</td>\n",
              "      <td>0.030061</td>\n",
              "      <td>0.171174</td>\n",
              "      <td>0.877303</td>\n",
              "    </tr>\n",
              "    <tr>\n",
              "      <th>96</th>\n",
              "      <td>0.253140</td>\n",
              "      <td>0.856330</td>\n",
              "      <td>0.576776</td>\n",
              "      <td>0.539771</td>\n",
              "      <td>0.356354</td>\n",
              "      <td>0.066467</td>\n",
              "      <td>0.253582</td>\n",
              "      <td>0.798379</td>\n",
              "      <td>0.613772</td>\n",
              "      <td>0.256492</td>\n",
              "      <td>0.296097</td>\n",
              "      <td>0.764711</td>\n",
              "      <td>0.711950</td>\n",
              "      <td>0.580367</td>\n",
              "      <td>0.127960</td>\n",
              "    </tr>\n",
              "    <tr>\n",
              "      <th>97</th>\n",
              "      <td>0.061796</td>\n",
              "      <td>0.670261</td>\n",
              "      <td>0.743501</td>\n",
              "      <td>0.399264</td>\n",
              "      <td>0.476149</td>\n",
              "      <td>0.493616</td>\n",
              "      <td>0.328327</td>\n",
              "      <td>0.794168</td>\n",
              "      <td>0.154664</td>\n",
              "      <td>0.087956</td>\n",
              "      <td>0.924150</td>\n",
              "      <td>0.879006</td>\n",
              "      <td>0.459027</td>\n",
              "      <td>0.506192</td>\n",
              "      <td>0.422560</td>\n",
              "    </tr>\n",
              "    <tr>\n",
              "      <th>98</th>\n",
              "      <td>0.538544</td>\n",
              "      <td>0.382744</td>\n",
              "      <td>0.202415</td>\n",
              "      <td>0.391646</td>\n",
              "      <td>0.684107</td>\n",
              "      <td>0.751968</td>\n",
              "      <td>0.606409</td>\n",
              "      <td>0.510221</td>\n",
              "      <td>0.678481</td>\n",
              "      <td>0.479012</td>\n",
              "      <td>0.894654</td>\n",
              "      <td>0.350216</td>\n",
              "      <td>0.469488</td>\n",
              "      <td>0.411628</td>\n",
              "      <td>0.110323</td>\n",
              "    </tr>\n",
              "    <tr>\n",
              "      <th>99</th>\n",
              "      <td>0.078016</td>\n",
              "      <td>0.926224</td>\n",
              "      <td>0.498698</td>\n",
              "      <td>0.786601</td>\n",
              "      <td>0.838572</td>\n",
              "      <td>0.060745</td>\n",
              "      <td>0.977161</td>\n",
              "      <td>0.314042</td>\n",
              "      <td>0.065172</td>\n",
              "      <td>0.814158</td>\n",
              "      <td>0.942060</td>\n",
              "      <td>0.390386</td>\n",
              "      <td>0.251813</td>\n",
              "      <td>0.383510</td>\n",
              "      <td>0.378478</td>\n",
              "    </tr>\n",
              "  </tbody>\n",
              "</table>\n",
              "<p>100 rows × 15 columns</p>\n",
              "</div>"
            ],
            "text/plain": [
              "          x1        x2        x3        x4        x5        x6        x7  \\\n",
              "0   0.727946  0.686626  0.024216  0.100513  0.147902  0.665157  0.886578   \n",
              "1   0.941029  0.754802  0.366608  0.740890  0.974596  0.915350  0.577117   \n",
              "2   0.916348  0.358660  0.739682  0.856455  0.664050  0.205057  0.813556   \n",
              "3   0.058222  0.547183  0.955704  0.359720  0.681179  0.896836  0.662055   \n",
              "4   0.557648  0.624826  0.745052  0.436090  0.534891  0.780279  0.547347   \n",
              "..       ...       ...       ...       ...       ...       ...       ...   \n",
              "95  0.785373  0.402691  0.782925  0.212998  0.849573  0.152539  0.584820   \n",
              "96  0.253140  0.856330  0.576776  0.539771  0.356354  0.066467  0.253582   \n",
              "97  0.061796  0.670261  0.743501  0.399264  0.476149  0.493616  0.328327   \n",
              "98  0.538544  0.382744  0.202415  0.391646  0.684107  0.751968  0.606409   \n",
              "99  0.078016  0.926224  0.498698  0.786601  0.838572  0.060745  0.977161   \n",
              "\n",
              "          x8        x9       x10       x11       x12       x13       x14  \\\n",
              "0   0.260210  0.913536  0.429281  0.386306  0.429745  0.343021  0.864288   \n",
              "1   0.735366  0.391742  0.174149  0.223679  0.258010  0.128411  0.811576   \n",
              "2   0.600975  0.198260  0.533929  0.773737  0.834379  0.099397  0.776432   \n",
              "3   0.219236  0.031028  0.697847  0.958580  0.961401  0.129365  0.772417   \n",
              "4   0.268654  0.038584  0.262723  0.077940  0.356210  0.843640  0.891141   \n",
              "..       ...       ...       ...       ...       ...       ...       ...   \n",
              "95  0.895400  0.841433  0.107842  0.926987  0.174971  0.030061  0.171174   \n",
              "96  0.798379  0.613772  0.256492  0.296097  0.764711  0.711950  0.580367   \n",
              "97  0.794168  0.154664  0.087956  0.924150  0.879006  0.459027  0.506192   \n",
              "98  0.510221  0.678481  0.479012  0.894654  0.350216  0.469488  0.411628   \n",
              "99  0.314042  0.065172  0.814158  0.942060  0.390386  0.251813  0.383510   \n",
              "\n",
              "         x15  \n",
              "0   0.697452  \n",
              "1   0.333199  \n",
              "2   0.587298  \n",
              "3   0.511966  \n",
              "4   0.792945  \n",
              "..       ...  \n",
              "95  0.877303  \n",
              "96  0.127960  \n",
              "97  0.422560  \n",
              "98  0.110323  \n",
              "99  0.378478  \n",
              "\n",
              "[100 rows x 15 columns]"
            ]
          },
          "execution_count": 31,
          "metadata": {},
          "output_type": "execute_result"
        }
      ],
      "source": [
        "data_soal = pd.read_csv('uts_test.csv')\n",
        "data_soal"
      ]
    },
    {
      "cell_type": "code",
      "execution_count": 32,
      "metadata": {
        "id": "gofZGudiDRs9"
      },
      "outputs": [],
      "source": [
        "data_tes = data_soal.values"
      ]
    },
    {
      "cell_type": "code",
      "execution_count": 36,
      "metadata": {
        "colab": {
          "base_uri": "https://localhost:8080/"
        },
        "id": "trhmVtEWCyxY",
        "outputId": "c82f18b8-d702-4acd-f75f-9428b46918cb"
      },
      "outputs": [
        {
          "ename": "ValueError",
          "evalue": "X has 15 features, but KNeighborsClassifier is expecting 29 features as input.",
          "output_type": "error",
          "traceback": [
            "\u001b[1;31m---------------------------------------------------------------------------\u001b[0m",
            "\u001b[1;31mValueError\u001b[0m                                Traceback (most recent call last)",
            "\u001b[1;32mc:\\Users\\Lenovo\\OneDrive\\Documents\\Programming\\02 - Tamplate PYTHON\\src\\Jupyter Notebook\\Machine Learning\\ipynb\\Quiz_1.ipynb Cell 34\u001b[0m in \u001b[0;36m<cell line: 1>\u001b[1;34m()\u001b[0m\n\u001b[1;32m----> <a href='vscode-notebook-cell:/c%3A/Users/Lenovo/OneDrive/Documents/Programming/02%20-%20Tamplate%20PYTHON/src/Jupyter%20Notebook/Machine%20Learning/ipynb/Quiz_1.ipynb#X50sZmlsZQ%3D%3D?line=0'>1</a>\u001b[0m prediksi \u001b[39m=\u001b[39m knc\u001b[39m.\u001b[39;49mpredict(data_tes)\n\u001b[0;32m      <a href='vscode-notebook-cell:/c%3A/Users/Lenovo/OneDrive/Documents/Programming/02%20-%20Tamplate%20PYTHON/src/Jupyter%20Notebook/Machine%20Learning/ipynb/Quiz_1.ipynb#X50sZmlsZQ%3D%3D?line=1'>2</a>\u001b[0m prediksi\n",
            "File \u001b[1;32mc:\\Users\\Lenovo\\anaconda3\\envs\\python\\lib\\site-packages\\sklearn\\neighbors\\_classification.py:226\u001b[0m, in \u001b[0;36mKNeighborsClassifier.predict\u001b[1;34m(self, X)\u001b[0m\n\u001b[0;32m    210\u001b[0m \u001b[39m\"\"\"Predict the class labels for the provided data.\u001b[39;00m\n\u001b[0;32m    211\u001b[0m \n\u001b[0;32m    212\u001b[0m \u001b[39mParameters\u001b[39;00m\n\u001b[1;32m   (...)\u001b[0m\n\u001b[0;32m    221\u001b[0m \u001b[39m    Class labels for each data sample.\u001b[39;00m\n\u001b[0;32m    222\u001b[0m \u001b[39m\"\"\"\u001b[39;00m\n\u001b[0;32m    223\u001b[0m \u001b[39mif\u001b[39;00m \u001b[39mself\u001b[39m\u001b[39m.\u001b[39mweights \u001b[39m==\u001b[39m \u001b[39m\"\u001b[39m\u001b[39muniform\u001b[39m\u001b[39m\"\u001b[39m:\n\u001b[0;32m    224\u001b[0m     \u001b[39m# In that case, we do not need the distances to perform\u001b[39;00m\n\u001b[0;32m    225\u001b[0m     \u001b[39m# the weighting so we do not compute them.\u001b[39;00m\n\u001b[1;32m--> 226\u001b[0m     neigh_ind \u001b[39m=\u001b[39m \u001b[39mself\u001b[39;49m\u001b[39m.\u001b[39;49mkneighbors(X, return_distance\u001b[39m=\u001b[39;49m\u001b[39mFalse\u001b[39;49;00m)\n\u001b[0;32m    227\u001b[0m     neigh_dist \u001b[39m=\u001b[39m \u001b[39mNone\u001b[39;00m\n\u001b[0;32m    228\u001b[0m \u001b[39melse\u001b[39;00m:\n",
            "File \u001b[1;32mc:\\Users\\Lenovo\\anaconda3\\envs\\python\\lib\\site-packages\\sklearn\\neighbors\\_base.py:745\u001b[0m, in \u001b[0;36mKNeighborsMixin.kneighbors\u001b[1;34m(self, X, n_neighbors, return_distance)\u001b[0m\n\u001b[0;32m    743\u001b[0m         X \u001b[39m=\u001b[39m _check_precomputed(X)\n\u001b[0;32m    744\u001b[0m     \u001b[39melse\u001b[39;00m:\n\u001b[1;32m--> 745\u001b[0m         X \u001b[39m=\u001b[39m \u001b[39mself\u001b[39;49m\u001b[39m.\u001b[39;49m_validate_data(X, accept_sparse\u001b[39m=\u001b[39;49m\u001b[39m\"\u001b[39;49m\u001b[39mcsr\u001b[39;49m\u001b[39m\"\u001b[39;49m, reset\u001b[39m=\u001b[39;49m\u001b[39mFalse\u001b[39;49;00m, order\u001b[39m=\u001b[39;49m\u001b[39m\"\u001b[39;49m\u001b[39mC\u001b[39;49m\u001b[39m\"\u001b[39;49m)\n\u001b[0;32m    747\u001b[0m n_samples_fit \u001b[39m=\u001b[39m \u001b[39mself\u001b[39m\u001b[39m.\u001b[39mn_samples_fit_\n\u001b[0;32m    748\u001b[0m \u001b[39mif\u001b[39;00m n_neighbors \u001b[39m>\u001b[39m n_samples_fit:\n",
            "File \u001b[1;32mc:\\Users\\Lenovo\\anaconda3\\envs\\python\\lib\\site-packages\\sklearn\\base.py:600\u001b[0m, in \u001b[0;36mBaseEstimator._validate_data\u001b[1;34m(self, X, y, reset, validate_separately, **check_params)\u001b[0m\n\u001b[0;32m    597\u001b[0m     out \u001b[39m=\u001b[39m X, y\n\u001b[0;32m    599\u001b[0m \u001b[39mif\u001b[39;00m \u001b[39mnot\u001b[39;00m no_val_X \u001b[39mand\u001b[39;00m check_params\u001b[39m.\u001b[39mget(\u001b[39m\"\u001b[39m\u001b[39mensure_2d\u001b[39m\u001b[39m\"\u001b[39m, \u001b[39mTrue\u001b[39;00m):\n\u001b[1;32m--> 600\u001b[0m     \u001b[39mself\u001b[39;49m\u001b[39m.\u001b[39;49m_check_n_features(X, reset\u001b[39m=\u001b[39;49mreset)\n\u001b[0;32m    602\u001b[0m \u001b[39mreturn\u001b[39;00m out\n",
            "File \u001b[1;32mc:\\Users\\Lenovo\\anaconda3\\envs\\python\\lib\\site-packages\\sklearn\\base.py:400\u001b[0m, in \u001b[0;36mBaseEstimator._check_n_features\u001b[1;34m(self, X, reset)\u001b[0m\n\u001b[0;32m    397\u001b[0m     \u001b[39mreturn\u001b[39;00m\n\u001b[0;32m    399\u001b[0m \u001b[39mif\u001b[39;00m n_features \u001b[39m!=\u001b[39m \u001b[39mself\u001b[39m\u001b[39m.\u001b[39mn_features_in_:\n\u001b[1;32m--> 400\u001b[0m     \u001b[39mraise\u001b[39;00m \u001b[39mValueError\u001b[39;00m(\n\u001b[0;32m    401\u001b[0m         \u001b[39mf\u001b[39m\u001b[39m\"\u001b[39m\u001b[39mX has \u001b[39m\u001b[39m{\u001b[39;00mn_features\u001b[39m}\u001b[39;00m\u001b[39m features, but \u001b[39m\u001b[39m{\u001b[39;00m\u001b[39mself\u001b[39m\u001b[39m.\u001b[39m\u001b[39m__class__\u001b[39m\u001b[39m.\u001b[39m\u001b[39m__name__\u001b[39m\u001b[39m}\u001b[39;00m\u001b[39m \u001b[39m\u001b[39m\"\u001b[39m\n\u001b[0;32m    402\u001b[0m         \u001b[39mf\u001b[39m\u001b[39m\"\u001b[39m\u001b[39mis expecting \u001b[39m\u001b[39m{\u001b[39;00m\u001b[39mself\u001b[39m\u001b[39m.\u001b[39mn_features_in_\u001b[39m}\u001b[39;00m\u001b[39m features as input.\u001b[39m\u001b[39m\"\u001b[39m\n\u001b[0;32m    403\u001b[0m     )\n",
            "\u001b[1;31mValueError\u001b[0m: X has 15 features, but KNeighborsClassifier is expecting 29 features as input."
          ]
        }
      ],
      "source": [
        "prediksi = knc.predict(data_tes)\n",
        "prediksi"
      ]
    },
    {
      "cell_type": "code",
      "execution_count": 73,
      "metadata": {
        "id": "-5aQdjolDf_Y"
      },
      "outputs": [],
      "source": [
        "jawaban = pd.DataFrame({\"Status\" : prediksi.ravel()})\n",
        "jawaban.to_csv(\"20102007.csv\", index=False)\n"
      ]
    },
    {
      "cell_type": "code",
      "execution_count": 74,
      "metadata": {},
      "outputs": [
        {
          "name": "stdout",
          "output_type": "stream",
          "text": [
            "\n"
          ]
        }
      ],
      "source": [
        "val = input(\"Enter your value: \")\n",
        "print(val)"
      ]
    },
    {
      "cell_type": "code",
      "execution_count": 75,
      "metadata": {},
      "outputs": [],
      "source": [
        "name = input('What is your name?\\n')     # \\n ---> newline  ---> It causes a line break\n",
        "print(name)"
      ]
    }
  ],
  "metadata": {
    "colab": {
      "collapsed_sections": [],
      "provenance": []
    },
    "kernelspec": {
      "display_name": "Python 3.10.6 ('python')",
      "language": "python",
      "name": "python3"
    },
    "language_info": {
      "codemirror_mode": {
        "name": "ipython",
        "version": 3
      },
      "file_extension": ".py",
      "mimetype": "text/x-python",
      "name": "python",
      "nbconvert_exporter": "python",
      "pygments_lexer": "ipython3",
      "version": "3.10.6"
    },
    "vscode": {
      "interpreter": {
        "hash": "45bf7f17dadebdc581538a04e72eec4af353140a24cf5b2bc98c1d568cfdbf7d"
      }
    }
  },
  "nbformat": 4,
  "nbformat_minor": 0
}

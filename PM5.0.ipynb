{
 "cells": [
  {
   "cell_type": "code",
   "execution_count": 1,
   "metadata": {},
   "outputs": [],
   "source": [
    "import pandas as pd"
   ]
  },
  {
   "cell_type": "code",
   "execution_count": 2,
   "metadata": {},
   "outputs": [
    {
     "data": {
      "text/html": [
       "<div>\n",
       "<style scoped>\n",
       "    .dataframe tbody tr th:only-of-type {\n",
       "        vertical-align: middle;\n",
       "    }\n",
       "\n",
       "    .dataframe tbody tr th {\n",
       "        vertical-align: top;\n",
       "    }\n",
       "\n",
       "    .dataframe thead th {\n",
       "        text-align: right;\n",
       "    }\n",
       "</style>\n",
       "<table border=\"1\" class=\"dataframe\">\n",
       "  <thead>\n",
       "    <tr style=\"text-align: right;\">\n",
       "      <th></th>\n",
       "      <th>x1</th>\n",
       "      <th>x2</th>\n",
       "      <th>y</th>\n",
       "    </tr>\n",
       "  </thead>\n",
       "  <tbody>\n",
       "    <tr>\n",
       "      <th>0</th>\n",
       "      <td>-0.365057</td>\n",
       "      <td>-0.319084</td>\n",
       "      <td>0.273112</td>\n",
       "    </tr>\n",
       "    <tr>\n",
       "      <th>1</th>\n",
       "      <td>1.915594</td>\n",
       "      <td>0.129009</td>\n",
       "      <td>1.657577</td>\n",
       "    </tr>\n",
       "    <tr>\n",
       "      <th>2</th>\n",
       "      <td>-1.416086</td>\n",
       "      <td>-0.431537</td>\n",
       "      <td>-0.553012</td>\n",
       "    </tr>\n",
       "    <tr>\n",
       "      <th>3</th>\n",
       "      <td>-1.453220</td>\n",
       "      <td>-1.454493</td>\n",
       "      <td>1.455766</td>\n",
       "    </tr>\n",
       "    <tr>\n",
       "      <th>4</th>\n",
       "      <td>1.301988</td>\n",
       "      <td>-0.301599</td>\n",
       "      <td>1.905186</td>\n",
       "    </tr>\n",
       "    <tr>\n",
       "      <th>...</th>\n",
       "      <td>...</td>\n",
       "      <td>...</td>\n",
       "      <td>...</td>\n",
       "    </tr>\n",
       "    <tr>\n",
       "      <th>145</th>\n",
       "      <td>0.454394</td>\n",
       "      <td>1.117911</td>\n",
       "      <td>-1.781428</td>\n",
       "    </tr>\n",
       "    <tr>\n",
       "      <th>146</th>\n",
       "      <td>-0.934667</td>\n",
       "      <td>-0.190650</td>\n",
       "      <td>-0.553367</td>\n",
       "    </tr>\n",
       "    <tr>\n",
       "      <th>147</th>\n",
       "      <td>1.929511</td>\n",
       "      <td>0.927888</td>\n",
       "      <td>0.073735</td>\n",
       "    </tr>\n",
       "    <tr>\n",
       "      <th>148</th>\n",
       "      <td>-0.872532</td>\n",
       "      <td>-1.033666</td>\n",
       "      <td>1.194801</td>\n",
       "    </tr>\n",
       "    <tr>\n",
       "      <th>149</th>\n",
       "      <td>0.881319</td>\n",
       "      <td>0.226273</td>\n",
       "      <td>0.428773</td>\n",
       "    </tr>\n",
       "  </tbody>\n",
       "</table>\n",
       "<p>150 rows × 3 columns</p>\n",
       "</div>"
      ],
      "text/plain": [
       "           x1        x2         y\n",
       "0   -0.365057 -0.319084  0.273112\n",
       "1    1.915594  0.129009  1.657577\n",
       "2   -1.416086 -0.431537 -0.553012\n",
       "3   -1.453220 -1.454493  1.455766\n",
       "4    1.301988 -0.301599  1.905186\n",
       "..        ...       ...       ...\n",
       "145  0.454394  1.117911 -1.781428\n",
       "146 -0.934667 -0.190650 -0.553367\n",
       "147  1.929511  0.927888  0.073735\n",
       "148 -0.872532 -1.033666  1.194801\n",
       "149  0.881319  0.226273  0.428773\n",
       "\n",
       "[150 rows x 3 columns]"
      ]
     },
     "execution_count": 2,
     "metadata": {},
     "output_type": "execute_result"
    }
   ],
   "source": [
    "df = pd.read_csv('csv/Latihan01.csv', decimal=',')\n",
    "df"
   ]
  },
  {
   "cell_type": "code",
   "execution_count": 3,
   "metadata": {},
   "outputs": [],
   "source": [
    "x = df.values[:,0:2].astype(float)\n",
    "y = df.values[:,-1].astype(float)"
   ]
  },
  {
   "cell_type": "code",
   "execution_count": 4,
   "metadata": {},
   "outputs": [
    {
     "name": "stdout",
     "output_type": "stream",
     "text": [
      "Model: \"sequential\"\n",
      "_________________________________________________________________\n",
      " Layer (type)                Output Shape              Param #   \n",
      "=================================================================\n",
      " dense (Dense)               (None, 8)                 24        \n",
      "                                                                 \n",
      " dense_1 (Dense)             (None, 8)                 72        \n",
      "                                                                 \n",
      " dense_2 (Dense)             (None, 4)                 36        \n",
      "                                                                 \n",
      " dense_3 (Dense)             (None, 4)                 20        \n",
      "                                                                 \n",
      " dense_4 (Dense)             (None, 1)                 5         \n",
      "                                                                 \n",
      "=================================================================\n",
      "Total params: 157\n",
      "Trainable params: 157\n",
      "Non-trainable params: 0\n",
      "_________________________________________________________________\n"
     ]
    }
   ],
   "source": [
    "from keras.models import Sequential\n",
    "from keras.layers import Dense\n",
    "\n",
    "model = Sequential()\n",
    "model.add(Dense(8,input_dim = 2, activation='relu'))\n",
    "model.add(Dense(8, activation = 'relu'))\n",
    "model.add(Dense(4, activation = 'relu'))\n",
    "model.add(Dense(4, activation = 'relu'))\n",
    "model.add(Dense(1, activation = 'linear'))\n",
    "model.compile(optimizer='adam', loss='mse')\n",
    "model.summary()\n"
   ]
  },
  {
   "cell_type": "code",
   "execution_count": 5,
   "metadata": {},
   "outputs": [
    {
     "name": "stdout",
     "output_type": "stream",
     "text": [
      "Epoch 1/50\n",
      "127/127 [==============================] - 2s 6ms/step - loss: 6.3225 - val_loss: 3.5485\n",
      "Epoch 2/50\n",
      "127/127 [==============================] - 0s 2ms/step - loss: 5.7845 - val_loss: 3.2152\n",
      "Epoch 3/50\n",
      "127/127 [==============================] - 0s 3ms/step - loss: 4.4675 - val_loss: 2.4725\n",
      "Epoch 4/50\n",
      "127/127 [==============================] - 0s 3ms/step - loss: 2.4140 - val_loss: 1.4551\n",
      "Epoch 5/50\n",
      "127/127 [==============================] - 0s 4ms/step - loss: 1.1216 - val_loss: 0.8113\n",
      "Epoch 6/50\n",
      "127/127 [==============================] - 0s 2ms/step - loss: 0.6008 - val_loss: 0.4128\n",
      "Epoch 7/50\n",
      "127/127 [==============================] - 0s 3ms/step - loss: 0.3343 - val_loss: 0.2250\n",
      "Epoch 8/50\n",
      "127/127 [==============================] - 1s 4ms/step - loss: 0.2110 - val_loss: 0.1412\n",
      "Epoch 9/50\n",
      "127/127 [==============================] - 0s 3ms/step - loss: 0.1389 - val_loss: 0.1045\n",
      "Epoch 10/50\n",
      "127/127 [==============================] - 1s 4ms/step - loss: 0.1080 - val_loss: 0.1005\n",
      "Epoch 11/50\n",
      "127/127 [==============================] - 0s 4ms/step - loss: 0.0869 - val_loss: 0.0889\n",
      "Epoch 12/50\n",
      "127/127 [==============================] - 0s 4ms/step - loss: 0.0747 - val_loss: 0.0812\n",
      "Epoch 13/50\n",
      "127/127 [==============================] - 0s 4ms/step - loss: 0.0684 - val_loss: 0.0735\n",
      "Epoch 14/50\n",
      "127/127 [==============================] - 0s 3ms/step - loss: 0.0595 - val_loss: 0.0703\n",
      "Epoch 15/50\n",
      "127/127 [==============================] - 0s 4ms/step - loss: 0.0591 - val_loss: 0.0812\n",
      "Epoch 16/50\n",
      "127/127 [==============================] - 0s 3ms/step - loss: 0.0524 - val_loss: 0.0637\n",
      "Epoch 17/50\n",
      "127/127 [==============================] - 0s 2ms/step - loss: 0.0458 - val_loss: 0.0713\n",
      "Epoch 18/50\n",
      "127/127 [==============================] - 0s 3ms/step - loss: 0.0414 - val_loss: 0.0581\n",
      "Epoch 19/50\n",
      "127/127 [==============================] - 0s 3ms/step - loss: 0.0373 - val_loss: 0.0974\n",
      "Epoch 20/50\n",
      "127/127 [==============================] - 0s 3ms/step - loss: 0.0394 - val_loss: 0.0731\n",
      "Epoch 21/50\n",
      "127/127 [==============================] - 0s 3ms/step - loss: 0.0380 - val_loss: 0.0518\n",
      "Epoch 22/50\n",
      "127/127 [==============================] - 0s 4ms/step - loss: 0.0304 - val_loss: 0.0409\n",
      "Epoch 23/50\n",
      "127/127 [==============================] - 0s 3ms/step - loss: 0.0294 - val_loss: 0.0646\n",
      "Epoch 24/50\n",
      "127/127 [==============================] - 0s 4ms/step - loss: 0.0302 - val_loss: 0.0393\n",
      "Epoch 25/50\n",
      "127/127 [==============================] - 0s 3ms/step - loss: 0.0277 - val_loss: 0.0460\n",
      "Epoch 26/50\n",
      "127/127 [==============================] - 0s 3ms/step - loss: 0.0269 - val_loss: 0.0403\n",
      "Epoch 27/50\n",
      "127/127 [==============================] - 0s 3ms/step - loss: 0.0241 - val_loss: 0.0318\n",
      "Epoch 28/50\n",
      "127/127 [==============================] - 0s 2ms/step - loss: 0.0274 - val_loss: 0.0373\n",
      "Epoch 29/50\n",
      "127/127 [==============================] - 0s 2ms/step - loss: 0.0198 - val_loss: 0.0496\n",
      "Epoch 30/50\n",
      "127/127 [==============================] - 0s 2ms/step - loss: 0.0214 - val_loss: 0.0297\n",
      "Epoch 31/50\n",
      "127/127 [==============================] - 0s 2ms/step - loss: 0.0178 - val_loss: 0.0369\n",
      "Epoch 32/50\n",
      "127/127 [==============================] - 0s 2ms/step - loss: 0.0178 - val_loss: 0.0254\n",
      "Epoch 33/50\n",
      "127/127 [==============================] - 0s 2ms/step - loss: 0.0181 - val_loss: 0.0252\n",
      "Epoch 34/50\n",
      "127/127 [==============================] - 0s 2ms/step - loss: 0.0192 - val_loss: 0.0269\n",
      "Epoch 35/50\n",
      "127/127 [==============================] - 0s 2ms/step - loss: 0.0162 - val_loss: 0.0227\n",
      "Epoch 36/50\n",
      "127/127 [==============================] - 0s 2ms/step - loss: 0.0140 - val_loss: 0.0222\n",
      "Epoch 37/50\n",
      "127/127 [==============================] - 0s 2ms/step - loss: 0.0128 - val_loss: 0.0218\n",
      "Epoch 38/50\n",
      "127/127 [==============================] - 0s 2ms/step - loss: 0.0147 - val_loss: 0.0219\n",
      "Epoch 39/50\n",
      "127/127 [==============================] - 0s 2ms/step - loss: 0.0104 - val_loss: 0.0216\n",
      "Epoch 40/50\n",
      "127/127 [==============================] - 0s 3ms/step - loss: 0.0139 - val_loss: 0.0262\n",
      "Epoch 41/50\n",
      "127/127 [==============================] - 0s 4ms/step - loss: 0.0095 - val_loss: 0.0204\n",
      "Epoch 42/50\n",
      "127/127 [==============================] - 0s 2ms/step - loss: 0.0140 - val_loss: 0.0221\n",
      "Epoch 43/50\n",
      "127/127 [==============================] - 0s 2ms/step - loss: 0.0106 - val_loss: 0.0217\n",
      "Epoch 44/50\n",
      "127/127 [==============================] - 0s 3ms/step - loss: 0.0097 - val_loss: 0.0285\n",
      "Epoch 45/50\n",
      "127/127 [==============================] - 0s 3ms/step - loss: 0.0147 - val_loss: 0.0130\n",
      "Epoch 46/50\n",
      "127/127 [==============================] - 0s 2ms/step - loss: 0.0082 - val_loss: 0.0235\n",
      "Epoch 47/50\n",
      "127/127 [==============================] - 0s 2ms/step - loss: 0.0104 - val_loss: 0.0198\n",
      "Epoch 48/50\n",
      "127/127 [==============================] - 0s 2ms/step - loss: 0.0104 - val_loss: 0.0137\n",
      "Epoch 49/50\n",
      "127/127 [==============================] - 0s 2ms/step - loss: 0.0095 - val_loss: 0.0216\n",
      "Epoch 50/50\n",
      "127/127 [==============================] - 0s 3ms/step - loss: 0.0074 - val_loss: 0.0210\n"
     ]
    },
    {
     "data": {
      "text/plain": [
       "<keras.callbacks.History at 0x1caa50e99f0>"
      ]
     },
     "execution_count": 5,
     "metadata": {},
     "output_type": "execute_result"
    }
   ],
   "source": [
    "model.fit(\n",
    "    x,\n",
    "    y,\n",
    "    batch_size = 1,\n",
    "    epochs = 50,\n",
    "    validation_split = 0.15\n",
    ")"
   ]
  },
  {
   "cell_type": "code",
   "execution_count": 6,
   "metadata": {},
   "outputs": [
    {
     "name": "stdout",
     "output_type": "stream",
     "text": [
      "1/1 [==============================] - 0s 272ms/step\n"
     ]
    },
    {
     "data": {
      "text/plain": [
       "array([[-0.11711106],\n",
       "       [-3.200254  ]], dtype=float32)"
      ]
     },
     "execution_count": 6,
     "metadata": {},
     "output_type": "execute_result"
    }
   ],
   "source": [
    "model.predict([[2,1],[1,2]])"
   ]
  },
  {
   "cell_type": "code",
   "execution_count": 7,
   "metadata": {},
   "outputs": [],
   "source": [
    "model.save_weights('df.h5')"
   ]
  }
 ],
 "metadata": {
  "kernelspec": {
   "display_name": "Python 3.10.6 ('python')",
   "language": "python",
   "name": "python3"
  },
  "language_info": {
   "codemirror_mode": {
    "name": "ipython",
    "version": 3
   },
   "file_extension": ".py",
   "mimetype": "text/x-python",
   "name": "python",
   "nbconvert_exporter": "python",
   "pygments_lexer": "ipython3",
   "version": "3.10.6"
  },
  "orig_nbformat": 4,
  "vscode": {
   "interpreter": {
    "hash": "45bf7f17dadebdc581538a04e72eec4af353140a24cf5b2bc98c1d568cfdbf7d"
   }
  }
 },
 "nbformat": 4,
 "nbformat_minor": 2
}
